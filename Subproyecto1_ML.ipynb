{
 "cells": [
  {
   "cell_type": "markdown",
   "metadata": {
    "id": "EaV6gCugBmuW"
   },
   "source": [
    "# <center> Bienes Raices - Mercado Australiano - Prediccion de Precios - Regresion Avanzada"
   ]
  },
  {
   "cell_type": "markdown",
   "metadata": {
    "id": "0WxVoe47BoYM"
   },
   "source": [
    "# Tabla de Contenido\n",
    "\n",
    "1. [Introduccion](#Introduccion)\n",
    "2. [Configuracion e Instalacion](#Configuracion-e-Instalacion)\n",
    "3. [Entendimiento de los Datos](#Entendimiento-de-los-Datos)  \n",
    "4. [Manipulacion y Limpieza de Datos](#Manipulacion-y-Limpieza-de-Datos)\n",
    "    1. [Dropping Data](#Dropping-Data)\n",
    "    2. [Derived Data](#Derived-Data)\n",
    "5. [Analisis de Datos](#Analisis-de-Datos)\n",
    "    1. [Analisis-Univariable](#Analisis-Univariable)\n",
    "        1. [Plot Numeric Data](#Plot-Numeric-Data)\n",
    "        2. [Plot Categorical Data](#Plot-Categorical-Data)\n",
    "    2. [Analisis-Bivariable](#Analisis-Bivariable)\n",
    "6. [Preparacion de Datos y Modelado](#Preparacion-de-Datos-y-Modelado)\n",
    "    1. [Splitting data into Train Test](#Splitting-data-into-Train-Test)\n",
    "7. [Construccion-del-Modelo](#Model-Building)\n",
    "    1. [Ridge Regression](#Ridge-Regression)\n",
    "    2. [Lasso Regression](#Lasso-Regression)\n",
    "8. [Conclusions y Observaciones](#Conclusiones-y-Observaciones)"
   ]
  },
  {
   "cell_type": "markdown",
   "metadata": {
    "id": "3Eio8YAHBunt"
   },
   "source": [
    "# **1.Introduccion**\n",
    "\n",
    "### Integrates de Grupo:\n",
    "* Jose Ignacio Rios Villanueva (rios.v.ignacio@gmail.com)\n",
    "* Saul Enrique Quiroz Castillo (saul85dt@gmail.com)\n",
    "* Marco Antonio Villarroel Peña (marco.gerenssa@gmail.com)\n",
    "\n"
   ]
  },
  {
   "cell_type": "markdown",
   "metadata": {
    "id": "rUqlMPWxByhl"
   },
   "source": [
    "## Entendimiento del Negocio\n",
    "Una empresa de vivienda con sede en EE. UU. llamada Surprise Housing ha decidido ingresar al mercado australiano. La empresa utiliza el análisis de datos para comprar casas a un precio inferior a sus valores reales y venderlas a un precio más alto. Con el mismo propósito, la empresa ha recopilado un conjunto de datos de la venta de casas en Australia. Los datos se proporcionan en el archivo CSV a continuación.\n",
    "\n",
    "La compañía está buscando posibles propiedades para comprar e ingresar al mercado. Debe construir un modelo de regresión utilizando la regularización para predecir el valor real de las posibles propiedades y decidir si invertir en ellas o no.\n",
    "\n",
    "La empresa quiere saber:\n",
    "\n",
    "* Qué variables son significativas para predecir el precio de una casa, y\n",
    "* Qué tan bien esas variables describen el precio de una casa.\n",
    "\n",
    "Además, determine el valor óptimo de lambda para la regresión de Ridge y Lasso.\n",
    "\n",
    "### Objetivo del Negocio:\n",
    "\n",
    "Debe modelar el precio de las casas con las variables independientes disponibles. Luego, la gerencia utilizará este modelo para comprender cómo varían exactamente los precios con las variables. En consecuencia, pueden manipular la estrategia de la empresa y concentrarse en áreas que generarán altos rendimientos. Además, el modelo será una buena manera para que la gerencia entienda la dinámica de precios de un nuevo mercado."
   ]
  },
  {
   "cell_type": "markdown",
   "metadata": {
    "id": "lNa1J6a1B4Fl"
   },
   "source": [
    "# **2. Configuracion e Instalacion**"
   ]
  },
  {
   "cell_type": "code",
   "execution_count": 25,
   "metadata": {
    "executionInfo": {
     "elapsed": 11797,
     "status": "ok",
     "timestamp": 1761261957164,
     "user": {
      "displayName": "Marco Villarroel",
      "userId": "02234616539294282296"
     },
     "user_tz": 240
    },
    "id": "_QnpBldqCQ-X"
   },
   "outputs": [
    {
     "name": "stdout",
     "output_type": "stream",
     "text": [
      "Requirement already satisfied: numpy in c:\\users\\ignacio\\appdata\\local\\packages\\pythonsoftwarefoundation.python.3.11_qbz5n2kfra8p0\\localcache\\local-packages\\python311\\site-packages (2.3.3)\n",
      "Requirement already satisfied: pandas in c:\\users\\ignacio\\appdata\\local\\packages\\pythonsoftwarefoundation.python.3.11_qbz5n2kfra8p0\\localcache\\local-packages\\python311\\site-packages (2.3.2)\n",
      "Requirement already satisfied: matplotlib in c:\\users\\ignacio\\appdata\\local\\packages\\pythonsoftwarefoundation.python.3.11_qbz5n2kfra8p0\\localcache\\local-packages\\python311\\site-packages (3.10.7)\n",
      "Requirement already satisfied: plotly in c:\\users\\ignacio\\appdata\\local\\packages\\pythonsoftwarefoundation.python.3.11_qbz5n2kfra8p0\\localcache\\local-packages\\python311\\site-packages (6.3.1)\n",
      "Requirement already satisfied: scipy in c:\\users\\ignacio\\appdata\\local\\packages\\pythonsoftwarefoundation.python.3.11_qbz5n2kfra8p0\\localcache\\local-packages\\python311\\site-packages (1.16.2)\n",
      "Requirement already satisfied: scikit-learn in c:\\users\\ignacio\\appdata\\local\\packages\\pythonsoftwarefoundation.python.3.11_qbz5n2kfra8p0\\localcache\\local-packages\\python311\\site-packages (1.7.2)\n",
      "Requirement already satisfied: statsmodels in c:\\users\\ignacio\\appdata\\local\\packages\\pythonsoftwarefoundation.python.3.11_qbz5n2kfra8p0\\localcache\\local-packages\\python311\\site-packages (0.14.5)\n",
      "Requirement already satisfied: python-dateutil>=2.8.2 in c:\\users\\ignacio\\appdata\\local\\packages\\pythonsoftwarefoundation.python.3.11_qbz5n2kfra8p0\\localcache\\local-packages\\python311\\site-packages (from pandas) (2.9.0.post0)\n",
      "Requirement already satisfied: pytz>=2020.1 in c:\\users\\ignacio\\appdata\\local\\packages\\pythonsoftwarefoundation.python.3.11_qbz5n2kfra8p0\\localcache\\local-packages\\python311\\site-packages (from pandas) (2025.2)\n",
      "Requirement already satisfied: tzdata>=2022.7 in c:\\users\\ignacio\\appdata\\local\\packages\\pythonsoftwarefoundation.python.3.11_qbz5n2kfra8p0\\localcache\\local-packages\\python311\\site-packages (from pandas) (2025.2)\n",
      "Requirement already satisfied: contourpy>=1.0.1 in c:\\users\\ignacio\\appdata\\local\\packages\\pythonsoftwarefoundation.python.3.11_qbz5n2kfra8p0\\localcache\\local-packages\\python311\\site-packages (from matplotlib) (1.3.3)\n",
      "Requirement already satisfied: cycler>=0.10 in c:\\users\\ignacio\\appdata\\local\\packages\\pythonsoftwarefoundation.python.3.11_qbz5n2kfra8p0\\localcache\\local-packages\\python311\\site-packages (from matplotlib) (0.12.1)\n",
      "Requirement already satisfied: fonttools>=4.22.0 in c:\\users\\ignacio\\appdata\\local\\packages\\pythonsoftwarefoundation.python.3.11_qbz5n2kfra8p0\\localcache\\local-packages\\python311\\site-packages (from matplotlib) (4.60.1)\n",
      "Requirement already satisfied: kiwisolver>=1.3.1 in c:\\users\\ignacio\\appdata\\local\\packages\\pythonsoftwarefoundation.python.3.11_qbz5n2kfra8p0\\localcache\\local-packages\\python311\\site-packages (from matplotlib) (1.4.9)\n",
      "Requirement already satisfied: packaging>=20.0 in c:\\users\\ignacio\\appdata\\local\\packages\\pythonsoftwarefoundation.python.3.11_qbz5n2kfra8p0\\localcache\\local-packages\\python311\\site-packages (from matplotlib) (25.0)\n",
      "Requirement already satisfied: pillow>=8 in c:\\users\\ignacio\\appdata\\local\\packages\\pythonsoftwarefoundation.python.3.11_qbz5n2kfra8p0\\localcache\\local-packages\\python311\\site-packages (from matplotlib) (12.0.0)\n",
      "Requirement already satisfied: pyparsing>=3 in c:\\users\\ignacio\\appdata\\local\\packages\\pythonsoftwarefoundation.python.3.11_qbz5n2kfra8p0\\localcache\\local-packages\\python311\\site-packages (from matplotlib) (3.2.5)\n",
      "Requirement already satisfied: narwhals>=1.15.1 in c:\\users\\ignacio\\appdata\\local\\packages\\pythonsoftwarefoundation.python.3.11_qbz5n2kfra8p0\\localcache\\local-packages\\python311\\site-packages (from plotly) (2.9.0)\n",
      "Requirement already satisfied: joblib>=1.2.0 in c:\\users\\ignacio\\appdata\\local\\packages\\pythonsoftwarefoundation.python.3.11_qbz5n2kfra8p0\\localcache\\local-packages\\python311\\site-packages (from scikit-learn) (1.5.2)\n",
      "Requirement already satisfied: threadpoolctl>=3.1.0 in c:\\users\\ignacio\\appdata\\local\\packages\\pythonsoftwarefoundation.python.3.11_qbz5n2kfra8p0\\localcache\\local-packages\\python311\\site-packages (from scikit-learn) (3.6.0)\n",
      "Requirement already satisfied: patsy>=0.5.6 in c:\\users\\ignacio\\appdata\\local\\packages\\pythonsoftwarefoundation.python.3.11_qbz5n2kfra8p0\\localcache\\local-packages\\python311\\site-packages (from statsmodels) (1.0.2)\n",
      "Requirement already satisfied: six>=1.5 in c:\\users\\ignacio\\appdata\\local\\packages\\pythonsoftwarefoundation.python.3.11_qbz5n2kfra8p0\\localcache\\local-packages\\python311\\site-packages (from python-dateutil>=2.8.2->pandas) (1.17.0)\n"
     ]
    },
    {
     "name": "stderr",
     "output_type": "stream",
     "text": [
      "\n",
      "[notice] A new release of pip is available: 24.0 -> 25.2\n",
      "[notice] To update, run: C:\\Users\\Ignacio\\AppData\\Local\\Microsoft\\WindowsApps\\PythonSoftwareFoundation.Python.3.11_qbz5n2kfra8p0\\python.exe -m pip install --upgrade pip\n"
     ]
    },
    {
     "name": "stdout",
     "output_type": "stream",
     "text": [
      "Requirement already satisfied: nbformat in c:\\users\\ignacio\\appdata\\local\\packages\\pythonsoftwarefoundation.python.3.11_qbz5n2kfra8p0\\localcache\\local-packages\\python311\\site-packages (5.10.4)\n",
      "Requirement already satisfied: plotly in c:\\users\\ignacio\\appdata\\local\\packages\\pythonsoftwarefoundation.python.3.11_qbz5n2kfra8p0\\localcache\\local-packages\\python311\\site-packages (6.3.1)\n",
      "Requirement already satisfied: fastjsonschema>=2.15 in c:\\users\\ignacio\\appdata\\local\\packages\\pythonsoftwarefoundation.python.3.11_qbz5n2kfra8p0\\localcache\\local-packages\\python311\\site-packages (from nbformat) (2.21.2)\n",
      "Requirement already satisfied: jsonschema>=2.6 in c:\\users\\ignacio\\appdata\\local\\packages\\pythonsoftwarefoundation.python.3.11_qbz5n2kfra8p0\\localcache\\local-packages\\python311\\site-packages (from nbformat) (4.25.1)\n",
      "Requirement already satisfied: jupyter-core!=5.0.*,>=4.12 in c:\\users\\ignacio\\appdata\\local\\packages\\pythonsoftwarefoundation.python.3.11_qbz5n2kfra8p0\\localcache\\local-packages\\python311\\site-packages (from nbformat) (5.8.1)\n",
      "Requirement already satisfied: traitlets>=5.1 in c:\\users\\ignacio\\appdata\\local\\packages\\pythonsoftwarefoundation.python.3.11_qbz5n2kfra8p0\\localcache\\local-packages\\python311\\site-packages (from nbformat) (5.14.3)\n",
      "Requirement already satisfied: narwhals>=1.15.1 in c:\\users\\ignacio\\appdata\\local\\packages\\pythonsoftwarefoundation.python.3.11_qbz5n2kfra8p0\\localcache\\local-packages\\python311\\site-packages (from plotly) (2.9.0)\n",
      "Requirement already satisfied: packaging in c:\\users\\ignacio\\appdata\\local\\packages\\pythonsoftwarefoundation.python.3.11_qbz5n2kfra8p0\\localcache\\local-packages\\python311\\site-packages (from plotly) (25.0)\n",
      "Requirement already satisfied: attrs>=22.2.0 in c:\\users\\ignacio\\appdata\\local\\packages\\pythonsoftwarefoundation.python.3.11_qbz5n2kfra8p0\\localcache\\local-packages\\python311\\site-packages (from jsonschema>=2.6->nbformat) (25.4.0)\n",
      "Requirement already satisfied: jsonschema-specifications>=2023.03.6 in c:\\users\\ignacio\\appdata\\local\\packages\\pythonsoftwarefoundation.python.3.11_qbz5n2kfra8p0\\localcache\\local-packages\\python311\\site-packages (from jsonschema>=2.6->nbformat) (2025.9.1)\n",
      "Requirement already satisfied: referencing>=0.28.4 in c:\\users\\ignacio\\appdata\\local\\packages\\pythonsoftwarefoundation.python.3.11_qbz5n2kfra8p0\\localcache\\local-packages\\python311\\site-packages (from jsonschema>=2.6->nbformat) (0.37.0)\n",
      "Requirement already satisfied: rpds-py>=0.7.1 in c:\\users\\ignacio\\appdata\\local\\packages\\pythonsoftwarefoundation.python.3.11_qbz5n2kfra8p0\\localcache\\local-packages\\python311\\site-packages (from jsonschema>=2.6->nbformat) (0.28.0)\n",
      "Requirement already satisfied: platformdirs>=2.5 in c:\\users\\ignacio\\appdata\\local\\packages\\pythonsoftwarefoundation.python.3.11_qbz5n2kfra8p0\\localcache\\local-packages\\python311\\site-packages (from jupyter-core!=5.0.*,>=4.12->nbformat) (4.4.0)\n",
      "Requirement already satisfied: pywin32>=300 in c:\\users\\ignacio\\appdata\\local\\packages\\pythonsoftwarefoundation.python.3.11_qbz5n2kfra8p0\\localcache\\local-packages\\python311\\site-packages (from jupyter-core!=5.0.*,>=4.12->nbformat) (311)\n",
      "Requirement already satisfied: typing-extensions>=4.4.0 in c:\\users\\ignacio\\appdata\\local\\packages\\pythonsoftwarefoundation.python.3.11_qbz5n2kfra8p0\\localcache\\local-packages\\python311\\site-packages (from referencing>=0.28.4->jsonschema>=2.6->nbformat) (4.15.0)\n"
     ]
    },
    {
     "name": "stderr",
     "output_type": "stream",
     "text": [
      "\n",
      "[notice] A new release of pip is available: 24.0 -> 25.2\n",
      "[notice] To update, run: C:\\Users\\Ignacio\\AppData\\Local\\Microsoft\\WindowsApps\\PythonSoftwareFoundation.Python.3.11_qbz5n2kfra8p0\\python.exe -m pip install --upgrade pip\n"
     ]
    }
   ],
   "source": [
    "!pip install numpy pandas matplotlib plotly scipy scikit-learn statsmodels\n",
    "!pip install -U nbformat plotly\n",
    "import warnings\n",
    "import numpy as np\n",
    "import pandas as pd\n",
    "import plotly.express as px\n",
    "import matplotlib.pyplot as plt\n",
    "import textwrap\n",
    "from scipy import stats\n",
    "\n",
    "from sklearn.model_selection import train_test_split, KFold, GridSearchCV\n",
    "from sklearn.preprocessing import StandardScaler, OneHotEncoder\n",
    "from sklearn.compose import ColumnTransformer\n",
    "from sklearn.impute import SimpleImputer\n",
    "from sklearn.feature_selection import RFE\n",
    "from sklearn.metrics import r2_score, mean_squared_error\n",
    "from sklearn.linear_model import (\n",
    "    LinearRegression, Ridge, Lasso, ElasticNet,\n",
    "    RidgeCV, LassoCV, ElasticNetCV\n",
    ")\n",
    "from sklearn.pipeline import Pipeline\n",
    "\n",
    "import statsmodels.api as sm\n",
    "from statsmodels.stats.outliers_influence import variance_inflation_factor\n",
    "\n",
    "# Ignorar advertencias\n",
    "warnings.filterwarnings(\"ignore\")"
   ]
  },
  {
   "cell_type": "markdown",
   "metadata": {
    "id": "enzrXM1XyfWS"
   },
   "source": [
    "#**3. Entendimiento de los datos**"
   ]
  },
  {
   "cell_type": "code",
   "execution_count": 26,
   "metadata": {
    "colab": {
     "base_uri": "https://localhost:8080/",
     "height": 208
    },
    "executionInfo": {
     "elapsed": 1255,
     "status": "ok",
     "timestamp": 1761261958421,
     "user": {
      "displayName": "Marco Villarroel",
      "userId": "02234616539294282296"
     },
     "user_tz": 240
    },
    "id": "dd1tZuhcSczh",
    "outputId": "0408c9e1-524f-483c-b0ba-86875248fc0d"
   },
   "outputs": [
    {
     "name": "stdout",
     "output_type": "stream",
     "text": [
      "Shape del dataset: (1460, 81)\n"
     ]
    },
    {
     "data": {
      "text/html": [
       "<div>\n",
       "<style scoped>\n",
       "    .dataframe tbody tr th:only-of-type {\n",
       "        vertical-align: middle;\n",
       "    }\n",
       "\n",
       "    .dataframe tbody tr th {\n",
       "        vertical-align: top;\n",
       "    }\n",
       "\n",
       "    .dataframe thead th {\n",
       "        text-align: right;\n",
       "    }\n",
       "</style>\n",
       "<table border=\"1\" class=\"dataframe\">\n",
       "  <thead>\n",
       "    <tr style=\"text-align: right;\">\n",
       "      <th></th>\n",
       "      <th>Id</th>\n",
       "      <th>MSSubClass</th>\n",
       "      <th>MSZoning</th>\n",
       "      <th>LotFrontage</th>\n",
       "      <th>LotArea</th>\n",
       "      <th>Street</th>\n",
       "      <th>Alley</th>\n",
       "      <th>LotShape</th>\n",
       "      <th>LandContour</th>\n",
       "      <th>Utilities</th>\n",
       "      <th>...</th>\n",
       "      <th>PoolArea</th>\n",
       "      <th>PoolQC</th>\n",
       "      <th>Fence</th>\n",
       "      <th>MiscFeature</th>\n",
       "      <th>MiscVal</th>\n",
       "      <th>MoSold</th>\n",
       "      <th>YrSold</th>\n",
       "      <th>SaleType</th>\n",
       "      <th>SaleCondition</th>\n",
       "      <th>SalePrice</th>\n",
       "    </tr>\n",
       "  </thead>\n",
       "  <tbody>\n",
       "    <tr>\n",
       "      <th>0</th>\n",
       "      <td>1</td>\n",
       "      <td>60</td>\n",
       "      <td>RL</td>\n",
       "      <td>65.0</td>\n",
       "      <td>8450</td>\n",
       "      <td>Pave</td>\n",
       "      <td>NaN</td>\n",
       "      <td>Reg</td>\n",
       "      <td>Lvl</td>\n",
       "      <td>AllPub</td>\n",
       "      <td>...</td>\n",
       "      <td>0</td>\n",
       "      <td>NaN</td>\n",
       "      <td>NaN</td>\n",
       "      <td>NaN</td>\n",
       "      <td>0</td>\n",
       "      <td>2</td>\n",
       "      <td>2008</td>\n",
       "      <td>WD</td>\n",
       "      <td>Normal</td>\n",
       "      <td>208500</td>\n",
       "    </tr>\n",
       "    <tr>\n",
       "      <th>1</th>\n",
       "      <td>2</td>\n",
       "      <td>20</td>\n",
       "      <td>RL</td>\n",
       "      <td>80.0</td>\n",
       "      <td>9600</td>\n",
       "      <td>Pave</td>\n",
       "      <td>NaN</td>\n",
       "      <td>Reg</td>\n",
       "      <td>Lvl</td>\n",
       "      <td>AllPub</td>\n",
       "      <td>...</td>\n",
       "      <td>0</td>\n",
       "      <td>NaN</td>\n",
       "      <td>NaN</td>\n",
       "      <td>NaN</td>\n",
       "      <td>0</td>\n",
       "      <td>5</td>\n",
       "      <td>2007</td>\n",
       "      <td>WD</td>\n",
       "      <td>Normal</td>\n",
       "      <td>181500</td>\n",
       "    </tr>\n",
       "    <tr>\n",
       "      <th>2</th>\n",
       "      <td>3</td>\n",
       "      <td>60</td>\n",
       "      <td>RL</td>\n",
       "      <td>68.0</td>\n",
       "      <td>11250</td>\n",
       "      <td>Pave</td>\n",
       "      <td>NaN</td>\n",
       "      <td>IR1</td>\n",
       "      <td>Lvl</td>\n",
       "      <td>AllPub</td>\n",
       "      <td>...</td>\n",
       "      <td>0</td>\n",
       "      <td>NaN</td>\n",
       "      <td>NaN</td>\n",
       "      <td>NaN</td>\n",
       "      <td>0</td>\n",
       "      <td>9</td>\n",
       "      <td>2008</td>\n",
       "      <td>WD</td>\n",
       "      <td>Normal</td>\n",
       "      <td>223500</td>\n",
       "    </tr>\n",
       "  </tbody>\n",
       "</table>\n",
       "<p>3 rows × 81 columns</p>\n",
       "</div>"
      ],
      "text/plain": [
       "   Id  MSSubClass MSZoning  LotFrontage  LotArea Street Alley LotShape  \\\n",
       "0   1          60       RL         65.0     8450   Pave   NaN      Reg   \n",
       "1   2          20       RL         80.0     9600   Pave   NaN      Reg   \n",
       "2   3          60       RL         68.0    11250   Pave   NaN      IR1   \n",
       "\n",
       "  LandContour Utilities  ... PoolArea PoolQC Fence MiscFeature MiscVal MoSold  \\\n",
       "0         Lvl    AllPub  ...        0    NaN   NaN         NaN       0      2   \n",
       "1         Lvl    AllPub  ...        0    NaN   NaN         NaN       0      5   \n",
       "2         Lvl    AllPub  ...        0    NaN   NaN         NaN       0      9   \n",
       "\n",
       "  YrSold  SaleType  SaleCondition  SalePrice  \n",
       "0   2008        WD         Normal     208500  \n",
       "1   2007        WD         Normal     181500  \n",
       "2   2008        WD         Normal     223500  \n",
       "\n",
       "[3 rows x 81 columns]"
      ]
     },
     "metadata": {},
     "output_type": "display_data"
    },
    {
     "name": "stdout",
     "output_type": "stream",
     "text": [
      "Variable objetivo: SalePrice\n"
     ]
    }
   ],
   "source": [
    "# Cargar dataset desde Google Drive\n",
    "url = \"https://drive.google.com/uc?id=198LGTVcTgLOm3cqNnLe6dmWuP0XVwfW-\"\n",
    "df_raw = pd.read_csv(url)\n",
    "print(\"Shape del dataset:\", df_raw.shape)\n",
    "display(df_raw.head(3))\n",
    "\n",
    "# Detección heurística de la variable objetivo\n",
    "target_candidates = [c for c in df_raw.columns if c.lower() in (\"saleprice\", \"sale_price\", \"price\")]\n",
    "TARGET = target_candidates[0] if target_candidates else df_raw.select_dtypes(include=np.number).columns[-1]\n",
    "print(\"Variable objetivo:\", TARGET)\n"
   ]
  },
  {
   "cell_type": "markdown",
   "metadata": {
    "id": "7fp66b3XDW2z"
   },
   "source": [
    "# **4. Manipulacion y limpieza de datos**"
   ]
  },
  {
   "cell_type": "markdown",
   "metadata": {
    "id": "r5EV84p8D_kM"
   },
   "source": [
    "## 4.1. Dropping data"
   ]
  },
  {
   "cell_type": "code",
   "execution_count": 27,
   "metadata": {
    "colab": {
     "base_uri": "https://localhost:8080/"
    },
    "executionInfo": {
     "elapsed": 313,
     "status": "ok",
     "timestamp": 1761261958736,
     "user": {
      "displayName": "Marco Villarroel",
      "userId": "02234616539294282296"
     },
     "user_tz": 240
    },
    "id": "wlhnxS4IDlBk",
    "outputId": "a0ef0dd9-a03a-4d8f-c38b-b5c60ed6a0e2"
   },
   "outputs": [
    {
     "name": "stdout",
     "output_type": "stream",
     "text": [
      "Columnas eliminadas por NA alto: ['Alley', 'PoolQC', 'Fence', 'MiscFeature']\n",
      "Shape tras drop columnas: (1460, 77)\n",
      "Duplicados eliminados: 0\n"
     ]
    }
   ],
   "source": [
    "# Copia de trabajo\n",
    "df = df_raw.copy()\n",
    "\n",
    "# 4.1 Dropping Data\n",
    "# Estandarizar valores NA simbólicos\n",
    "NA_LIKE = {\"NA\", \"Na\", \"na\", \"None\", \"NONE\"}\n",
    "for c in df.select_dtypes(include=\"object\"):\n",
    "    df[c] = df[c].replace(list(NA_LIKE), np.nan)\n",
    "\n",
    "# Convertir columnas numéricas mal leídas como texto\n",
    "for c in df.select_dtypes(include=\"object\"):\n",
    "    s = df[c].dropna().astype(str).str.replace(\",\", \"\").str.strip()\n",
    "    if len(s) > 0 and (s.str.replace(\".\", \"\", 1).str.isdigit().mean() > 0.9):\n",
    "        df[c] = pd.to_numeric(s, errors=\"coerce\")\n",
    "\n",
    "# Eliminar columnas con >=80% de valores faltantes\n",
    "THRESH_DROP = 0.80\n",
    "cols_high_na = df.columns[df.isna().mean() >= THRESH_DROP].tolist()\n",
    "df.drop(columns=cols_high_na, inplace=True)\n",
    "print(\"Columnas eliminadas por NA alto:\", cols_high_na)\n",
    "print(\"Shape tras drop columnas:\", df.shape)\n",
    "\n",
    "# Revisar duplicados\n",
    "dup_count = df.duplicated().sum()\n",
    "if dup_count > 0:\n",
    "    df = df.drop_duplicates().reset_index(drop=True)\n",
    "print(\"Duplicados eliminados:\", dup_count)"
   ]
  },
  {
   "cell_type": "markdown",
   "metadata": {
    "id": "RJNoGd3pt1NT"
   },
   "source": [
    "## 4.2. Derivered data"
   ]
  },
  {
   "cell_type": "code",
   "execution_count": 28,
   "metadata": {
    "executionInfo": {
     "elapsed": 74,
     "status": "ok",
     "timestamp": 1761261958837,
     "user": {
      "displayName": "Marco Villarroel",
      "userId": "02234616539294282296"
     },
     "user_tz": 240
    },
    "id": "Ih5y6LjIs2Ie"
   },
   "outputs": [],
   "source": [
    "# 4.2 Derived Data\n",
    "def derive_features(d: pd.DataFrame) -> pd.DataFrame:\n",
    "    X = d.copy()\n",
    "    if set([\"FullBath\",\"HalfBath\",\"BsmtFullBath\",\"BsmtHalfBath\"]).issubset(X.columns):\n",
    "        X[\"TotalBaths\"] = (X[\"FullBath\"].fillna(0) + 0.5*X[\"HalfBath\"].fillna(0) +\n",
    "                            X[\"BsmtFullBath\"].fillna(0) + 0.5*X[\"BsmtHalfBath\"].fillna(0))\n",
    "    if set([\"WoodDeckSF\",\"OpenPorchSF\",\"EnclosedPorch\",\"3SsnPorch\",\"ScreenPorch\"]).issubset(X.columns):\n",
    "        X[\"TotalPorchSF\"] = (X[\"WoodDeckSF\"].fillna(0) + X[\"OpenPorchSF\"].fillna(0) +\n",
    "                             X[\"EnclosedPorch\"].fillna(0) + X[\"3SsnPorch\"].fillna(0) +\n",
    "                             X[\"ScreenPorch\"].fillna(0))\n",
    "    if \"YearBuilt\" in X.columns and \"YrSold\" in X.columns:\n",
    "        X[\"Age\"] = X[\"YrSold\"] - X[\"YearBuilt\"]\n",
    "    if \"YearRemodAdd\" in X.columns and \"YrSold\" in X.columns:\n",
    "        X[\"RemodAge\"] = X[\"YrSold\"] - X[\"YearRemodAdd\"]\n",
    "    return X\n",
    "\n",
    "df = derive_features(df)"
   ]
  },
  {
   "cell_type": "markdown",
   "metadata": {
    "id": "9sOzZCRYEbd1"
   },
   "source": [
    "# **5. Analisis de datos**"
   ]
  },
  {
   "cell_type": "markdown",
   "metadata": {
    "id": "zwjCL3jXt-Wo"
   },
   "source": [
    "## 5.1 Análisis Univariable (target y numéricas)"
   ]
  },
  {
   "cell_type": "code",
   "execution_count": 29,
   "metadata": {
    "colab": {
     "base_uri": "https://localhost:8080/",
     "height": 577
    },
    "executionInfo": {
     "elapsed": 8937,
     "status": "ok",
     "timestamp": 1761261967796,
     "user": {
      "displayName": "Marco Villarroel",
      "userId": "02234616539294282296"
     },
     "user_tz": 240
    },
    "id": "iZQDPIJms4Ag",
    "outputId": "1893d85b-24f2-4f31-a57a-45cbda9fd695"
   },
   "outputs": [
    {
     "data": {
      "application/vnd.plotly.v1+json": {
       "config": {
        "plotlyServerURL": "https://plot.ly"
       },
       "data": [
        {
         "bingroup": "x",
         "hovertemplate": "variable=SalePrice<br>value=%{x}<br>count=%{y}<extra></extra>",
         "legendgroup": "SalePrice",
         "marker": {
          "color": "#636efa",
          "pattern": {
           "shape": ""
          }
         },
         "name": "SalePrice",
         "nbinsx": 40,
         "orientation": "v",
         "showlegend": true,
         "type": "histogram",
         "x": {
          "bdata": "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",
          "dtype": "i4"
         },
         "xaxis": "x",
         "yaxis": "y"
        },
        {
         "hovertemplate": "variable=SalePrice<br>value=%{x}<extra></extra>",
         "legendgroup": "SalePrice",
         "marker": {
          "color": "#636efa"
         },
         "name": "SalePrice",
         "notched": true,
         "showlegend": false,
         "type": "box",
         "x": {
          "bdata": "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",
          "dtype": "i4"
         },
         "xaxis": "x2",
         "yaxis": "y2"
        }
       ],
       "layout": {
        "barmode": "relative",
        "legend": {
         "title": {
          "text": "variable"
         },
         "tracegroupgap": 0
        },
        "template": {
         "data": {
          "bar": [
           {
            "error_x": {
             "color": "#2a3f5f"
            },
            "error_y": {
             "color": "#2a3f5f"
            },
            "marker": {
             "line": {
              "color": "#E5ECF6",
              "width": 0.5
             },
             "pattern": {
              "fillmode": "overlay",
              "size": 10,
              "solidity": 0.2
             }
            },
            "type": "bar"
           }
          ],
          "barpolar": [
           {
            "marker": {
             "line": {
              "color": "#E5ECF6",
              "width": 0.5
             },
             "pattern": {
              "fillmode": "overlay",
              "size": 10,
              "solidity": 0.2
             }
            },
            "type": "barpolar"
           }
          ],
          "carpet": [
           {
            "aaxis": {
             "endlinecolor": "#2a3f5f",
             "gridcolor": "white",
             "linecolor": "white",
             "minorgridcolor": "white",
             "startlinecolor": "#2a3f5f"
            },
            "baxis": {
             "endlinecolor": "#2a3f5f",
             "gridcolor": "white",
             "linecolor": "white",
             "minorgridcolor": "white",
             "startlinecolor": "#2a3f5f"
            },
            "type": "carpet"
           }
          ],
          "choropleth": [
           {
            "colorbar": {
             "outlinewidth": 0,
             "ticks": ""
            },
            "type": "choropleth"
           }
          ],
          "contour": [
           {
            "colorbar": {
             "outlinewidth": 0,
             "ticks": ""
            },
            "colorscale": [
             [
              0,
              "#0d0887"
             ],
             [
              0.1111111111111111,
              "#46039f"
             ],
             [
              0.2222222222222222,
              "#7201a8"
             ],
             [
              0.3333333333333333,
              "#9c179e"
             ],
             [
              0.4444444444444444,
              "#bd3786"
             ],
             [
              0.5555555555555556,
              "#d8576b"
             ],
             [
              0.6666666666666666,
              "#ed7953"
             ],
             [
              0.7777777777777778,
              "#fb9f3a"
             ],
             [
              0.8888888888888888,
              "#fdca26"
             ],
             [
              1,
              "#f0f921"
             ]
            ],
            "type": "contour"
           }
          ],
          "contourcarpet": [
           {
            "colorbar": {
             "outlinewidth": 0,
             "ticks": ""
            },
            "type": "contourcarpet"
           }
          ],
          "heatmap": [
           {
            "colorbar": {
             "outlinewidth": 0,
             "ticks": ""
            },
            "colorscale": [
             [
              0,
              "#0d0887"
             ],
             [
              0.1111111111111111,
              "#46039f"
             ],
             [
              0.2222222222222222,
              "#7201a8"
             ],
             [
              0.3333333333333333,
              "#9c179e"
             ],
             [
              0.4444444444444444,
              "#bd3786"
             ],
             [
              0.5555555555555556,
              "#d8576b"
             ],
             [
              0.6666666666666666,
              "#ed7953"
             ],
             [
              0.7777777777777778,
              "#fb9f3a"
             ],
             [
              0.8888888888888888,
              "#fdca26"
             ],
             [
              1,
              "#f0f921"
             ]
            ],
            "type": "heatmap"
           }
          ],
          "histogram": [
           {
            "marker": {
             "pattern": {
              "fillmode": "overlay",
              "size": 10,
              "solidity": 0.2
             }
            },
            "type": "histogram"
           }
          ],
          "histogram2d": [
           {
            "colorbar": {
             "outlinewidth": 0,
             "ticks": ""
            },
            "colorscale": [
             [
              0,
              "#0d0887"
             ],
             [
              0.1111111111111111,
              "#46039f"
             ],
             [
              0.2222222222222222,
              "#7201a8"
             ],
             [
              0.3333333333333333,
              "#9c179e"
             ],
             [
              0.4444444444444444,
              "#bd3786"
             ],
             [
              0.5555555555555556,
              "#d8576b"
             ],
             [
              0.6666666666666666,
              "#ed7953"
             ],
             [
              0.7777777777777778,
              "#fb9f3a"
             ],
             [
              0.8888888888888888,
              "#fdca26"
             ],
             [
              1,
              "#f0f921"
             ]
            ],
            "type": "histogram2d"
           }
          ],
          "histogram2dcontour": [
           {
            "colorbar": {
             "outlinewidth": 0,
             "ticks": ""
            },
            "colorscale": [
             [
              0,
              "#0d0887"
             ],
             [
              0.1111111111111111,
              "#46039f"
             ],
             [
              0.2222222222222222,
              "#7201a8"
             ],
             [
              0.3333333333333333,
              "#9c179e"
             ],
             [
              0.4444444444444444,
              "#bd3786"
             ],
             [
              0.5555555555555556,
              "#d8576b"
             ],
             [
              0.6666666666666666,
              "#ed7953"
             ],
             [
              0.7777777777777778,
              "#fb9f3a"
             ],
             [
              0.8888888888888888,
              "#fdca26"
             ],
             [
              1,
              "#f0f921"
             ]
            ],
            "type": "histogram2dcontour"
           }
          ],
          "mesh3d": [
           {
            "colorbar": {
             "outlinewidth": 0,
             "ticks": ""
            },
            "type": "mesh3d"
           }
          ],
          "parcoords": [
           {
            "line": {
             "colorbar": {
              "outlinewidth": 0,
              "ticks": ""
             }
            },
            "type": "parcoords"
           }
          ],
          "pie": [
           {
            "automargin": true,
            "type": "pie"
           }
          ],
          "scatter": [
           {
            "fillpattern": {
             "fillmode": "overlay",
             "size": 10,
             "solidity": 0.2
            },
            "type": "scatter"
           }
          ],
          "scatter3d": [
           {
            "line": {
             "colorbar": {
              "outlinewidth": 0,
              "ticks": ""
             }
            },
            "marker": {
             "colorbar": {
              "outlinewidth": 0,
              "ticks": ""
             }
            },
            "type": "scatter3d"
           }
          ],
          "scattercarpet": [
           {
            "marker": {
             "colorbar": {
              "outlinewidth": 0,
              "ticks": ""
             }
            },
            "type": "scattercarpet"
           }
          ],
          "scattergeo": [
           {
            "marker": {
             "colorbar": {
              "outlinewidth": 0,
              "ticks": ""
             }
            },
            "type": "scattergeo"
           }
          ],
          "scattergl": [
           {
            "marker": {
             "colorbar": {
              "outlinewidth": 0,
              "ticks": ""
             }
            },
            "type": "scattergl"
           }
          ],
          "scattermap": [
           {
            "marker": {
             "colorbar": {
              "outlinewidth": 0,
              "ticks": ""
             }
            },
            "type": "scattermap"
           }
          ],
          "scattermapbox": [
           {
            "marker": {
             "colorbar": {
              "outlinewidth": 0,
              "ticks": ""
             }
            },
            "type": "scattermapbox"
           }
          ],
          "scatterpolar": [
           {
            "marker": {
             "colorbar": {
              "outlinewidth": 0,
              "ticks": ""
             }
            },
            "type": "scatterpolar"
           }
          ],
          "scatterpolargl": [
           {
            "marker": {
             "colorbar": {
              "outlinewidth": 0,
              "ticks": ""
             }
            },
            "type": "scatterpolargl"
           }
          ],
          "scatterternary": [
           {
            "marker": {
             "colorbar": {
              "outlinewidth": 0,
              "ticks": ""
             }
            },
            "type": "scatterternary"
           }
          ],
          "surface": [
           {
            "colorbar": {
             "outlinewidth": 0,
             "ticks": ""
            },
            "colorscale": [
             [
              0,
              "#0d0887"
             ],
             [
              0.1111111111111111,
              "#46039f"
             ],
             [
              0.2222222222222222,
              "#7201a8"
             ],
             [
              0.3333333333333333,
              "#9c179e"
             ],
             [
              0.4444444444444444,
              "#bd3786"
             ],
             [
              0.5555555555555556,
              "#d8576b"
             ],
             [
              0.6666666666666666,
              "#ed7953"
             ],
             [
              0.7777777777777778,
              "#fb9f3a"
             ],
             [
              0.8888888888888888,
              "#fdca26"
             ],
             [
              1,
              "#f0f921"
             ]
            ],
            "type": "surface"
           }
          ],
          "table": [
           {
            "cells": {
             "fill": {
              "color": "#EBF0F8"
             },
             "line": {
              "color": "white"
             }
            },
            "header": {
             "fill": {
              "color": "#C8D4E3"
             },
             "line": {
              "color": "white"
             }
            },
            "type": "table"
           }
          ]
         },
         "layout": {
          "annotationdefaults": {
           "arrowcolor": "#2a3f5f",
           "arrowhead": 0,
           "arrowwidth": 1
          },
          "autotypenumbers": "strict",
          "coloraxis": {
           "colorbar": {
            "outlinewidth": 0,
            "ticks": ""
           }
          },
          "colorscale": {
           "diverging": [
            [
             0,
             "#8e0152"
            ],
            [
             0.1,
             "#c51b7d"
            ],
            [
             0.2,
             "#de77ae"
            ],
            [
             0.3,
             "#f1b6da"
            ],
            [
             0.4,
             "#fde0ef"
            ],
            [
             0.5,
             "#f7f7f7"
            ],
            [
             0.6,
             "#e6f5d0"
            ],
            [
             0.7,
             "#b8e186"
            ],
            [
             0.8,
             "#7fbc41"
            ],
            [
             0.9,
             "#4d9221"
            ],
            [
             1,
             "#276419"
            ]
           ],
           "sequential": [
            [
             0,
             "#0d0887"
            ],
            [
             0.1111111111111111,
             "#46039f"
            ],
            [
             0.2222222222222222,
             "#7201a8"
            ],
            [
             0.3333333333333333,
             "#9c179e"
            ],
            [
             0.4444444444444444,
             "#bd3786"
            ],
            [
             0.5555555555555556,
             "#d8576b"
            ],
            [
             0.6666666666666666,
             "#ed7953"
            ],
            [
             0.7777777777777778,
             "#fb9f3a"
            ],
            [
             0.8888888888888888,
             "#fdca26"
            ],
            [
             1,
             "#f0f921"
            ]
           ],
           "sequentialminus": [
            [
             0,
             "#0d0887"
            ],
            [
             0.1111111111111111,
             "#46039f"
            ],
            [
             0.2222222222222222,
             "#7201a8"
            ],
            [
             0.3333333333333333,
             "#9c179e"
            ],
            [
             0.4444444444444444,
             "#bd3786"
            ],
            [
             0.5555555555555556,
             "#d8576b"
            ],
            [
             0.6666666666666666,
             "#ed7953"
            ],
            [
             0.7777777777777778,
             "#fb9f3a"
            ],
            [
             0.8888888888888888,
             "#fdca26"
            ],
            [
             1,
             "#f0f921"
            ]
           ]
          },
          "colorway": [
           "#636efa",
           "#EF553B",
           "#00cc96",
           "#ab63fa",
           "#FFA15A",
           "#19d3f3",
           "#FF6692",
           "#B6E880",
           "#FF97FF",
           "#FECB52"
          ],
          "font": {
           "color": "#2a3f5f"
          },
          "geo": {
           "bgcolor": "white",
           "lakecolor": "white",
           "landcolor": "#E5ECF6",
           "showlakes": true,
           "showland": true,
           "subunitcolor": "white"
          },
          "hoverlabel": {
           "align": "left"
          },
          "hovermode": "closest",
          "mapbox": {
           "style": "light"
          },
          "paper_bgcolor": "white",
          "plot_bgcolor": "#E5ECF6",
          "polar": {
           "angularaxis": {
            "gridcolor": "white",
            "linecolor": "white",
            "ticks": ""
           },
           "bgcolor": "#E5ECF6",
           "radialaxis": {
            "gridcolor": "white",
            "linecolor": "white",
            "ticks": ""
           }
          },
          "scene": {
           "xaxis": {
            "backgroundcolor": "#E5ECF6",
            "gridcolor": "white",
            "gridwidth": 2,
            "linecolor": "white",
            "showbackground": true,
            "ticks": "",
            "zerolinecolor": "white"
           },
           "yaxis": {
            "backgroundcolor": "#E5ECF6",
            "gridcolor": "white",
            "gridwidth": 2,
            "linecolor": "white",
            "showbackground": true,
            "ticks": "",
            "zerolinecolor": "white"
           },
           "zaxis": {
            "backgroundcolor": "#E5ECF6",
            "gridcolor": "white",
            "gridwidth": 2,
            "linecolor": "white",
            "showbackground": true,
            "ticks": "",
            "zerolinecolor": "white"
           }
          },
          "shapedefaults": {
           "line": {
            "color": "#2a3f5f"
           }
          },
          "ternary": {
           "aaxis": {
            "gridcolor": "white",
            "linecolor": "white",
            "ticks": ""
           },
           "baxis": {
            "gridcolor": "white",
            "linecolor": "white",
            "ticks": ""
           },
           "bgcolor": "#E5ECF6",
           "caxis": {
            "gridcolor": "white",
            "linecolor": "white",
            "ticks": ""
           }
          },
          "title": {
           "x": 0.05
          },
          "xaxis": {
           "automargin": true,
           "gridcolor": "white",
           "linecolor": "white",
           "ticks": "",
           "title": {
            "standoff": 15
           },
           "zerolinecolor": "white",
           "zerolinewidth": 2
          },
          "yaxis": {
           "automargin": true,
           "gridcolor": "white",
           "linecolor": "white",
           "ticks": "",
           "title": {
            "standoff": 15
           },
           "zerolinecolor": "white",
           "zerolinewidth": 2
          }
         }
        },
        "title": {
         "text": "Distribución de SalePrice"
        },
        "xaxis": {
         "anchor": "y",
         "domain": [
          0,
          1
         ],
         "title": {
          "text": "value"
         }
        },
        "xaxis2": {
         "anchor": "y2",
         "domain": [
          0,
          1
         ],
         "matches": "x",
         "showgrid": true,
         "showticklabels": false
        },
        "yaxis": {
         "anchor": "x",
         "domain": [
          0,
          0.7326
         ],
         "title": {
          "text": "count"
         }
        },
        "yaxis2": {
         "anchor": "x2",
         "domain": [
          0.7426,
          1
         ],
         "matches": "y2",
         "showgrid": false,
         "showline": false,
         "showticklabels": false,
         "ticks": ""
        }
       }
      }
     },
     "metadata": {},
     "output_type": "display_data"
    },
    {
     "name": "stdout",
     "output_type": "stream",
     "text": [
      "Skew(target) = 1.881\n",
      "Se usará log1p(TARGET) como y.\n"
     ]
    }
   ],
   "source": [
    "def plot_distribution(series: pd.Series, title: str):\n",
    "    fig = px.histogram(series.dropna(), nbins=40, marginal=\"box\", title=title)\n",
    "    fig.show()\n",
    "\n",
    "plot_distribution(df[TARGET], f\"Distribución de {TARGET}\")\n",
    "\n",
    "skew_target = stats.skew(df[TARGET].dropna())\n",
    "print(\"Skew(target) =\", round(skew_target, 3))\n",
    "USE_LOG_TARGET = skew_target > 1.0\n",
    "if USE_LOG_TARGET:\n",
    "    df[\"__y__\"] = np.log1p(df[TARGET])\n",
    "    print(\"Se usará log1p(TARGET) como y.\")\n",
    "else:\n",
    "    df[\"__y__\"] = df[TARGET]\n"
   ]
  },
  {
   "cell_type": "markdown",
   "metadata": {
    "id": "PKUvwxHBuC-v"
   },
   "source": [
    "## 5.2. Análisis Bivariable (correlaciones simples + scatter)"
   ]
  },
  {
   "cell_type": "code",
   "execution_count": 30,
   "metadata": {
    "colab": {
     "base_uri": "https://localhost:8080/",
     "height": 1000
    },
    "executionInfo": {
     "elapsed": 64,
     "status": "ok",
     "timestamp": 1761261967862,
     "user": {
      "displayName": "Marco Villarroel",
      "userId": "02234616539294282296"
     },
     "user_tz": 240
    },
    "id": "BS4aGz5cs7au",
    "outputId": "fbfcc725-74fe-44ce-c958-0688fcdb8d3e"
   },
   "outputs": [
    {
     "name": "stdout",
     "output_type": "stream",
     "text": [
      "Top correlaciones con y:\n"
     ]
    },
    {
     "data": {
      "text/plain": [
       "__y__           1.000000\n",
       "SalePrice       0.948374\n",
       "OverallQual     0.817185\n",
       "GrLivArea       0.700927\n",
       "GarageCars      0.680625\n",
       "TotalBaths      0.673011\n",
       "GarageArea      0.650888\n",
       "TotalBsmtSF     0.612134\n",
       "1stFlrSF        0.596981\n",
       "FullBath        0.594771\n",
       "YearBuilt       0.586570\n",
       "YearRemodAdd    0.565608\n",
       "GarageYrBlt     0.541073\n",
       "TotRmsAbvGrd    0.534422\n",
       "Fireplaces      0.489450\n",
       "Name: __y__, dtype: float64"
      ]
     },
     "metadata": {},
     "output_type": "display_data"
    },
    {
     "name": "stdout",
     "output_type": "stream",
     "text": [
      "Menores correlaciones con y:\n"
     ]
    },
    {
     "data": {
      "text/plain": [
       "PoolArea         0.069798\n",
       "MoSold           0.057330\n",
       "3SsnPorch        0.054900\n",
       "BsmtFinSF2       0.004832\n",
       "BsmtHalfBath    -0.005149\n",
       "Id              -0.017942\n",
       "MiscVal         -0.020021\n",
       "OverallCond     -0.036868\n",
       "YrSold          -0.037263\n",
       "LowQualFinSF    -0.037963\n",
       "MSSubClass      -0.073959\n",
       "KitchenAbvGr    -0.147548\n",
       "EnclosedPorch   -0.149050\n",
       "RemodAge        -0.568136\n",
       "Age             -0.587290\n",
       "Name: __y__, dtype: float64"
      ]
     },
     "metadata": {},
     "output_type": "display_data"
    }
   ],
   "source": [
    "num_cols_for_corr = [c for c in df.select_dtypes(include=np.number).columns if c != \"__y__\"]\n",
    "corrs = df[num_cols_for_corr + [\"__y__\"]].corr(numeric_only=True)[\"__y__\"].sort_values(ascending=False)\n",
    "print(\"Top correlaciones con y:\")\n",
    "display(corrs.head(15))\n",
    "print(\"Menores correlaciones con y:\")\n",
    "display(corrs.tail(15))\n"
   ]
  },
  {
   "cell_type": "code",
   "execution_count": 31,
   "metadata": {
    "colab": {
     "base_uri": "https://localhost:8080/",
     "height": 1000
    },
    "executionInfo": {
     "elapsed": 823,
     "status": "ok",
     "timestamp": 1761261968688,
     "user": {
      "displayName": "Marco Villarroel",
      "userId": "02234616539294282296"
     },
     "user_tz": 240
    },
    "id": "QqtC_SNaX7Rf",
    "outputId": "8edb2112-b39c-4eab-bd68-577f02d4614c"
   },
   "outputs": [
    {
     "data": {
      "application/vnd.plotly.v1+json": {
       "config": {
        "plotlyServerURL": "https://plot.ly"
       },
       "data": [
        {
         "hovertemplate": "GrLivArea=%{x}<br>__y__=%{y}<extra></extra>",
         "legendgroup": "",
         "marker": {
          "color": "#636efa",
          "symbol": "circle"
         },
         "mode": "markers",
         "name": "",
         "showlegend": false,
         "type": "scattergl",
         "x": {
          "bdata": "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",
          "dtype": "i2"
         },
         "xaxis": "x",
         "y": {
          "bdata": "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",
          "dtype": "f8"
         },
         "yaxis": "y"
        },
        {
         "hovertemplate": "<b>OLS trendline</b><br>__y__ = 0.000532817 * GrLivArea + 11.2166<br>R<sup>2</sup>=0.491299<br><br>GrLivArea=%{x}<br>__y__=%{y} <b>(trend)</b><extra></extra>",
         "legendgroup": "",
         "marker": {
          "color": "#636efa",
          "symbol": "circle"
         },
         "mode": "lines",
         "name": "",
         "showlegend": false,
         "type": "scattergl",
         "x": {
          "bdata": "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",
          "dtype": "i2"
         },
         "xaxis": "x",
         "y": {
          "bdata": "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",
          "dtype": "f8"
         },
         "yaxis": "y"
        }
       ],
       "layout": {
        "legend": {
         "tracegroupgap": 0
        },
        "template": {
         "data": {
          "bar": [
           {
            "error_x": {
             "color": "#2a3f5f"
            },
            "error_y": {
             "color": "#2a3f5f"
            },
            "marker": {
             "line": {
              "color": "#E5ECF6",
              "width": 0.5
             },
             "pattern": {
              "fillmode": "overlay",
              "size": 10,
              "solidity": 0.2
             }
            },
            "type": "bar"
           }
          ],
          "barpolar": [
           {
            "marker": {
             "line": {
              "color": "#E5ECF6",
              "width": 0.5
             },
             "pattern": {
              "fillmode": "overlay",
              "size": 10,
              "solidity": 0.2
             }
            },
            "type": "barpolar"
           }
          ],
          "carpet": [
           {
            "aaxis": {
             "endlinecolor": "#2a3f5f",
             "gridcolor": "white",
             "linecolor": "white",
             "minorgridcolor": "white",
             "startlinecolor": "#2a3f5f"
            },
            "baxis": {
             "endlinecolor": "#2a3f5f",
             "gridcolor": "white",
             "linecolor": "white",
             "minorgridcolor": "white",
             "startlinecolor": "#2a3f5f"
            },
            "type": "carpet"
           }
          ],
          "choropleth": [
           {
            "colorbar": {
             "outlinewidth": 0,
             "ticks": ""
            },
            "type": "choropleth"
           }
          ],
          "contour": [
           {
            "colorbar": {
             "outlinewidth": 0,
             "ticks": ""
            },
            "colorscale": [
             [
              0,
              "#0d0887"
             ],
             [
              0.1111111111111111,
              "#46039f"
             ],
             [
              0.2222222222222222,
              "#7201a8"
             ],
             [
              0.3333333333333333,
              "#9c179e"
             ],
             [
              0.4444444444444444,
              "#bd3786"
             ],
             [
              0.5555555555555556,
              "#d8576b"
             ],
             [
              0.6666666666666666,
              "#ed7953"
             ],
             [
              0.7777777777777778,
              "#fb9f3a"
             ],
             [
              0.8888888888888888,
              "#fdca26"
             ],
             [
              1,
              "#f0f921"
             ]
            ],
            "type": "contour"
           }
          ],
          "contourcarpet": [
           {
            "colorbar": {
             "outlinewidth": 0,
             "ticks": ""
            },
            "type": "contourcarpet"
           }
          ],
          "heatmap": [
           {
            "colorbar": {
             "outlinewidth": 0,
             "ticks": ""
            },
            "colorscale": [
             [
              0,
              "#0d0887"
             ],
             [
              0.1111111111111111,
              "#46039f"
             ],
             [
              0.2222222222222222,
              "#7201a8"
             ],
             [
              0.3333333333333333,
              "#9c179e"
             ],
             [
              0.4444444444444444,
              "#bd3786"
             ],
             [
              0.5555555555555556,
              "#d8576b"
             ],
             [
              0.6666666666666666,
              "#ed7953"
             ],
             [
              0.7777777777777778,
              "#fb9f3a"
             ],
             [
              0.8888888888888888,
              "#fdca26"
             ],
             [
              1,
              "#f0f921"
             ]
            ],
            "type": "heatmap"
           }
          ],
          "histogram": [
           {
            "marker": {
             "pattern": {
              "fillmode": "overlay",
              "size": 10,
              "solidity": 0.2
             }
            },
            "type": "histogram"
           }
          ],
          "histogram2d": [
           {
            "colorbar": {
             "outlinewidth": 0,
             "ticks": ""
            },
            "colorscale": [
             [
              0,
              "#0d0887"
             ],
             [
              0.1111111111111111,
              "#46039f"
             ],
             [
              0.2222222222222222,
              "#7201a8"
             ],
             [
              0.3333333333333333,
              "#9c179e"
             ],
             [
              0.4444444444444444,
              "#bd3786"
             ],
             [
              0.5555555555555556,
              "#d8576b"
             ],
             [
              0.6666666666666666,
              "#ed7953"
             ],
             [
              0.7777777777777778,
              "#fb9f3a"
             ],
             [
              0.8888888888888888,
              "#fdca26"
             ],
             [
              1,
              "#f0f921"
             ]
            ],
            "type": "histogram2d"
           }
          ],
          "histogram2dcontour": [
           {
            "colorbar": {
             "outlinewidth": 0,
             "ticks": ""
            },
            "colorscale": [
             [
              0,
              "#0d0887"
             ],
             [
              0.1111111111111111,
              "#46039f"
             ],
             [
              0.2222222222222222,
              "#7201a8"
             ],
             [
              0.3333333333333333,
              "#9c179e"
             ],
             [
              0.4444444444444444,
              "#bd3786"
             ],
             [
              0.5555555555555556,
              "#d8576b"
             ],
             [
              0.6666666666666666,
              "#ed7953"
             ],
             [
              0.7777777777777778,
              "#fb9f3a"
             ],
             [
              0.8888888888888888,
              "#fdca26"
             ],
             [
              1,
              "#f0f921"
             ]
            ],
            "type": "histogram2dcontour"
           }
          ],
          "mesh3d": [
           {
            "colorbar": {
             "outlinewidth": 0,
             "ticks": ""
            },
            "type": "mesh3d"
           }
          ],
          "parcoords": [
           {
            "line": {
             "colorbar": {
              "outlinewidth": 0,
              "ticks": ""
             }
            },
            "type": "parcoords"
           }
          ],
          "pie": [
           {
            "automargin": true,
            "type": "pie"
           }
          ],
          "scatter": [
           {
            "fillpattern": {
             "fillmode": "overlay",
             "size": 10,
             "solidity": 0.2
            },
            "type": "scatter"
           }
          ],
          "scatter3d": [
           {
            "line": {
             "colorbar": {
              "outlinewidth": 0,
              "ticks": ""
             }
            },
            "marker": {
             "colorbar": {
              "outlinewidth": 0,
              "ticks": ""
             }
            },
            "type": "scatter3d"
           }
          ],
          "scattercarpet": [
           {
            "marker": {
             "colorbar": {
              "outlinewidth": 0,
              "ticks": ""
             }
            },
            "type": "scattercarpet"
           }
          ],
          "scattergeo": [
           {
            "marker": {
             "colorbar": {
              "outlinewidth": 0,
              "ticks": ""
             }
            },
            "type": "scattergeo"
           }
          ],
          "scattergl": [
           {
            "marker": {
             "colorbar": {
              "outlinewidth": 0,
              "ticks": ""
             }
            },
            "type": "scattergl"
           }
          ],
          "scattermap": [
           {
            "marker": {
             "colorbar": {
              "outlinewidth": 0,
              "ticks": ""
             }
            },
            "type": "scattermap"
           }
          ],
          "scattermapbox": [
           {
            "marker": {
             "colorbar": {
              "outlinewidth": 0,
              "ticks": ""
             }
            },
            "type": "scattermapbox"
           }
          ],
          "scatterpolar": [
           {
            "marker": {
             "colorbar": {
              "outlinewidth": 0,
              "ticks": ""
             }
            },
            "type": "scatterpolar"
           }
          ],
          "scatterpolargl": [
           {
            "marker": {
             "colorbar": {
              "outlinewidth": 0,
              "ticks": ""
             }
            },
            "type": "scatterpolargl"
           }
          ],
          "scatterternary": [
           {
            "marker": {
             "colorbar": {
              "outlinewidth": 0,
              "ticks": ""
             }
            },
            "type": "scatterternary"
           }
          ],
          "surface": [
           {
            "colorbar": {
             "outlinewidth": 0,
             "ticks": ""
            },
            "colorscale": [
             [
              0,
              "#0d0887"
             ],
             [
              0.1111111111111111,
              "#46039f"
             ],
             [
              0.2222222222222222,
              "#7201a8"
             ],
             [
              0.3333333333333333,
              "#9c179e"
             ],
             [
              0.4444444444444444,
              "#bd3786"
             ],
             [
              0.5555555555555556,
              "#d8576b"
             ],
             [
              0.6666666666666666,
              "#ed7953"
             ],
             [
              0.7777777777777778,
              "#fb9f3a"
             ],
             [
              0.8888888888888888,
              "#fdca26"
             ],
             [
              1,
              "#f0f921"
             ]
            ],
            "type": "surface"
           }
          ],
          "table": [
           {
            "cells": {
             "fill": {
              "color": "#EBF0F8"
             },
             "line": {
              "color": "white"
             }
            },
            "header": {
             "fill": {
              "color": "#C8D4E3"
             },
             "line": {
              "color": "white"
             }
            },
            "type": "table"
           }
          ]
         },
         "layout": {
          "annotationdefaults": {
           "arrowcolor": "#2a3f5f",
           "arrowhead": 0,
           "arrowwidth": 1
          },
          "autotypenumbers": "strict",
          "coloraxis": {
           "colorbar": {
            "outlinewidth": 0,
            "ticks": ""
           }
          },
          "colorscale": {
           "diverging": [
            [
             0,
             "#8e0152"
            ],
            [
             0.1,
             "#c51b7d"
            ],
            [
             0.2,
             "#de77ae"
            ],
            [
             0.3,
             "#f1b6da"
            ],
            [
             0.4,
             "#fde0ef"
            ],
            [
             0.5,
             "#f7f7f7"
            ],
            [
             0.6,
             "#e6f5d0"
            ],
            [
             0.7,
             "#b8e186"
            ],
            [
             0.8,
             "#7fbc41"
            ],
            [
             0.9,
             "#4d9221"
            ],
            [
             1,
             "#276419"
            ]
           ],
           "sequential": [
            [
             0,
             "#0d0887"
            ],
            [
             0.1111111111111111,
             "#46039f"
            ],
            [
             0.2222222222222222,
             "#7201a8"
            ],
            [
             0.3333333333333333,
             "#9c179e"
            ],
            [
             0.4444444444444444,
             "#bd3786"
            ],
            [
             0.5555555555555556,
             "#d8576b"
            ],
            [
             0.6666666666666666,
             "#ed7953"
            ],
            [
             0.7777777777777778,
             "#fb9f3a"
            ],
            [
             0.8888888888888888,
             "#fdca26"
            ],
            [
             1,
             "#f0f921"
            ]
           ],
           "sequentialminus": [
            [
             0,
             "#0d0887"
            ],
            [
             0.1111111111111111,
             "#46039f"
            ],
            [
             0.2222222222222222,
             "#7201a8"
            ],
            [
             0.3333333333333333,
             "#9c179e"
            ],
            [
             0.4444444444444444,
             "#bd3786"
            ],
            [
             0.5555555555555556,
             "#d8576b"
            ],
            [
             0.6666666666666666,
             "#ed7953"
            ],
            [
             0.7777777777777778,
             "#fb9f3a"
            ],
            [
             0.8888888888888888,
             "#fdca26"
            ],
            [
             1,
             "#f0f921"
            ]
           ]
          },
          "colorway": [
           "#636efa",
           "#EF553B",
           "#00cc96",
           "#ab63fa",
           "#FFA15A",
           "#19d3f3",
           "#FF6692",
           "#B6E880",
           "#FF97FF",
           "#FECB52"
          ],
          "font": {
           "color": "#2a3f5f"
          },
          "geo": {
           "bgcolor": "white",
           "lakecolor": "white",
           "landcolor": "#E5ECF6",
           "showlakes": true,
           "showland": true,
           "subunitcolor": "white"
          },
          "hoverlabel": {
           "align": "left"
          },
          "hovermode": "closest",
          "mapbox": {
           "style": "light"
          },
          "paper_bgcolor": "white",
          "plot_bgcolor": "#E5ECF6",
          "polar": {
           "angularaxis": {
            "gridcolor": "white",
            "linecolor": "white",
            "ticks": ""
           },
           "bgcolor": "#E5ECF6",
           "radialaxis": {
            "gridcolor": "white",
            "linecolor": "white",
            "ticks": ""
           }
          },
          "scene": {
           "xaxis": {
            "backgroundcolor": "#E5ECF6",
            "gridcolor": "white",
            "gridwidth": 2,
            "linecolor": "white",
            "showbackground": true,
            "ticks": "",
            "zerolinecolor": "white"
           },
           "yaxis": {
            "backgroundcolor": "#E5ECF6",
            "gridcolor": "white",
            "gridwidth": 2,
            "linecolor": "white",
            "showbackground": true,
            "ticks": "",
            "zerolinecolor": "white"
           },
           "zaxis": {
            "backgroundcolor": "#E5ECF6",
            "gridcolor": "white",
            "gridwidth": 2,
            "linecolor": "white",
            "showbackground": true,
            "ticks": "",
            "zerolinecolor": "white"
           }
          },
          "shapedefaults": {
           "line": {
            "color": "#2a3f5f"
           }
          },
          "ternary": {
           "aaxis": {
            "gridcolor": "white",
            "linecolor": "white",
            "ticks": ""
           },
           "baxis": {
            "gridcolor": "white",
            "linecolor": "white",
            "ticks": ""
           },
           "bgcolor": "#E5ECF6",
           "caxis": {
            "gridcolor": "white",
            "linecolor": "white",
            "ticks": ""
           }
          },
          "title": {
           "x": 0.05
          },
          "xaxis": {
           "automargin": true,
           "gridcolor": "white",
           "linecolor": "white",
           "ticks": "",
           "title": {
            "standoff": 15
           },
           "zerolinecolor": "white",
           "zerolinewidth": 2
          },
          "yaxis": {
           "automargin": true,
           "gridcolor": "white",
           "linecolor": "white",
           "ticks": "",
           "title": {
            "standoff": 15
           },
           "zerolinecolor": "white",
           "zerolinewidth": 2
          }
         }
        },
        "title": {
         "text": "GrLivArea vs y"
        },
        "xaxis": {
         "anchor": "y",
         "domain": [
          0,
          1
         ],
         "title": {
          "text": "GrLivArea"
         }
        },
        "yaxis": {
         "anchor": "x",
         "domain": [
          0,
          1
         ],
         "title": {
          "text": "__y__"
         }
        }
       }
      }
     },
     "metadata": {},
     "output_type": "display_data"
    },
    {
     "data": {
      "application/vnd.plotly.v1+json": {
       "config": {
        "plotlyServerURL": "https://plot.ly"
       },
       "data": [
        {
         "hovertemplate": "GarageCars=%{x}<br>__y__=%{y}<extra></extra>",
         "legendgroup": "",
         "marker": {
          "color": "#636efa",
          "symbol": "circle"
         },
         "mode": "markers",
         "name": "",
         "showlegend": false,
         "type": "scattergl",
         "x": {
          "bdata": "AgICAwMCAgICAQEDAQMBAgICAgEDAQICAQMCAwEBAQECAgIDAgIBAAIBAgEBAgIDAAECAgIDAgICAgMBAgECAgIDAgIBAgICAgIBAQEBAAIBAgMCAgICAgAAAgICAgICAgEBAAICAgMBAgEBAAIBAgMCAQIBAgMCAgEBAgIAAgACAgICAgICAgEDAwIAAgICAgIBAgABAgMCAgEAAgMCAgIDAgABAAEDAgICAgICAgICAgMCAgEBAgIDAgECAgICAgIBAgMCAAMCAgECAQIBAQICAAICAgEBAgECAgICAgIDAQMBAQIBAwEBAgECAgMBAgABAQICAQICAgACAgEBAgICAgECAwICAgICAQEBAwIDAQECAgIDAgICAgMCAgIAAQECAAECAgIBAgIBAQIDAgMDAwACAwIBAgICAgIDAwIDAwIBAgICAQIBAQEDAgICAwICAQIBAgIBAQECAgMCAgECAQICAgECAgECAQIBAgEBAgICAQECAAICAwIBAgICAgIAAQIDAQIBAAEBAgEBAgICAQICAgEBAwMBAgICAwICAwEBBAICAwEBAgECAgEAAgIAAgIBAQIDAAIDAgICAgEBAQICAgICAwIBAQICAQEAAgIBAwICAgIDAgICAwMCAwMBAgEBAgICAQEBAgEBAAIBAQEBAgICAgICAgIBAQICAgEDAgMCAQABAgMDAgEDAAICAgEAAgACAgECAwMCAQIDAgICAgIBAwIDAQEBAgICAgACAgEDAgICAgECAgEBAQICAQIDAAIBAwECAQECAwICAQMBAwICAgECAgICAgECAQMCAgAAAgICAwMAAgICAgIBAQICAQICAQIAAAEAAwICAgIDAgICAgACAQIBAwEBAQECAgMCAgMCAgICAQIBAgIBAgMBAwIBAQIDAgICAgICAgMCAQICAQEBAgMCAwICAAICAgEAAQICAgICAgMBAgICAQMCAgIDAgICAgEBAgIDAAICAQICAgICBAIBAAICAwICAgICAwECAgMCAgIBAgMCAgIBAwIDAgICAgICAgACAQIBAgICAgICAgIBAwECAgIDAQIBAgICAgICAQECAQMCAgICAgECAwACAgICAgICAgICAQEBAQICAAMCAgECAgICAQICAQICAgIBAgIBAgIDAgICAQICAQECAgMCAQICAgEBAgIBAgICAgEBAgIBAgMBAQECAwEBAwECAgIBAQMCAQEBAwICAAICAgIDAgICAwEDAgICAgIDAQICAAICAgEDAgICAQECAAICAgICAAICAgICAQEAAQACAQICAgACAgICAwICAgEBAwICAwICAgMBAQIBAgIBAwICAQIBAgABAAEBAQICAgICAgIBAgICAgMBAQACAwMBAQMCAAECAgICAgIDAgIBAgICAQICAgIDAgIDAgICAgICAgIBAgECAwECAQIBAgECAQICAQMCAgICAgIBAgACAQIBAQECAgICAgIDAgIBAQEDAgIBAQEDAQACAgMDAgICAAECAgEBAAICAgIDAAEBAgEBAgECAgECAgICAwICAgICAgIDAgIDAQICAAICAQEBAAICAwIDAQIDAgIEAgECAQIDAQICAQIBAgIDAQICAgICAQEBAQICAAABAQECAgEDAgMBAgICAgABAgICAgIDAgMCAgIDAgECAgECAgECAAICAgEBAgICAQMDAQICAQECAgICAgICAgIAAQECAgIDAgEBAgIBAgICAQIBAwMCAgICAgICAgIDAQIDAgMBAgECAAMAAAECAgMCAQECAgIAAgEEAgICAgECAwIABAICAwMCAQICAwICAQICAgIBAgIBAQIDAwMBAgECAQICAgEBAgEDAgIDAQIDAwIBAQEBAgIDAwICAAICAgECAgIDAgMBAgICAgIBAgIBAQICAgECAgICAwICAgIDAQIBAQIBAAADAgACAgIBAQE=",
          "dtype": "i1"
         },
         "xaxis": "x",
         "y": {
          "bdata": "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",
          "dtype": "f8"
         },
         "yaxis": "y"
        },
        {
         "hovertemplate": "<b>OLS trendline</b><br>__y__ = 0.363803 * GarageCars + 11.3812<br>R<sup>2</sup>=0.463250<br><br>GarageCars=%{x}<br>__y__=%{y} <b>(trend)</b><extra></extra>",
         "legendgroup": "",
         "marker": {
          "color": "#636efa",
          "symbol": "circle"
         },
         "mode": "lines",
         "name": "",
         "showlegend": false,
         "type": "scattergl",
         "x": {
          "bdata": "AAAAAAAAAAAAAAAAAAAAAAAAAAAAAAAAAAAAAAAAAAAAAAAAAAAAAAAAAAAAAAAAAAAAAAAAAAAAAAAAAAAAAAAAAAAAAAAAAAAAAAAAAAAAAQEBAQEBAQEBAQEBAQEBAQEBAQEBAQEBAQEBAQEBAQEBAQEBAQEBAQEBAQEBAQEBAQEBAQEBAQEBAQEBAQEBAQEBAQEBAQEBAQEBAQEBAQEBAQEBAQEBAQEBAQEBAQEBAQEBAQEBAQEBAQEBAQEBAQEBAQEBAQEBAQEBAQEBAQEBAQEBAQEBAQEBAQEBAQEBAQEBAQEBAQEBAQEBAQEBAQEBAQEBAQEBAQEBAQEBAQEBAQEBAQEBAQEBAQEBAQEBAQEBAQEBAQEBAQEBAQEBAQEBAQEBAQEBAQEBAQEBAQEBAQEBAQEBAQEBAQEBAQEBAQEBAQEBAQEBAQEBAQEBAQEBAQEBAQEBAQEBAQEBAQEBAQEBAQEBAQEBAQEBAQEBAQEBAQEBAQEBAQEBAQEBAQEBAQEBAQEBAQEBAQEBAQEBAQEBAQEBAQEBAQEBAQEBAQEBAQEBAQEBAQEBAQEBAQEBAQEBAQEBAQEBAQEBAQEBAgICAgICAgICAgICAgICAgICAgICAgICAgICAgICAgICAgICAgICAgICAgICAgICAgICAgICAgICAgICAgICAgICAgICAgICAgICAgICAgICAgICAgICAgICAgICAgICAgICAgICAgICAgICAgICAgICAgICAgICAgICAgICAgICAgICAgICAgICAgICAgICAgICAgICAgICAgICAgICAgICAgICAgICAgICAgICAgICAgICAgICAgICAgICAgICAgICAgICAgICAgICAgICAgICAgICAgICAgICAgICAgICAgICAgICAgICAgICAgICAgICAgICAgICAgICAgICAgICAgICAgICAgICAgICAgICAgICAgICAgICAgICAgICAgICAgICAgICAgICAgICAgICAgICAgICAgICAgICAgICAgICAgICAgICAgICAgICAgICAgICAgICAgICAgICAgICAgICAgICAgICAgICAgICAgICAgICAgICAgICAgICAgICAgICAgICAgICAgICAgICAgICAgICAgICAgICAgICAgICAgICAgICAgICAgICAgICAgICAgICAgICAgICAgICAgICAgICAgICAgICAgICAgICAgICAgICAgICAgICAgICAgICAgICAgICAgICAgICAgICAgICAgICAgICAgICAgICAgICAgICAgICAgICAgICAgICAgICAgICAgICAgICAgICAgICAgICAgICAgICAgICAgICAgICAgICAgICAgICAgICAgICAgICAgICAgICAgICAgICAgICAgICAgICAgICAgICAgICAgICAgICAgICAgICAgICAgICAgICAgICAgICAgICAgICAgICAgICAgICAgICAgICAgICAgICAgICAgICAgICAgICAgICAgICAgICAgICAgICAgICAgICAgICAgICAgICAgICAgICAgICAgICAgICAgICAgICAgICAgICAgICAgICAgICAgICAgICAgICAgICAgICAgICAgICAgICAgICAgICAgICAgICAgICAgICAgICAgICAgICAgICAgICAgICAgICAgICAgICAgICAgIDAwMDAwMDAwMDAwMDAwMDAwMDAwMDAwMDAwMDAwMDAwMDAwMDAwMDAwMDAwMDAwMDAwMDAwMDAwMDAwMDAwMDAwMDAwMDAwMDAwMDAwMDAwMDAwMDAwMDAwMDAwMDAwMDAwMDAwMDAwMDAwMDAwMDAwMDAwMDAwMDAwMDAwMDAwMDAwMDAwMDAwMDAwMDAwMDAwMDAwMDAwMDAwMDAwMDAwMDAwMDAwMDAwMDAwMDAwMDAwMDBAQEBAQ=",
          "dtype": "i1"
         },
         "xaxis": "x",
         "y": {
          "bdata": "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",
          "dtype": "f8"
         },
         "yaxis": "y"
        }
       ],
       "layout": {
        "legend": {
         "tracegroupgap": 0
        },
        "template": {
         "data": {
          "bar": [
           {
            "error_x": {
             "color": "#2a3f5f"
            },
            "error_y": {
             "color": "#2a3f5f"
            },
            "marker": {
             "line": {
              "color": "#E5ECF6",
              "width": 0.5
             },
             "pattern": {
              "fillmode": "overlay",
              "size": 10,
              "solidity": 0.2
             }
            },
            "type": "bar"
           }
          ],
          "barpolar": [
           {
            "marker": {
             "line": {
              "color": "#E5ECF6",
              "width": 0.5
             },
             "pattern": {
              "fillmode": "overlay",
              "size": 10,
              "solidity": 0.2
             }
            },
            "type": "barpolar"
           }
          ],
          "carpet": [
           {
            "aaxis": {
             "endlinecolor": "#2a3f5f",
             "gridcolor": "white",
             "linecolor": "white",
             "minorgridcolor": "white",
             "startlinecolor": "#2a3f5f"
            },
            "baxis": {
             "endlinecolor": "#2a3f5f",
             "gridcolor": "white",
             "linecolor": "white",
             "minorgridcolor": "white",
             "startlinecolor": "#2a3f5f"
            },
            "type": "carpet"
           }
          ],
          "choropleth": [
           {
            "colorbar": {
             "outlinewidth": 0,
             "ticks": ""
            },
            "type": "choropleth"
           }
          ],
          "contour": [
           {
            "colorbar": {
             "outlinewidth": 0,
             "ticks": ""
            },
            "colorscale": [
             [
              0,
              "#0d0887"
             ],
             [
              0.1111111111111111,
              "#46039f"
             ],
             [
              0.2222222222222222,
              "#7201a8"
             ],
             [
              0.3333333333333333,
              "#9c179e"
             ],
             [
              0.4444444444444444,
              "#bd3786"
             ],
             [
              0.5555555555555556,
              "#d8576b"
             ],
             [
              0.6666666666666666,
              "#ed7953"
             ],
             [
              0.7777777777777778,
              "#fb9f3a"
             ],
             [
              0.8888888888888888,
              "#fdca26"
             ],
             [
              1,
              "#f0f921"
             ]
            ],
            "type": "contour"
           }
          ],
          "contourcarpet": [
           {
            "colorbar": {
             "outlinewidth": 0,
             "ticks": ""
            },
            "type": "contourcarpet"
           }
          ],
          "heatmap": [
           {
            "colorbar": {
             "outlinewidth": 0,
             "ticks": ""
            },
            "colorscale": [
             [
              0,
              "#0d0887"
             ],
             [
              0.1111111111111111,
              "#46039f"
             ],
             [
              0.2222222222222222,
              "#7201a8"
             ],
             [
              0.3333333333333333,
              "#9c179e"
             ],
             [
              0.4444444444444444,
              "#bd3786"
             ],
             [
              0.5555555555555556,
              "#d8576b"
             ],
             [
              0.6666666666666666,
              "#ed7953"
             ],
             [
              0.7777777777777778,
              "#fb9f3a"
             ],
             [
              0.8888888888888888,
              "#fdca26"
             ],
             [
              1,
              "#f0f921"
             ]
            ],
            "type": "heatmap"
           }
          ],
          "histogram": [
           {
            "marker": {
             "pattern": {
              "fillmode": "overlay",
              "size": 10,
              "solidity": 0.2
             }
            },
            "type": "histogram"
           }
          ],
          "histogram2d": [
           {
            "colorbar": {
             "outlinewidth": 0,
             "ticks": ""
            },
            "colorscale": [
             [
              0,
              "#0d0887"
             ],
             [
              0.1111111111111111,
              "#46039f"
             ],
             [
              0.2222222222222222,
              "#7201a8"
             ],
             [
              0.3333333333333333,
              "#9c179e"
             ],
             [
              0.4444444444444444,
              "#bd3786"
             ],
             [
              0.5555555555555556,
              "#d8576b"
             ],
             [
              0.6666666666666666,
              "#ed7953"
             ],
             [
              0.7777777777777778,
              "#fb9f3a"
             ],
             [
              0.8888888888888888,
              "#fdca26"
             ],
             [
              1,
              "#f0f921"
             ]
            ],
            "type": "histogram2d"
           }
          ],
          "histogram2dcontour": [
           {
            "colorbar": {
             "outlinewidth": 0,
             "ticks": ""
            },
            "colorscale": [
             [
              0,
              "#0d0887"
             ],
             [
              0.1111111111111111,
              "#46039f"
             ],
             [
              0.2222222222222222,
              "#7201a8"
             ],
             [
              0.3333333333333333,
              "#9c179e"
             ],
             [
              0.4444444444444444,
              "#bd3786"
             ],
             [
              0.5555555555555556,
              "#d8576b"
             ],
             [
              0.6666666666666666,
              "#ed7953"
             ],
             [
              0.7777777777777778,
              "#fb9f3a"
             ],
             [
              0.8888888888888888,
              "#fdca26"
             ],
             [
              1,
              "#f0f921"
             ]
            ],
            "type": "histogram2dcontour"
           }
          ],
          "mesh3d": [
           {
            "colorbar": {
             "outlinewidth": 0,
             "ticks": ""
            },
            "type": "mesh3d"
           }
          ],
          "parcoords": [
           {
            "line": {
             "colorbar": {
              "outlinewidth": 0,
              "ticks": ""
             }
            },
            "type": "parcoords"
           }
          ],
          "pie": [
           {
            "automargin": true,
            "type": "pie"
           }
          ],
          "scatter": [
           {
            "fillpattern": {
             "fillmode": "overlay",
             "size": 10,
             "solidity": 0.2
            },
            "type": "scatter"
           }
          ],
          "scatter3d": [
           {
            "line": {
             "colorbar": {
              "outlinewidth": 0,
              "ticks": ""
             }
            },
            "marker": {
             "colorbar": {
              "outlinewidth": 0,
              "ticks": ""
             }
            },
            "type": "scatter3d"
           }
          ],
          "scattercarpet": [
           {
            "marker": {
             "colorbar": {
              "outlinewidth": 0,
              "ticks": ""
             }
            },
            "type": "scattercarpet"
           }
          ],
          "scattergeo": [
           {
            "marker": {
             "colorbar": {
              "outlinewidth": 0,
              "ticks": ""
             }
            },
            "type": "scattergeo"
           }
          ],
          "scattergl": [
           {
            "marker": {
             "colorbar": {
              "outlinewidth": 0,
              "ticks": ""
             }
            },
            "type": "scattergl"
           }
          ],
          "scattermap": [
           {
            "marker": {
             "colorbar": {
              "outlinewidth": 0,
              "ticks": ""
             }
            },
            "type": "scattermap"
           }
          ],
          "scattermapbox": [
           {
            "marker": {
             "colorbar": {
              "outlinewidth": 0,
              "ticks": ""
             }
            },
            "type": "scattermapbox"
           }
          ],
          "scatterpolar": [
           {
            "marker": {
             "colorbar": {
              "outlinewidth": 0,
              "ticks": ""
             }
            },
            "type": "scatterpolar"
           }
          ],
          "scatterpolargl": [
           {
            "marker": {
             "colorbar": {
              "outlinewidth": 0,
              "ticks": ""
             }
            },
            "type": "scatterpolargl"
           }
          ],
          "scatterternary": [
           {
            "marker": {
             "colorbar": {
              "outlinewidth": 0,
              "ticks": ""
             }
            },
            "type": "scatterternary"
           }
          ],
          "surface": [
           {
            "colorbar": {
             "outlinewidth": 0,
             "ticks": ""
            },
            "colorscale": [
             [
              0,
              "#0d0887"
             ],
             [
              0.1111111111111111,
              "#46039f"
             ],
             [
              0.2222222222222222,
              "#7201a8"
             ],
             [
              0.3333333333333333,
              "#9c179e"
             ],
             [
              0.4444444444444444,
              "#bd3786"
             ],
             [
              0.5555555555555556,
              "#d8576b"
             ],
             [
              0.6666666666666666,
              "#ed7953"
             ],
             [
              0.7777777777777778,
              "#fb9f3a"
             ],
             [
              0.8888888888888888,
              "#fdca26"
             ],
             [
              1,
              "#f0f921"
             ]
            ],
            "type": "surface"
           }
          ],
          "table": [
           {
            "cells": {
             "fill": {
              "color": "#EBF0F8"
             },
             "line": {
              "color": "white"
             }
            },
            "header": {
             "fill": {
              "color": "#C8D4E3"
             },
             "line": {
              "color": "white"
             }
            },
            "type": "table"
           }
          ]
         },
         "layout": {
          "annotationdefaults": {
           "arrowcolor": "#2a3f5f",
           "arrowhead": 0,
           "arrowwidth": 1
          },
          "autotypenumbers": "strict",
          "coloraxis": {
           "colorbar": {
            "outlinewidth": 0,
            "ticks": ""
           }
          },
          "colorscale": {
           "diverging": [
            [
             0,
             "#8e0152"
            ],
            [
             0.1,
             "#c51b7d"
            ],
            [
             0.2,
             "#de77ae"
            ],
            [
             0.3,
             "#f1b6da"
            ],
            [
             0.4,
             "#fde0ef"
            ],
            [
             0.5,
             "#f7f7f7"
            ],
            [
             0.6,
             "#e6f5d0"
            ],
            [
             0.7,
             "#b8e186"
            ],
            [
             0.8,
             "#7fbc41"
            ],
            [
             0.9,
             "#4d9221"
            ],
            [
             1,
             "#276419"
            ]
           ],
           "sequential": [
            [
             0,
             "#0d0887"
            ],
            [
             0.1111111111111111,
             "#46039f"
            ],
            [
             0.2222222222222222,
             "#7201a8"
            ],
            [
             0.3333333333333333,
             "#9c179e"
            ],
            [
             0.4444444444444444,
             "#bd3786"
            ],
            [
             0.5555555555555556,
             "#d8576b"
            ],
            [
             0.6666666666666666,
             "#ed7953"
            ],
            [
             0.7777777777777778,
             "#fb9f3a"
            ],
            [
             0.8888888888888888,
             "#fdca26"
            ],
            [
             1,
             "#f0f921"
            ]
           ],
           "sequentialminus": [
            [
             0,
             "#0d0887"
            ],
            [
             0.1111111111111111,
             "#46039f"
            ],
            [
             0.2222222222222222,
             "#7201a8"
            ],
            [
             0.3333333333333333,
             "#9c179e"
            ],
            [
             0.4444444444444444,
             "#bd3786"
            ],
            [
             0.5555555555555556,
             "#d8576b"
            ],
            [
             0.6666666666666666,
             "#ed7953"
            ],
            [
             0.7777777777777778,
             "#fb9f3a"
            ],
            [
             0.8888888888888888,
             "#fdca26"
            ],
            [
             1,
             "#f0f921"
            ]
           ]
          },
          "colorway": [
           "#636efa",
           "#EF553B",
           "#00cc96",
           "#ab63fa",
           "#FFA15A",
           "#19d3f3",
           "#FF6692",
           "#B6E880",
           "#FF97FF",
           "#FECB52"
          ],
          "font": {
           "color": "#2a3f5f"
          },
          "geo": {
           "bgcolor": "white",
           "lakecolor": "white",
           "landcolor": "#E5ECF6",
           "showlakes": true,
           "showland": true,
           "subunitcolor": "white"
          },
          "hoverlabel": {
           "align": "left"
          },
          "hovermode": "closest",
          "mapbox": {
           "style": "light"
          },
          "paper_bgcolor": "white",
          "plot_bgcolor": "#E5ECF6",
          "polar": {
           "angularaxis": {
            "gridcolor": "white",
            "linecolor": "white",
            "ticks": ""
           },
           "bgcolor": "#E5ECF6",
           "radialaxis": {
            "gridcolor": "white",
            "linecolor": "white",
            "ticks": ""
           }
          },
          "scene": {
           "xaxis": {
            "backgroundcolor": "#E5ECF6",
            "gridcolor": "white",
            "gridwidth": 2,
            "linecolor": "white",
            "showbackground": true,
            "ticks": "",
            "zerolinecolor": "white"
           },
           "yaxis": {
            "backgroundcolor": "#E5ECF6",
            "gridcolor": "white",
            "gridwidth": 2,
            "linecolor": "white",
            "showbackground": true,
            "ticks": "",
            "zerolinecolor": "white"
           },
           "zaxis": {
            "backgroundcolor": "#E5ECF6",
            "gridcolor": "white",
            "gridwidth": 2,
            "linecolor": "white",
            "showbackground": true,
            "ticks": "",
            "zerolinecolor": "white"
           }
          },
          "shapedefaults": {
           "line": {
            "color": "#2a3f5f"
           }
          },
          "ternary": {
           "aaxis": {
            "gridcolor": "white",
            "linecolor": "white",
            "ticks": ""
           },
           "baxis": {
            "gridcolor": "white",
            "linecolor": "white",
            "ticks": ""
           },
           "bgcolor": "#E5ECF6",
           "caxis": {
            "gridcolor": "white",
            "linecolor": "white",
            "ticks": ""
           }
          },
          "title": {
           "x": 0.05
          },
          "xaxis": {
           "automargin": true,
           "gridcolor": "white",
           "linecolor": "white",
           "ticks": "",
           "title": {
            "standoff": 15
           },
           "zerolinecolor": "white",
           "zerolinewidth": 2
          },
          "yaxis": {
           "automargin": true,
           "gridcolor": "white",
           "linecolor": "white",
           "ticks": "",
           "title": {
            "standoff": 15
           },
           "zerolinecolor": "white",
           "zerolinewidth": 2
          }
         }
        },
        "title": {
         "text": "GarageCars vs y"
        },
        "xaxis": {
         "anchor": "y",
         "domain": [
          0,
          1
         ],
         "title": {
          "text": "GarageCars"
         }
        },
        "yaxis": {
         "anchor": "x",
         "domain": [
          0,
          1
         ],
         "title": {
          "text": "__y__"
         }
        }
       }
      }
     },
     "metadata": {},
     "output_type": "display_data"
    },
    {
     "data": {
      "application/vnd.plotly.v1+json": {
       "config": {
        "plotlyServerURL": "https://plot.ly"
       },
       "data": [
        {
         "hovertemplate": "TotalBsmtSF=%{x}<br>__y__=%{y}<extra></extra>",
         "legendgroup": "",
         "marker": {
          "color": "#636efa",
          "symbol": "circle"
         },
         "mode": "markers",
         "name": "",
         "showlegend": false,
         "type": "scattergl",
         "x": {
          "bdata": "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",
          "dtype": "i2"
         },
         "xaxis": "x",
         "y": {
          "bdata": "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",
          "dtype": "f8"
         },
         "yaxis": "y"
        },
        {
         "hovertemplate": "<b>OLS trendline</b><br>__y__ = 0.000557359 * TotalBsmtSF + 11.4347<br>R<sup>2</sup>=0.374708<br><br>TotalBsmtSF=%{x}<br>__y__=%{y} <b>(trend)</b><extra></extra>",
         "legendgroup": "",
         "marker": {
          "color": "#636efa",
          "symbol": "circle"
         },
         "mode": "lines",
         "name": "",
         "showlegend": false,
         "type": "scattergl",
         "x": {
          "bdata": "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",
          "dtype": "i2"
         },
         "xaxis": "x",
         "y": {
          "bdata": "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",
          "dtype": "f8"
         },
         "yaxis": "y"
        }
       ],
       "layout": {
        "legend": {
         "tracegroupgap": 0
        },
        "template": {
         "data": {
          "bar": [
           {
            "error_x": {
             "color": "#2a3f5f"
            },
            "error_y": {
             "color": "#2a3f5f"
            },
            "marker": {
             "line": {
              "color": "#E5ECF6",
              "width": 0.5
             },
             "pattern": {
              "fillmode": "overlay",
              "size": 10,
              "solidity": 0.2
             }
            },
            "type": "bar"
           }
          ],
          "barpolar": [
           {
            "marker": {
             "line": {
              "color": "#E5ECF6",
              "width": 0.5
             },
             "pattern": {
              "fillmode": "overlay",
              "size": 10,
              "solidity": 0.2
             }
            },
            "type": "barpolar"
           }
          ],
          "carpet": [
           {
            "aaxis": {
             "endlinecolor": "#2a3f5f",
             "gridcolor": "white",
             "linecolor": "white",
             "minorgridcolor": "white",
             "startlinecolor": "#2a3f5f"
            },
            "baxis": {
             "endlinecolor": "#2a3f5f",
             "gridcolor": "white",
             "linecolor": "white",
             "minorgridcolor": "white",
             "startlinecolor": "#2a3f5f"
            },
            "type": "carpet"
           }
          ],
          "choropleth": [
           {
            "colorbar": {
             "outlinewidth": 0,
             "ticks": ""
            },
            "type": "choropleth"
           }
          ],
          "contour": [
           {
            "colorbar": {
             "outlinewidth": 0,
             "ticks": ""
            },
            "colorscale": [
             [
              0,
              "#0d0887"
             ],
             [
              0.1111111111111111,
              "#46039f"
             ],
             [
              0.2222222222222222,
              "#7201a8"
             ],
             [
              0.3333333333333333,
              "#9c179e"
             ],
             [
              0.4444444444444444,
              "#bd3786"
             ],
             [
              0.5555555555555556,
              "#d8576b"
             ],
             [
              0.6666666666666666,
              "#ed7953"
             ],
             [
              0.7777777777777778,
              "#fb9f3a"
             ],
             [
              0.8888888888888888,
              "#fdca26"
             ],
             [
              1,
              "#f0f921"
             ]
            ],
            "type": "contour"
           }
          ],
          "contourcarpet": [
           {
            "colorbar": {
             "outlinewidth": 0,
             "ticks": ""
            },
            "type": "contourcarpet"
           }
          ],
          "heatmap": [
           {
            "colorbar": {
             "outlinewidth": 0,
             "ticks": ""
            },
            "colorscale": [
             [
              0,
              "#0d0887"
             ],
             [
              0.1111111111111111,
              "#46039f"
             ],
             [
              0.2222222222222222,
              "#7201a8"
             ],
             [
              0.3333333333333333,
              "#9c179e"
             ],
             [
              0.4444444444444444,
              "#bd3786"
             ],
             [
              0.5555555555555556,
              "#d8576b"
             ],
             [
              0.6666666666666666,
              "#ed7953"
             ],
             [
              0.7777777777777778,
              "#fb9f3a"
             ],
             [
              0.8888888888888888,
              "#fdca26"
             ],
             [
              1,
              "#f0f921"
             ]
            ],
            "type": "heatmap"
           }
          ],
          "histogram": [
           {
            "marker": {
             "pattern": {
              "fillmode": "overlay",
              "size": 10,
              "solidity": 0.2
             }
            },
            "type": "histogram"
           }
          ],
          "histogram2d": [
           {
            "colorbar": {
             "outlinewidth": 0,
             "ticks": ""
            },
            "colorscale": [
             [
              0,
              "#0d0887"
             ],
             [
              0.1111111111111111,
              "#46039f"
             ],
             [
              0.2222222222222222,
              "#7201a8"
             ],
             [
              0.3333333333333333,
              "#9c179e"
             ],
             [
              0.4444444444444444,
              "#bd3786"
             ],
             [
              0.5555555555555556,
              "#d8576b"
             ],
             [
              0.6666666666666666,
              "#ed7953"
             ],
             [
              0.7777777777777778,
              "#fb9f3a"
             ],
             [
              0.8888888888888888,
              "#fdca26"
             ],
             [
              1,
              "#f0f921"
             ]
            ],
            "type": "histogram2d"
           }
          ],
          "histogram2dcontour": [
           {
            "colorbar": {
             "outlinewidth": 0,
             "ticks": ""
            },
            "colorscale": [
             [
              0,
              "#0d0887"
             ],
             [
              0.1111111111111111,
              "#46039f"
             ],
             [
              0.2222222222222222,
              "#7201a8"
             ],
             [
              0.3333333333333333,
              "#9c179e"
             ],
             [
              0.4444444444444444,
              "#bd3786"
             ],
             [
              0.5555555555555556,
              "#d8576b"
             ],
             [
              0.6666666666666666,
              "#ed7953"
             ],
             [
              0.7777777777777778,
              "#fb9f3a"
             ],
             [
              0.8888888888888888,
              "#fdca26"
             ],
             [
              1,
              "#f0f921"
             ]
            ],
            "type": "histogram2dcontour"
           }
          ],
          "mesh3d": [
           {
            "colorbar": {
             "outlinewidth": 0,
             "ticks": ""
            },
            "type": "mesh3d"
           }
          ],
          "parcoords": [
           {
            "line": {
             "colorbar": {
              "outlinewidth": 0,
              "ticks": ""
             }
            },
            "type": "parcoords"
           }
          ],
          "pie": [
           {
            "automargin": true,
            "type": "pie"
           }
          ],
          "scatter": [
           {
            "fillpattern": {
             "fillmode": "overlay",
             "size": 10,
             "solidity": 0.2
            },
            "type": "scatter"
           }
          ],
          "scatter3d": [
           {
            "line": {
             "colorbar": {
              "outlinewidth": 0,
              "ticks": ""
             }
            },
            "marker": {
             "colorbar": {
              "outlinewidth": 0,
              "ticks": ""
             }
            },
            "type": "scatter3d"
           }
          ],
          "scattercarpet": [
           {
            "marker": {
             "colorbar": {
              "outlinewidth": 0,
              "ticks": ""
             }
            },
            "type": "scattercarpet"
           }
          ],
          "scattergeo": [
           {
            "marker": {
             "colorbar": {
              "outlinewidth": 0,
              "ticks": ""
             }
            },
            "type": "scattergeo"
           }
          ],
          "scattergl": [
           {
            "marker": {
             "colorbar": {
              "outlinewidth": 0,
              "ticks": ""
             }
            },
            "type": "scattergl"
           }
          ],
          "scattermap": [
           {
            "marker": {
             "colorbar": {
              "outlinewidth": 0,
              "ticks": ""
             }
            },
            "type": "scattermap"
           }
          ],
          "scattermapbox": [
           {
            "marker": {
             "colorbar": {
              "outlinewidth": 0,
              "ticks": ""
             }
            },
            "type": "scattermapbox"
           }
          ],
          "scatterpolar": [
           {
            "marker": {
             "colorbar": {
              "outlinewidth": 0,
              "ticks": ""
             }
            },
            "type": "scatterpolar"
           }
          ],
          "scatterpolargl": [
           {
            "marker": {
             "colorbar": {
              "outlinewidth": 0,
              "ticks": ""
             }
            },
            "type": "scatterpolargl"
           }
          ],
          "scatterternary": [
           {
            "marker": {
             "colorbar": {
              "outlinewidth": 0,
              "ticks": ""
             }
            },
            "type": "scatterternary"
           }
          ],
          "surface": [
           {
            "colorbar": {
             "outlinewidth": 0,
             "ticks": ""
            },
            "colorscale": [
             [
              0,
              "#0d0887"
             ],
             [
              0.1111111111111111,
              "#46039f"
             ],
             [
              0.2222222222222222,
              "#7201a8"
             ],
             [
              0.3333333333333333,
              "#9c179e"
             ],
             [
              0.4444444444444444,
              "#bd3786"
             ],
             [
              0.5555555555555556,
              "#d8576b"
             ],
             [
              0.6666666666666666,
              "#ed7953"
             ],
             [
              0.7777777777777778,
              "#fb9f3a"
             ],
             [
              0.8888888888888888,
              "#fdca26"
             ],
             [
              1,
              "#f0f921"
             ]
            ],
            "type": "surface"
           }
          ],
          "table": [
           {
            "cells": {
             "fill": {
              "color": "#EBF0F8"
             },
             "line": {
              "color": "white"
             }
            },
            "header": {
             "fill": {
              "color": "#C8D4E3"
             },
             "line": {
              "color": "white"
             }
            },
            "type": "table"
           }
          ]
         },
         "layout": {
          "annotationdefaults": {
           "arrowcolor": "#2a3f5f",
           "arrowhead": 0,
           "arrowwidth": 1
          },
          "autotypenumbers": "strict",
          "coloraxis": {
           "colorbar": {
            "outlinewidth": 0,
            "ticks": ""
           }
          },
          "colorscale": {
           "diverging": [
            [
             0,
             "#8e0152"
            ],
            [
             0.1,
             "#c51b7d"
            ],
            [
             0.2,
             "#de77ae"
            ],
            [
             0.3,
             "#f1b6da"
            ],
            [
             0.4,
             "#fde0ef"
            ],
            [
             0.5,
             "#f7f7f7"
            ],
            [
             0.6,
             "#e6f5d0"
            ],
            [
             0.7,
             "#b8e186"
            ],
            [
             0.8,
             "#7fbc41"
            ],
            [
             0.9,
             "#4d9221"
            ],
            [
             1,
             "#276419"
            ]
           ],
           "sequential": [
            [
             0,
             "#0d0887"
            ],
            [
             0.1111111111111111,
             "#46039f"
            ],
            [
             0.2222222222222222,
             "#7201a8"
            ],
            [
             0.3333333333333333,
             "#9c179e"
            ],
            [
             0.4444444444444444,
             "#bd3786"
            ],
            [
             0.5555555555555556,
             "#d8576b"
            ],
            [
             0.6666666666666666,
             "#ed7953"
            ],
            [
             0.7777777777777778,
             "#fb9f3a"
            ],
            [
             0.8888888888888888,
             "#fdca26"
            ],
            [
             1,
             "#f0f921"
            ]
           ],
           "sequentialminus": [
            [
             0,
             "#0d0887"
            ],
            [
             0.1111111111111111,
             "#46039f"
            ],
            [
             0.2222222222222222,
             "#7201a8"
            ],
            [
             0.3333333333333333,
             "#9c179e"
            ],
            [
             0.4444444444444444,
             "#bd3786"
            ],
            [
             0.5555555555555556,
             "#d8576b"
            ],
            [
             0.6666666666666666,
             "#ed7953"
            ],
            [
             0.7777777777777778,
             "#fb9f3a"
            ],
            [
             0.8888888888888888,
             "#fdca26"
            ],
            [
             1,
             "#f0f921"
            ]
           ]
          },
          "colorway": [
           "#636efa",
           "#EF553B",
           "#00cc96",
           "#ab63fa",
           "#FFA15A",
           "#19d3f3",
           "#FF6692",
           "#B6E880",
           "#FF97FF",
           "#FECB52"
          ],
          "font": {
           "color": "#2a3f5f"
          },
          "geo": {
           "bgcolor": "white",
           "lakecolor": "white",
           "landcolor": "#E5ECF6",
           "showlakes": true,
           "showland": true,
           "subunitcolor": "white"
          },
          "hoverlabel": {
           "align": "left"
          },
          "hovermode": "closest",
          "mapbox": {
           "style": "light"
          },
          "paper_bgcolor": "white",
          "plot_bgcolor": "#E5ECF6",
          "polar": {
           "angularaxis": {
            "gridcolor": "white",
            "linecolor": "white",
            "ticks": ""
           },
           "bgcolor": "#E5ECF6",
           "radialaxis": {
            "gridcolor": "white",
            "linecolor": "white",
            "ticks": ""
           }
          },
          "scene": {
           "xaxis": {
            "backgroundcolor": "#E5ECF6",
            "gridcolor": "white",
            "gridwidth": 2,
            "linecolor": "white",
            "showbackground": true,
            "ticks": "",
            "zerolinecolor": "white"
           },
           "yaxis": {
            "backgroundcolor": "#E5ECF6",
            "gridcolor": "white",
            "gridwidth": 2,
            "linecolor": "white",
            "showbackground": true,
            "ticks": "",
            "zerolinecolor": "white"
           },
           "zaxis": {
            "backgroundcolor": "#E5ECF6",
            "gridcolor": "white",
            "gridwidth": 2,
            "linecolor": "white",
            "showbackground": true,
            "ticks": "",
            "zerolinecolor": "white"
           }
          },
          "shapedefaults": {
           "line": {
            "color": "#2a3f5f"
           }
          },
          "ternary": {
           "aaxis": {
            "gridcolor": "white",
            "linecolor": "white",
            "ticks": ""
           },
           "baxis": {
            "gridcolor": "white",
            "linecolor": "white",
            "ticks": ""
           },
           "bgcolor": "#E5ECF6",
           "caxis": {
            "gridcolor": "white",
            "linecolor": "white",
            "ticks": ""
           }
          },
          "title": {
           "x": 0.05
          },
          "xaxis": {
           "automargin": true,
           "gridcolor": "white",
           "linecolor": "white",
           "ticks": "",
           "title": {
            "standoff": 15
           },
           "zerolinecolor": "white",
           "zerolinewidth": 2
          },
          "yaxis": {
           "automargin": true,
           "gridcolor": "white",
           "linecolor": "white",
           "ticks": "",
           "title": {
            "standoff": 15
           },
           "zerolinecolor": "white",
           "zerolinewidth": 2
          }
         }
        },
        "title": {
         "text": "TotalBsmtSF vs y"
        },
        "xaxis": {
         "anchor": "y",
         "domain": [
          0,
          1
         ],
         "title": {
          "text": "TotalBsmtSF"
         }
        },
        "yaxis": {
         "anchor": "x",
         "domain": [
          0,
          1
         ],
         "title": {
          "text": "__y__"
         }
        }
       }
      }
     },
     "metadata": {},
     "output_type": "display_data"
    },
    {
     "data": {
      "application/vnd.plotly.v1+json": {
       "config": {
        "plotlyServerURL": "https://plot.ly"
       },
       "data": [
        {
         "hovertemplate": "OverallQual=%{x}<br>__y__=%{y}<extra></extra>",
         "legendgroup": "",
         "marker": {
          "color": "#636efa",
          "symbol": "circle"
         },
         "mode": "markers",
         "name": "",
         "showlegend": false,
         "type": "scattergl",
         "x": {
          "bdata": "BwYHBwgFCAcHBQUJBQcGBwYEBQUIBwgFBQgFCAUEBAUIBQkIBQUFBAYFBQUFCQcIBAUGBgUJBQYIBwoFBgUIBwcIBwcEBwcEBwUDBAQFBAUGBggFBwgGBgMEBAUFBgYGBwQFBAYGBQcHCAQFBQYGBwcGBgYFBQcGBgQGBgYGBgUGBQcGBQgFBwUHCAYEBwUHBQYFBwcFBQgGBgYGBQgHBwYJBwQGBQUIBwgFBgcGBgYGBQkFBgcFBwUKBwUFCAgHBwcFBgcIBggEBgYGBQcFBAcGBQYHBQYFBwQHBwcGBgQKBQcGBQcGCAYFBgYHBwgGCAUFBgcHBgYHBgMIBgYFBwYHBwUGCAYFBQYGBQUGCAcIBgUHBwQJBwcGBwgGBwYEBQYIBQUHBgYFBwYGBQgHBQcIBwYECQYGBQcHBwcIBwcJCAcDBwUIBgYFBQUIBwYFCQcHBggEAwkFBgYGBwkJBwUGBgYGBQUIBgUHBgYFBgYFBQYEBgUHAQUICQYFBwcGBggFBgcKBQYFBAUFBQUFBwgHBQgGBAYGBwgFBQcFBwcGBgUFBwYFCAYHBwQHBgYGBQYEBwYGBQYKBAUHBwYGBwYDBgcGCAUHBQQIBQgHBQYFBwcFCAYIBwYICAUGCQgECQkHBgUFBQUFBAUGBgUFBAgHBQUGBwUHBgUIBgcFBQcFBgUKBgcGBwQGBgoHBwUJBAYGBgUBCAUHBAUICQgHBwcHBgUFBwYFCAQHBQUEBwcFBQUGBwYJBwgFBQYHBwUFBwUHBQYIBgoECAYFBQUHCgUGBQgGBwUGCAYIBwcHBQUIBAkGCAUEBgYGCQgDBgUGBgYFBgUGBQgHBQYGAgUFCAgHCAUJBgUGBgQHBAcGCAYFBwYFBwgGBAgIBgYFBAYGBgYGBgQFCAUGBQYJBwcHBwgGBgoHBQUGBQUFBwgHCAUHBAcIBwUDBAgEBgYHBQcFCAYEBAkEBgcFBAgHBwUFBwMIBQcFBgcFCAgHBwcEBAcGCAYGCAYHCAYFBwgICQcGBwgFBAYFCAYHBQUGBwYHBQYGBQcEBgcGBwgHBgYFCQUGBAcJBQcFBQUFBgYFBgUHBQgGBwcEBwYICgUHBQcGBwcGBQQFBgUFBgUGBQUFBwUGBgYIBwYFBQYGBwYHBQYFBwUIBAUHBQYFBQUIBAkFBQUHBgQFCQUFCAYFBgYFBQYEBQkFBAUHBwUFCAcFBgUFBQUGBAIEBwYGBQYGBgUIBwgHCAUJBwcEBwcHBwYHBAUGBQUIBwYFBQUFBgYGBQcHBQYGCQcGBQUDBgQHBgcHBwQHBAUHCAcIBQUGCQYHCAgGBgoEBQYDBwMFCAUHBQYEBwUFBQYFBggHCAcHBAcFBwgFBQgFBgUHCAcFBAkIBAQFBgYHCAMJBQUEBwcGBQgGBwcJBggDBQYFBwYGBgUFBgUGBwcFBQYFBgUHBgYGBAgHCAMHBgUFBgYIBAcCBQUGBQgHBwYIBgcFBQUICAUFBQYHBAUHBAcHBwUEBQYIBgYGBQYFBQUIBQQFBgcHBwYFBgYHBQUHCAYGBgUEBQcIBgYKBgYHBQYIBQYFBQcICgUFBQMIBwcECAUGBgYHBwcEBAcFBwUHBAYFCAYIBAQFBQYIBAYFBQYFBwYGBQkFBQUEBQUFBwcGCAcHBwoIBgcGBgUHBwUHBwYIBQcGBgUEBgYHBwkIBQcGBQYFBQYGCAQHBwUGBgYGBQgIBQUFBwUFBQYKBQcGCAcHCQcFBQYHBwgJBAYIBwgEBgMHBAgEAwUGBwgFBAUFBgUEBwUEBggGBwQHCAcIBQYGCAcHBQUGCQUHBAYHBwcFBggEBgcKBwgGBQYFAwYHBQYEBwYJBgcFBQYHCAUFBQYGBgcIAwgFBQQHBwYECAYHBAgFBgYGBgYFBgcFBQYFBgQGBQYECAYHBgYKBgcGBQgEBQUIBQUHBgYHBQU=",
          "dtype": "i1"
         },
         "xaxis": "x",
         "y": {
          "bdata": "8SIoa9J+KEB07cwA0TcoQGCQXUJkoihA3rgXMeWyJ0DQY+i/wtsoQPRzGTDAvSdAL1BmHetEKUDE3lcCg2koQKUNyOuOjCdAgvf2lV1bJ0Brokix+oonQAoS0ruqgClA3ew1lFHBJ0ArJDel3hQpQPDMjWKS7SdAPrkP6MSUJ0A3Uwhuy9InQNXFM8+t0CZAz8IuiQ30J0CiYzmcOa8nQOHzviuQYilARyRhQLKwJ0D2Nw3NEbEoQKUNyOuOjCdA+llAmrHjJ0DcKsTRgOgoQEAAkR+EnydA1CaJeT9DKUD/rDxEXHwoQHSzGsTqRCZAiEpuYn0xJUD6VTb0/tMnQKR+TG5IMyhAYakSKpEIKEACCqVfMREpQMFCYTs+SClAU+ohptzEJ0B9DkG3W+AnQBALH9q+MidAxPdNZwShJkD3zypNQ/cnQNPVlHFNFihA3ew1lFHBJ0DSn+iZ740nQK4q+xWKtidAW1jhHP5ZKUCNDriNMMYoQJV0kl4l2yhALYrSojJFJ0CEGi2f/4AnQAnGk1b2KihA/O9eEfNLJ0CLGJ/aazcnQOFHkybVuClAnOKdyPOMJ0BbPsDZ/DQoQCivJO3GHShAVfIB9HhgKEANZWpnx/spQO9hHTB2eCdA0vztldLwJ0CbTI6stwsnQKfi3z7fbyhA3rgXMeWyJ0Bav4U3JZkoQI7mmHxUVSlAZfO5RJEzKED73kk+FqgoQNjC8e5flCZA2QqQ/tClKEABEbWrUs8oQGuiSLH6iidAd1e0fJhBKEAlP1I5gsQnQEP4050sKydAIgwVHlbWJkA2/46aHKMnQIQaLZ//gCdAalySwu6lJ0CLGJ/aazcnQN8ncW6YWChAxMfCWgfiJ0DbKkfAatEoQFfxbJP6fidAqcrmzMMRKEBFgX931+8oQLcP2L81IihAjy19ynYFKED7xgUHarMmQHGuNc8acydAxf3+pPQ2J0CQ/4qFZ/8mQHlR6JJXAihAcjfrFRacJ0DM1QeQh3UoQHdXtHyYQShAthDjHieMKEAJeeINA+smQI4Cvic5pyZAzqO71cyIJ0AWYdeAJ3YoQHLVEMXYLShAHPWlBIhfJ0BRBoQgsGYoQIKsPV/LFChA0GPov8LbKED2lC16nwYnQKngAC8uTidAqeAALy5OJ0AHktDtP08oQDLhEUpupydAZfO5RJEzKEB/lYMFdrcpQFFyU89HkyhAkAfeKdvuKEDxqgy5DygoQKJjOZw5rydAWb1k9gHnJ0AgCD8UJ1opQDwpl8zfAyhAZfO5RJEzKED2lC16nwYnQL6XzsMNpCdAkTS5dlzjJ0CXWU1tZzYoQDeQiL9ksCZAPBN6ogOFJ0DVb79QUr8mQFm9ZPYB5ydASbG6KTjWJ0D73kk+FqgoQAERtatSzyhAeyS94sXYJ0AQ2AlyT5ooQGXzuUSRMyhAtw/YvzUiKED0cxkwwL0nQOPQLTFOGShA9jcNzRGxKECE+tvWZbQoQKngAC8uTidARYF/d9fvKEDVhYuNHAooQKXy9pCmcyhAcEgwFt94J0Cc4p3I84wnQAggcnCaHydAs697fhigKECuKvsVirYnQKngAC8uTidAX9xJBW9sJ0DsrxZ5zKcpQAeS0O0/TyhAgMNyphS8KEBwSDAW33gnQMeBXDrvjSZA+5wtuBY1J0B8SsYyNwIpQLigDuay5ShAIAg/FCdaKUC9Gx10M/8nQLQ8YSko3ClAENgJck+aKEBy1qcHwBYnQCSi2DoA3SdArRPWogKDJ0AHktDtP08oQKZWWacSYylACb9Eam09KEDrJakQmawoQBUfH6IChydA1gNcLYqOKED9ogfhuMQoQGO9XyHGAChAiKRnEtI+KECDlYljOM0oQEW3nqvshChAKK8k7cYdKEBL+I9Zh0AqQPaULXqfBidACcaTVvYqKEByUUiHxGkoQCa6iIL4YydAxN5XAoNpKECEGi2f/4AnQK2d6JJjJCpAbOUeS0IfKEBte1NyRqAnQJ2V+Bh84SdAZoO26qMgKUCl1LzqFlIpQIikZxLSPihAN5Z+apxUKECc4p3I84wnQIQaLZ//gCdAtYat2hLRJ0BZNpHZ+kwpQIDDcqYUvChAe24GKrQaJ0AG+t2GXwwpQN64FzHlsidAuS3S4cwaKEAmWuSNpUAnQDdTCG7L0idAixif2ms3J0BbPsDZ/DQoQILNlob2wCdArir7FYq2J0Ae8+T+RBApQFPqIabcxCdAWSyofkf8JkCM4JcSW0QoQOKqEFI34ShAQczg3UzqJ0C2Vfkb1fwnQMiG31wvnidAI5uZAH6CKECrBr+LQyknQFfqLWpeTClAHNQXAOwNKEBnf+mM53UoQMTeVwKDaShApH5MbkgzKEDINyYrB/cmQEndxwR+uilAJlrkjaVAJ0BaPl1iwCcpQCjvTNN0JCdAcEgwFt94J0C4EstN8VUoQAng7cpYzydAWaD7PDrQKUDd1LHDqOkmQPJU80XQhSdAa14ddBmSKEBYYwic080mQIEDikH6QihAyVHsDjxbKECUJ5pP8VYpQC2K0qIyRSdAqSrDv730KEAK/MtHvjknQMeBXDrvjSZAJrqIgvhjJ0AWYdeAJ3YoQFu4WcwMyihALcYe/82nJ0DeuBcx5bInQGXzuUSRMyhAHvPk/kQQKUD6OqBieH0mQIDDcqYUvChAbOUeS0IfKEDS/O2V0vAnQFPqIabcxCdA9jcNzRGxKED/rDxEXHwoQBDYCXJPmihAhPrb1mW0KEDINyYrB/cmQPGqDLkPKChAjTkE9WoOKUCsyxoSn9knQJzincjzjCdArp/+MX5lJkDB+9bUmiYoQHdXtHyYQShAeMfLrCQyKEBd6gqBGWYnQAng7cpYzydAswgk0oX7KEBbuFnMDMooQFo+XWLAJylAomM5nDmvJ0BJnWLA0XYnQBZh14AndihAxouhuxBsKECuKvsVirYnQNZZHzme3ylAN5Z+apxUKEC7eg0wuK0oQHdXtHyYQShA/6w8RFx8KEAvi/yUlNAoQLLXXG5JMShApaIfDRYGKEDPwi6JDfQnQCYPw0csxSZAX9xJBW9sJ0B95VJhR+InQFAX1bE1uChAgnKJWq2jJ0AAKf0p4JAnQIDDcqYUvChAAIAPxS8NKEAE4yQY9bsnQCSi2DoA3SdA/aIH4bjEKECu4UbgJCUoQP23grZw8idA8MyNYpLtJ0Bo4KClcf0oQBZh14AndihAWBzMwODVJ0CvpWf6gDApQJ5fR6IUQylA2QqQ/tClKEBYYwic080mQNhFwy8hpCZAicJ0F3WWKUD/sGhW4AgoQD65D+jElCdA7FMVPYtjJ0BXK5GyW6spQHLVEMXYLShAuRGaDDFLKEBFgX931+8oQLi5/CUqAylARYF/d9fvKEBH7hvcd0goQERZ2DEofSlA4Cm6J9qNKUAXd40X0DopQD/GI2apfSdARMUe4xvLKEDVb79QUr8mQOrijVGDYClA6ThjcL7FJ0A/ZkgBWY0oQANQCIVphyZAWvAEra9fJ0CiYzmcOa8nQHPk3xwMHSlAptgADSB7KEA3ln5qnFQoQL8HuA+6rihAcH2l6aiuKUC2EOMeJ4woQKfi3z7fbyhAWb1k9gHnJ0AdCYjl4XAoQMT3TWcEoSZAhykUcEHCJkCzCCTShfsoQPvGBQdqsyZAJ21yTaCzJ0DA5jZdUNsnQP2xUiUz7ydA+llAmrHjJ0D9iBbJ4PkpQCC0gXMKVylAB5LQ7T9PKEClwXpuXOwmQEeqiB35IydA3rgXMeWyJ0DAVfISaCwoQGzlHktCHyhAGWyz73ecJ0Cc4p3I84wnQBQwMenIFSlAQczg3UzqJ0BT6iGm3MQnQI9H6ESoZShAgvf2lV1bJ0AHktDtP08oQMXx7CvgyydAz8IuiQ30J0D0LFeUBAcoQD65D+jElCdAsEQuiZ/9J0BfZsXreh0oQHNBYdAdnidAcEgwFt94J0By4E3+nHAnQFq/hTclmShA66di6IsJJkAJ4O3KWM8nQIUS1D4xeSlAMX2JiDnFKUDK94MQtzAoQIQaLZ//gCdAg1VQgSZJKEAfqFGF9IooQAMqqecceiZAIzKpJtzGKEA3ln5qnFQoQAJtXii8miZAcEgwFt94J0DNlAv471EoQJLT4xSl7ClAWvAEra9fJ0DWA1wtio4oQLawUKHdJidA9pQtep8GJ0AQCx/avjInQAs9v6X/iCdAcuBN/pxwJ0CCrD1fyxQoQBcOK7qUOSZA9OS/Jf3IKECZk6b4ddIoQD51sKL8BihAXzhY0QYuJ0BEwKBT4+soQIg/bUk+EChASbG6KTjWJ0Cp4AAvLk4nQAnGk1b2KihAFDAx6cgVKUCZCnPV0HgpQEP7NmoVASZAU+ohptzEJ0CZRcGe8Z4oQKngAC8uTidA6yWpEJmsKEAHdmBtyDYoQLi8ioeC1CdA/aIH4bjEKEDA/3Z783wnQJBXFmMouidAkoYrEGR5KEDWA1wtio4oQC2K0qIyRSdApdS86hZSKUCiYzmcOa8nQG17U3JGoCdAmkKnMo8MKUA5Crh4yDInQBKCuyiZXShAruFG4CQlKECO7wFi0bUmQMxrMf67kyZAaEVMGYduJ0CXWU1tZzYoQAJtXii8miZA90z2ZFiHKEDond0AnVInQFrwBK2vXydAI2UkiqrSJkCLGJ/aazcnQEZcH1MVdCpAgvf2lV1bJ0BnX6SxdQAoQCivJO3GHShAI5uZAH6CKECtE9aiAoMnQAeS0O0/TyhAtPUDdUFpKEC/63w91WEnQCa6iIL4YydAixif2ms3J0AUMDHpyBUpQKXy9pCmcyhAI5uZAH6CKEBWiAbr1EkoQMH71tSaJihAWSyofkf8JkCYeldP5+coQDYvbPJz+idAixif2ms3J0D4CabIj/YoQFm9ZPYB5ydAlnrtWgYVJkA2Iw8LvEsoQOb0ZE3CdCdApYMTi/gvKEAAgA/FLw0oQJ9AcZchyidA0GPov8LbKEC3yJXeGUcoQPdM9mRYhyhAB5LQ7T9PKEAJ4O3KWM8nQJn4tlUz/SlAIRhh/c3dKEBPEBxztJYnQPCYMKLNfyhAMDVzxSOyKUAF+aKZ9jMpQOq0ASKpzSZA8AFi6qljKUCXxs20/akpQFm9ZPYB5ydAo2+kyucDKEBPEBxztJYnQMXx7CvgyydAQczg3UzqJ0Cu4UbgJCUoQPfPKk1D9ydApT9nCGe5JkCp4AAvLk4nQC8zWSCimCdAeWnVTJ8eKEBZvWT2AecnQBIe8IEF2CZA3z70m6jrJEC6IUMPbvEpQIikZxLSPihAnOKdyPOMJ0AmuoiC+GMnQC2K0qIyRSdA9YXdlqupKEDeuBcx5bInQGUn4KH7JSlAxfHsK+DLJ0BJnWLA0XYnQNYDXC2KjihADdZboVR+KEA2L2zyc/onQEmdYsDRdidAwI9HHrUGKEBOVUEASnAoQKUNyOuOjCdAGWyz73ecJ0ASa6PMYfQmQHyApgUN0ClA0vztldLwJ0DwCW0kmPkoQEW3nqvshChAeVKUteW5KEDPyzCXqSUnQEmxuik41idAz8IuiQ30J0CmH3U+50AoQML3B59OUylA8aoMuQ8oKEA+uQ/oxJQnQC2xy0dvBCpApT9nCGe5JkCpCqxQG2soQK7hRuAkJShAPBN6ogOFJ0AASH2ZpisnQHNNDGBzKCVActUQxdgtKEAASH2ZpisnQFaIBuvUSShACjxa5TQ9J0DS/O2V0vAnQKDDYXjxBilApdS86hZSKUDl+Af2pdcoQM7Ek/NaiihALzNZIKKYJ0CuG10anTIoQN4wyK7WrihAI5uZAH6CKEBrokix+oonQHBIMBbfeCdA0z3uK7f1KEDeuBcx5bInQMOiwWPtQidAO8eDD+fmKEBfOFjRBi4nQHPk3xwMHSlALYrSojJFJ0CuKvsVirYnQF84WNEGLidAruFG4CQlKEB5UpS15bkoQHNAr71UaidA09WUcU0WKEBfOFjRBi4nQHdXtHyYQShA/T5volv/KEA8E3qiA4UnQC9NzjwXYilAthDjHieMKEBsrwT+rlQpQOo2ejXnoydAXMiwClG8J0AmuoiC+GMnQLxXhGatpChA09WUcU0WKECiYzmcOa8nQEZtLsyHXSdAU+ohptzEJ0CPLX3KdgUoQOyyG3xhyCdAq8OTe9OSJ0ChMDCM8TgoQIQ9lPN14ihARm0uzIddJ0AvTc48F2IpQC8zWSCimCdAyJT841ikKUCc4p3I84wnQC3GHv/NpydA9HMZMMC9J0CoW0csKpEmQBlo0pUURChAB9UEpOsKKkAxXqc+h6snQN64FzHlsidAixif2ms3J0Ax9MrWjFgpQF4gjKX3SydAc7gbaXJaKEBCCmV4dZQoQKzLGhKf2SdAmkKnMo8MKUCuKvsVirYnQBDYCXJPmihArMsaEp/ZJ0C5Z+ffoZwoQBZh14AndihAJKLYOgDdJ0DZCpD+0KUoQHG2kwAtlSlARm0uzIddJ0Dk6jIQ1E4pQAng7cpYzydA3pu+ecnyKEDF8ewr4MsnQE6TYcC7diZAkZO7fKupJ0ATY0v0ljwoQLlgtRoJIidAxE1FFclRKUD7k1JvkkEpQBcOK7qUOSZAIzKpJtzGKEBte1NyRqAnQKnK5szDEShAwO1TrnsHKED3zypNQ/cnQOaoP4mHsidAfQ5Bt1vgJ0Bte1NyRqAnQKnK5szDEShA5vRkTcJ0J0AfaDeORYEoQNhFwy8hpCZARyRhQLKwJ0Dd7DWUUcEnQMTeVwKDaShAQ/s2ahUBJkBCTw6Xd+EmQPvGBQdqsyZAKuYk1L74KEBqdZi0sQopQPveST4WqChAChLSu6qAKUAkotg6AN0nQP/tLPuypSlAa/8QIqW+J0CsNlwe2P0mQFm9ZPYB5ydAWb1k9gHnJ0A3kIi/ZLAmQHRDDIGFeChAXzhY0QYuJ0DNlAv471EoQG17U3JGoCdAo/RXsAiIKUAmD8NHLMUmQITIPdefxidAN1MIbsvSJ0BQgh0OqfkmQACAD8UvDShArUzZextkKEC0RBmY9M4pQIsYn9prNydAkZO7fKupJ0Alo6rGBukpQEzZ+m0usihACz2/pf+IJ0DfJ3FumFgoQIg/bUk+EChAkZO7fKupJ0AECdGQvCAoQMX18BK7GCdA9CxXlAQHKEBcf9EQ5eooQN64FzHlsidAtYat2hLRJ0DVb79QUr8mQPucLbgWNSdApDP49e6nKUAVHx+iAocnQPRzGTDAvSdAQ+Cp0HL1J0Bs5R5LQh8oQCyQWNLYHilAuWfn36GcKED/rDxEXHwoQORsoC9RrChArgCTYBvSJ0BPk7zdDsIpQNdiSsTCWyhArir7FYq2J0BIFVOfphErQMdIg2ibcSlAFAxbEEwwJ0ALwwMOWrgnQPGqDLkPKChA9NiiUfXKJkBMxNe4sHInQJ+8F0hhrSdAbfNlAytfKED04S6EAk4pQN64FzHlsidAXQqx6y2ZKUDeuBcx5bInQDJIuDPBiShA1LS424jUJUCAFe/SgjwpQGVNAkvj4yhA4Ws74UEyKEDF/f6k9DYnQEcguTzRtyVAQKy5aaQUJ0AlcRhCjEwoQAs9v6X/iCdA1hyW7+qOJ0D0LFeUBAcoQPzhChCp9SdA8MyNYpLtJ0CSezIvsnopQBUfH6IChydAmkKnMo8MKUD0cxkwwL0nQEmdYsDRdidAbXtTckagJ0AgCD8UJ1opQF3qCoEZZidAmUXBnvGeKEDJUewOPFsoQIsYn9prNydAe445xcEVJ0D1ZB6eVr8oQEfuG9x3SChAs697fhigKED+z2LFb5InQF84WNEGLidAY71fIcYAKEBrQRViNuQmQCzXyoalxihAyveDELcwKEAHktDtP08oQD65D+jElCdAkFcWYyi6J0DK94MQtzAoQK7hRuAkJShAZfO5RJEzKEArrc+AxDgpQDPPuDdBvihAAxUDeXv7KEDZjdX1oPAoQFksqH5H/CZAEmujzGH0JkCwRC6Jn/0nQFFyU89HkyhAn2kYS30NKUBBzODdTOonQCivJO3GHShA90z2ZFiHKEDckUITu/MnQCgTaqLbMShAWj5dYsAnKUCtE9aiAoMnQPaULXqfBidAEnEhDASPKEDEH0WZp3QpQLi5/CUqAylAZJHbHer3KEBV8gH0eGAoQPfPKk1D9ydAunV9UeWSKEBQ8aG9J2QqQGBWKlLlnydAh4WCBcMQJ0CrBr+LQyknQPzvXhHzSydAoC6QJfbFKUCwRC6Jn/0nQOt90RTKnShABOMkGPW7J0Dd7DWUUcEnQG17U3JGoCdA8aoMuQ8oKEACsLg6xScoQP9bPfFfRyhAYakSKpEIKEA8E3qiA4UnQMRxnF4K/CdAomM5nDmvJ0DMMulftLcoQG1GUmaNLSdAR+4b3HdIKEB9usAJ5/cnQMAq3bgtyydAhrYJKsQCKUDZCpD+0KUoQMlR7A48WyhA49AtMU4ZKEAKSdatib8nQIsYn9prNydAV4dnVQ4vKkCu4UbgJCUoQMTeVwKDaShAxf3+pPQ2J0AlcRhCjEwoQIbj2305jSpAgvf2lV1bJ0BwPdn54KsoQDxygv8qoidAYJBdQmSiKEBVhNVVGvcnQCjvTNN0JCdAl1lNbWc2KEBKUQvmF8MnQJnEDSey3SVAtcNbmn/wJ0Dond0AnVInQIWrO7qWpShALcYe/82nJ0DQFaGzDgUpQFm9ZPYB5ydAZ1MIKImjKEDpPQLJBzwoQEJPDpd34SZA2QqQ/tClKEDbRjA+ELEnQOoteyrTtihA4UeTJtW4KUD7nC24FjUnQCVxGEKMTChAd1e0fJhBKECdTOJXRM0nQNWFi40cCihArMsaEp/ZJ0B72Ilua8AoQACAD8UvDShA8uZPX7ayJ0A8E3qiA4UnQMTHwloH4idA9pQtep8GJ0Dd7DWUUcEnQNYclu/qjidA3rgXMeWyJ0D9sVIlM+8nQLzr8fTZJChArir7FYq2J0CRNLl2XOMnQOPQLTFOGShAMki4M8GJKECsGF3zjZonQCMyqSbcxihAt8iV3hlHKECrw5N705InQNYDXC2KjihAo2+kyucDKEDS/O2V0vAnQNPVlHFNFihAhBotn/+AJ0DF8ewr4MsnQLcP2L81IihAJKLYOgDdJ0DQY+i/wtsoQFLhlW4dTyhAq8OTe9OSJ0Akotg6AN0nQE8QHHO0lidA/JK3e/LcKEC1hq3aEtEnQKjAPMOA2ShACz2/pf+IJ0Bno+woSBMoQDPPuDdBvihA+5wtuBY1J0CuWlJHymooQOid3QCdUidALzNZIKKYJ0CIzrLsvjUmQLrRA0wCPylAxJKJ6byVJ0Cj9FewCIgpQAng7cpYzydAalySwu6lJ0DwzI1iku0nQEfuG9x3SChActUQxdgtKEBGbS7Mh10nQPaULXqfBidAv2cAvDJoKUBT6iGm3MQnQDxygv8qoidA/T5volv/KEC4vIqHgtQnQIWaZ2MycCdAKK8k7cYdKEC0oAh4WuUnQPQsV5QEByhAQ5u0LRNfJ0DeuBcx5bInQLawUKHdJidACOz7GZW9J0Aw15H32aUqQG17U3JGoCdAixif2ms3J0B9DkG3W+AnQGXzuUSRMyhAIzKpJtzGKED7GCBT6nonQDwTeqIDhSdAauUvT+blKEDQY+i/wtsoQAAp/SngkCdAtw/YvzUiKEBa2wSwsOQnQApJ1q2JvydAJg/DRyzFJkBT6iGm3MQnQDP05XdsIShAGrZ82VRzJkDBowQep/EkQG17U3JGoCdAsqT4T5PCKEByhXOOgykoQMaLobsQbChAYFvnrQfIJ0DvrL67RRYoQF34t05FVyhA/6w8RFx8KECu4UbgJCUoQCyQWNLYHilA8aoMuQ8oKED1ZB6eVr8oQJlFwZ7xnihAxouhuxBsKEDrzUsFMVknQCAIPxQnWilAB5LQ7T9PKEBExR7jG8soQMxrMf67kyZARzFenlFBKED4eLw+3uEoQIDGKlVuxihAzIa1XSnQKEDclGk9SNknQLYQ4x4njChASbG6KTjWJ0D0cxkwwL0nQJGTu3yrqSdA72EdMHZ4J0D0cxkwwL0nQLi5/CUqAylAuBLLTfFVKEBYIZNKEmMoQAs9v6X/iCdA7FMVPYtjJ0ByN+sVFpwnQNXXQXVKHChArRPWogKDJ0BT6iGm3MQnQOb0ZE3CdCdAPrkP6MSUJ0B3V7R8mEEoQFm9ZPYB5ydAd/77v9BUJ0Cgw2F48QYpQFm9ZPYB5ydA/aIH4bjEKEBvwhYzTY4oQCGx49FtMChA988qTUP3J0Bte1NyRqAnQBtRBhLhFSVA3rgXMeWyJ0Bte1NyRqAnQGzlHktCHyhAItTeeg4EJ0D5oaeVOTkoQEogvZy3DihA9CxXlAQHKECVRXfFarYmQLT1A3VBaShAixif2ms3J0CiYzmcOa8nQIHbQ/v+LihATbh/FSJzKUBl/vpB7fYnQEbcoRm05yhAwP92e/N8J0BwSDAW33gnQOSRCRUCVydAPcmP1zXGKUBYivqRjFwoQPWvXQvGYShAOxZcjxmFKUCIP21JPhAoQLfIld4ZRyhAa0hBZuohKEBxP0DsaXUpQIdL6pLAaidAalySwu6lJ0B3V7R8mEEoQCIMFR5W1iZAqMlGUqV4KEDE901nBKEmQKU/ZwhnuSZAS+oroIC1KEApH4wTc6cnQJdZTW1nNihAWBzMwODVJ0B5UeiSVwIoQCYPw0csxSZAIzKpJtzGKECHhYIFwxAnQG17U3JGoCdA9pQtep8GJ0D0LFeUBAcoQPvGBQdqsyZASXE2x4tgJ0BtEhDtWKooQNSizHoicShAR+4b3HdIKED3zypNQ/cnQARDp2HuiihA8aoMuQ8oKECgLyCu6lkoQNVvv1BSvyZAzZQL+O9RKEDF/ttobSIpQMOiwWPtQidASiC9nLcOKEAVq7rFJy0pQAggcnCaHydAgvf2lV1bJ0D3zypNQ/cnQPWvXQvGYShA4wsXuuVJKUD2Nw3NEbEoQKjRISnnYidAL7c34VqtJkDMlFjN5lIpQMX+22htIilAyDcmKwf3JkDYwvHuX5QmQFm9ZPYB5ydAbOUeS0IfKEBt82UDK18oQMTZRNpP9ChAVyZ2Ux0SKUCjYcEqbrEnQPQ22iuKdSpAU+ohptzEJ0Cp4AAvLk4nQL4lcrzPsiZAg92xangpKEDRy8Nh32koQPQsV5QEByhASlEL5hfDJ0Bq5S9P5uUoQGXzuUSRMyhAsL/LU/FDKEDl+Af2pdcoQMdIg2ibcSlAENgJck+aKEAfqFGF9IooQAJtXii8miZA1cUzz63QJkAK/MtHvjknQPpZQJqx4ydAul5HlMtmKUBy1RDF2C0oQJQMuT7wDyhAMHHo0fnaJ0Bte1NyRqAnQG17U3JGoCdA+llAmrHjJ0BRwG1QJNkmQPzhChCp9SdAoC8grupZKEBav4U3JZkoQNPVlHFNFihAePcL4nyuJ0BQLN7R+OknQMD/dnvzfCdAU+ohptzEJ0AvM1kgopgnQDeWfmqcVChA988qTUP3J0BH7hvcd0goQMXx7CvgyydACCIMXkyqJkCOzD8m198oQJGTu3yrqSdA9a9dC8ZhKEDRgf+T6uAmQPfPKk1D9ydAalySwu6lJ0Dssht8YcgnQAs9v6X/iCdA4QuMDFEpKECEGi2f/4AnQNPVlHFNFihAPBN6ogOFJ0DwzI1iku0nQEP7NmoVASZAv+t8PdVhJ0Bte1NyRqAnQPzhChCp9SdAKO9M03QkJ0AvTc48F2IpQKR+TG5IMyhASRqODwwMKUCXWU1tZzYoQBQwMenIFSlAVogG69RJKEAWYdeAJ3YoQKUNyOuOjCdAjrTdGGCeJ0DkkQkVAlcnQJQnmk/xVilAy9t0SRk/KECc4p3I84wnQN64FzHlsidAo8QuKlKbJ0CzX30kGV0nQJYc16aDiShAJlrkjaVAJ0CC9/aVXVsnQGzegdiXAyhAqeAALy5OJ0C3D9i/NSIoQO6xql/e7ShA1gNcLYqOKEDeuBcx5bInQG17U3JGoCdAa0EVYjbkJkDrzUsFMVknQEqR98zKxShAZ6PsKEgTKECHhYIFwxAnQFrwBK2vXydAmauRbfHmJkBt82UDK18oQN3sNZRRwSdAomM5nDmvJ0BYIZNKEmMoQCVx9PBI6ylA2MLx7l+UJkDYwvHuX5QmQDdTCG7L0idAZfO5RJEzKEA9Yc3ZrSMoQIedBAKSVidA9HMZMMC9J0Dm9GRNwnQnQFgczMDg1SdA9jcNzRGxKEBd6gqBGWYnQHcd4V8ZbihAc5UjcKKVKECkfkxuSDMoQPY3Dc0RsShAGv7ZBVy8KEB3V7R8mEEoQOyyG3xhyCdAZ1MIKImjKEALPb+l/4gnQPiMeIqNMidAoC8grupZKED6UKf4E7goQAhix9wl0ihAbOUeS0IfKECAw3KmFLwoQM+obn7msCpA49AtMU4ZKEBjvV8hxgAoQNyGTjv+GyhArlpSR8pqKED9ogfhuMQoQCyQWNLYHilAv+t8PdVhJ0Cp4AAvLk4nQDPBhl+t5idAQk8Ol3fhJkDQY+i/wtsoQOg5YPG1wilAI8Dd+NIKK0AmuoiC+GMnQC4JAm1HRihAG+PrjB0fJ0ClwXpuXOwmQCT62tnD8yhAWIr6kYxcKEAlcRhCjEwoQIg/bUk+EChAtw/YvzUiKEBwSDAW33gnQPQsV5QEByhA0vztldLwJ0Dxqgy5DygoQPBk0e53mChA3ew1lFHBJ0By1RDF2C0oQAng7cpYzydAfP29fNVSJ0CtTNl7G2QoQOSRCRUCVydAMki4M8GJKEDEx8JaB+InQJiF+EXBBilAqwa/i0MpJ0DE3lcCg2koQN64FzHlsidAWj5dYsAnKUAlcRhCjEwoQKNvpMrnAyhALYrSojJFJ0BT6iGm3MQnQI603RhgnidAcEgwFt94J0AmWuSNpUAnQKf83WvbryhA4K3lkpCXJkBRwG1QJNkmQKngAC8uTidAGWyz73ecJ0D0cxkwwL0nQHbYNTsoqydAiKRnEtI+KEBT6iGm3MQnQLYQ4x4njChAxfHsK+DLJ0B4IA80uqApQIQaLZ//gCdAB5LQ7T9PKEBPEBxztJYnQNSYkMTBDydAkFcWYyi6J0Cc4p3I84wnQGdnQwPPridAwfvW1JomKEBYivqRjFwoQATjJBj1uydA9kteiVT7KECFqzu6lqUoQP47+TJT2ChA09WUcU0WKEDekWi1fhkqQPY3Dc0RsShActUQxdgtKECbAS3xukUoQLgk/VEAFihAa6JIsfqKJ0Ba8AStr18nQAERtatSzyhA6QQWz4sbKECc4p3I84wnQJ5Eu+nDLilAZ4p88UEIKECtE9aiAoMnQOtCYqOpOylAPyRLVxwGJ0AHktDtP08oQKzLGhKf2SdAl1lNbWc2KEAulawAmognQMRxnF4K/CdAWz7A2fw0KECXWU1tZzYoQMRBcdGKPihAX9xJBW9sJ0A0pPxbHbApQFRyXz58sylA3ew1lFHBJ0BFgX931+8oQHrqdMiqQyhALcYe/82nJ0AJxpNW9iooQKJjOZw5rydALcYe/82nJ0CwRC6Jn/0nQK1M2XsbZChAe9iJbmvAKEAhS3VIK0QmQG0SEO1YqihAZfO5RJEzKEAprBdX7NcnQKJjOZw5rydAZ6PsKEgTKEBPEBxztJYnQPRzGTDAvSdAB5LQ7T9PKEBXJnZTHRIpQIouiTCcFylAWz7A2fw0KEC/63w91WEnQABIfZmmKydAZ1+ksXUAKECp4AAvLk4nQJ+8F0hhrSdAWb1k9gHnJ0DeuBcx5bInQPfPKk1D9ydA+llAmrHjJ0DZCpD+0KUoQMBV8hJoLChAWj5dYsAnKUBL6iuggLUoQJzincjzjCdAL03OPBdiKUCn4t8+328oQDFepz6HqydAxfHsK+DLJ0Cy11xuSTEoQMdIg2ibcSlA1KLMeiJxKECAFe/SgjwpQDFj0KfMbilAWvAEra9fJ0DZX0u34HooQMFeH9dbMSlA8Jgwos1/KECaQqcyjwwpQDbF9gUOPCdAAQd3S/DrJ0Bxl5pd+WEmQAeS0O0/TyhA2EXDLyGkJkDF8ewr4MsnQNS0uNuI1CVAx4FcOu+NJkDWHJbv6o4nQJh6V0/n5yhAcoVzjoMpKEBtEhDtWKooQE8QHHO0lidA9pQtep8GJ0D7GCBT6nonQHBIMBbfeCdAlAy5PvAPKEBte1NyRqAnQNo3EoC3vCVAxN5XAoNpKEAVHx+iAocnQHLgTf6ccCdAWb1k9gHnJ0C7eg0wuK0oQAnGk1b2KihAqyEPKcLpJ0BefAQ6ZDAnQKkqw7+99ChAl43OChQcKUDWA1wtio4oQF/cSQVvbCdAxN5XAoNpKEDj0C0xThkoQGBWKlLlnydA+QjwXgvZKUCAw3KmFLwoQNPVlHFNFihAixif2ms3J0BYHMzA4NUnQMBV8hJoLChApdS86hZSKUAlcRhCjEwoQEWBf3fX7yhAG+PrjB0fJ0BmV16aWe0nQAwh2tvbwSdAeOvvZeqQKEBd+LdORVcoQIQaLZ//gCdA3ew1lFHBJ0BL6iuggLUoQAggcnCaHydAYakSKpEIKEC9DssiQQspQGnKEtckGypA0GPov8LbKED9ogfhuMQoQCIMFR5W1iZA5JEJFQJXJ0COAr4nOacmQEogvZy3DihA3zvjAx/0JUAU/pypf8EoQPDMjWKS7SdAJlrkjaVAJ0AIIHJwmh8nQPsYIFPqeidA0GPov8LbKEC+l87DDaQnQHXR1JvCrilAACn9KeCQJ0CAw3KmFLwoQOb0ZE3CdCdAcuBN/pxwJ0BjvV8hxgAoQBg3UkC01ChAow1Pgf8XKUD3zypNQ/cnQJGTu3yrqSdAMV6nPoerJ0DQp/3Qe6knQCa6iIL4YydAXfi3TkVXKECksmznmFkoQE2q7KUZGylACCBycJofJ0CaQqcyjwwpQC8zWSCimCdAJlrkjaVAJ0D7GCBT6nonQNYDXC2KjihA9jcNzRGxKEDeuBcx5bInQNXFM8+t0CZA7BV/T+bpKECm2AANIHsoQAKwuDrFJyhAaEVMGYduJ0CFEtQ+MXkpQOb0ZE3CdCdApFnEtD6hKECkfkxuSDMoQK0T1qICgydAalySwu6lJ0DsxvvlgAwpQN3sNZRRwSdAkFcWYyi6J0DQFaGzDgUpQN64FzHlsidAWvAEra9fJ0DEm1ckwDsoQHGBOfT7VChAu2TE023AJ0Acd+t5HCYmQJsBLfG6RShA988qTUP3J0C3D9i/NSIoQF3qCoEZZidAxybO/nbFKUCrdR3CMdUnQPWvXQvGYShAzZQL+O9RKEDT5OoQ09MnQOMLF7rlSSlAR4LWPThoJ0ACgsOsbTIoQAs9v6X/iCdAtcNbmn/wJ0AjMqkm3MYoQCZa5I2lQCdA1AzUmO7bJkC+l87DDaQnQNsNeIGWIilAU+ohptzEJ0A3kIi/ZLAmQHdXtHyYQShAruFG4CQlKEAjm5kAfoIoQELB8PZ7/ChARBQ9t5u6J0BISDY8nc0nQA==",
          "dtype": "f8"
         },
         "yaxis": "y"
        },
        {
         "hovertemplate": "<b>OLS trendline</b><br>__y__ = 0.236026 * OverallQual + 10.5845<br>R<sup>2</sup>=0.667791<br><br>OverallQual=%{x}<br>__y__=%{y} <b>(trend)</b><extra></extra>",
         "legendgroup": "",
         "marker": {
          "color": "#636efa",
          "symbol": "circle"
         },
         "mode": "lines",
         "name": "",
         "showlegend": false,
         "type": "scattergl",
         "x": {
          "bdata": "AQECAgIDAwMDAwMDAwMDAwMDAwMDAwMDAwQEBAQEBAQEBAQEBAQEBAQEBAQEBAQEBAQEBAQEBAQEBAQEBAQEBAQEBAQEBAQEBAQEBAQEBAQEBAQEBAQEBAQEBAQEBAQEBAQEBAQEBAQEBAQEBAQEBAQEBAQEBAQEBAQEBAQEBAQEBAQEBAQEBAQEBAQEBQUFBQUFBQUFBQUFBQUFBQUFBQUFBQUFBQUFBQUFBQUFBQUFBQUFBQUFBQUFBQUFBQUFBQUFBQUFBQUFBQUFBQUFBQUFBQUFBQUFBQUFBQUFBQUFBQUFBQUFBQUFBQUFBQUFBQUFBQUFBQUFBQUFBQUFBQUFBQUFBQUFBQUFBQUFBQUFBQUFBQUFBQUFBQUFBQUFBQUFBQUFBQUFBQUFBQUFBQUFBQUFBQUFBQUFBQUFBQUFBQUFBQUFBQUFBQUFBQUFBQUFBQUFBQUFBQUFBQUFBQUFBQUFBQUFBQUFBQUFBQUFBQUFBQUFBQUFBQUFBQUFBQUFBQUFBQUFBQUFBQUFBQUFBQUFBQUFBQUFBQUFBQUFBQUFBQUFBQUFBQUFBQUFBQUFBQUFBQUFBQUFBQUFBQUFBQUFBQUFBQUFBQUFBQUFBQUFBQUFBQUFBQUFBQUFBQUFBQUFBQUFBQUFBQUFBQUFBQUFBQUFBQUFBQUFBQUFBQUFBQUFBQUFBQUFBQUFBQUFBQUFBQUFBQYGBgYGBgYGBgYGBgYGBgYGBgYGBgYGBgYGBgYGBgYGBgYGBgYGBgYGBgYGBgYGBgYGBgYGBgYGBgYGBgYGBgYGBgYGBgYGBgYGBgYGBgYGBgYGBgYGBgYGBgYGBgYGBgYGBgYGBgYGBgYGBgYGBgYGBgYGBgYGBgYGBgYGBgYGBgYGBgYGBgYGBgYGBgYGBgYGBgYGBgYGBgYGBgYGBgYGBgYGBgYGBgYGBgYGBgYGBgYGBgYGBgYGBgYGBgYGBgYGBgYGBgYGBgYGBgYGBgYGBgYGBgYGBgYGBgYGBgYGBgYGBgYGBgYGBgYGBgYGBgYGBgYGBgYGBgYGBgYGBgYGBgYGBgYGBgYGBgYGBgYGBgYGBgYGBgYGBgYGBgYGBgYGBgYGBgYGBgYGBgYGBgYGBgYGBgYGBgYGBgYGBgYGBgYGBgYGBgYGBgYGBgYGBgYGBgYGBgYGBgYGBgYGBgYGBgYGBgYGBgYGBgYGBgYGBgYGBgYGBwcHBwcHBwcHBwcHBwcHBwcHBwcHBwcHBwcHBwcHBwcHBwcHBwcHBwcHBwcHBwcHBwcHBwcHBwcHBwcHBwcHBwcHBwcHBwcHBwcHBwcHBwcHBwcHBwcHBwcHBwcHBwcHBwcHBwcHBwcHBwcHBwcHBwcHBwcHBwcHBwcHBwcHBwcHBwcHBwcHBwcHBwcHBwcHBwcHBwcHBwcHBwcHBwcHBwcHBwcHBwcHBwcHBwcHBwcHBwcHBwcHBwcHBwcHBwcHBwcHBwcHBwcHBwcHBwcHBwcHBwcHBwcHBwcHBwcHBwcHBwcHBwcHBwcHBwcHBwcHBwcHBwcHBwcHBwcHBwcHBwcHBwcHBwcHBwcHBwcHBwcHBwcHBwcHBwcHBwcHBwcHBwcHBwcHBwcHBwcHBwcHBwcHBwcHBwcHBwcHBwcHBwgICAgICAgICAgICAgICAgICAgICAgICAgICAgICAgICAgICAgICAgICAgICAgICAgICAgICAgICAgICAgICAgICAgICAgICAgICAgICAgICAgICAgICAgICAgICAgICAgICAgICAgICAgICAgICAgICAgICAgICAgICAgICAgICAgICAgICAgICAgICAgICAgICAgICAgICAgICAgICAgICAgICAgICAkJCQkJCQkJCQkJCQkJCQkJCQkJCQkJCQkJCQkJCQkJCQkJCQkJCQkJCQkKCgoKCgoKCgoKCgoKCgoKCgo=",
          "dtype": "i1"
         },
         "xaxis": "x",
         "y": {
          "bdata": "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",
          "dtype": "f8"
         },
         "yaxis": "y"
        }
       ],
       "layout": {
        "legend": {
         "tracegroupgap": 0
        },
        "template": {
         "data": {
          "bar": [
           {
            "error_x": {
             "color": "#2a3f5f"
            },
            "error_y": {
             "color": "#2a3f5f"
            },
            "marker": {
             "line": {
              "color": "#E5ECF6",
              "width": 0.5
             },
             "pattern": {
              "fillmode": "overlay",
              "size": 10,
              "solidity": 0.2
             }
            },
            "type": "bar"
           }
          ],
          "barpolar": [
           {
            "marker": {
             "line": {
              "color": "#E5ECF6",
              "width": 0.5
             },
             "pattern": {
              "fillmode": "overlay",
              "size": 10,
              "solidity": 0.2
             }
            },
            "type": "barpolar"
           }
          ],
          "carpet": [
           {
            "aaxis": {
             "endlinecolor": "#2a3f5f",
             "gridcolor": "white",
             "linecolor": "white",
             "minorgridcolor": "white",
             "startlinecolor": "#2a3f5f"
            },
            "baxis": {
             "endlinecolor": "#2a3f5f",
             "gridcolor": "white",
             "linecolor": "white",
             "minorgridcolor": "white",
             "startlinecolor": "#2a3f5f"
            },
            "type": "carpet"
           }
          ],
          "choropleth": [
           {
            "colorbar": {
             "outlinewidth": 0,
             "ticks": ""
            },
            "type": "choropleth"
           }
          ],
          "contour": [
           {
            "colorbar": {
             "outlinewidth": 0,
             "ticks": ""
            },
            "colorscale": [
             [
              0,
              "#0d0887"
             ],
             [
              0.1111111111111111,
              "#46039f"
             ],
             [
              0.2222222222222222,
              "#7201a8"
             ],
             [
              0.3333333333333333,
              "#9c179e"
             ],
             [
              0.4444444444444444,
              "#bd3786"
             ],
             [
              0.5555555555555556,
              "#d8576b"
             ],
             [
              0.6666666666666666,
              "#ed7953"
             ],
             [
              0.7777777777777778,
              "#fb9f3a"
             ],
             [
              0.8888888888888888,
              "#fdca26"
             ],
             [
              1,
              "#f0f921"
             ]
            ],
            "type": "contour"
           }
          ],
          "contourcarpet": [
           {
            "colorbar": {
             "outlinewidth": 0,
             "ticks": ""
            },
            "type": "contourcarpet"
           }
          ],
          "heatmap": [
           {
            "colorbar": {
             "outlinewidth": 0,
             "ticks": ""
            },
            "colorscale": [
             [
              0,
              "#0d0887"
             ],
             [
              0.1111111111111111,
              "#46039f"
             ],
             [
              0.2222222222222222,
              "#7201a8"
             ],
             [
              0.3333333333333333,
              "#9c179e"
             ],
             [
              0.4444444444444444,
              "#bd3786"
             ],
             [
              0.5555555555555556,
              "#d8576b"
             ],
             [
              0.6666666666666666,
              "#ed7953"
             ],
             [
              0.7777777777777778,
              "#fb9f3a"
             ],
             [
              0.8888888888888888,
              "#fdca26"
             ],
             [
              1,
              "#f0f921"
             ]
            ],
            "type": "heatmap"
           }
          ],
          "histogram": [
           {
            "marker": {
             "pattern": {
              "fillmode": "overlay",
              "size": 10,
              "solidity": 0.2
             }
            },
            "type": "histogram"
           }
          ],
          "histogram2d": [
           {
            "colorbar": {
             "outlinewidth": 0,
             "ticks": ""
            },
            "colorscale": [
             [
              0,
              "#0d0887"
             ],
             [
              0.1111111111111111,
              "#46039f"
             ],
             [
              0.2222222222222222,
              "#7201a8"
             ],
             [
              0.3333333333333333,
              "#9c179e"
             ],
             [
              0.4444444444444444,
              "#bd3786"
             ],
             [
              0.5555555555555556,
              "#d8576b"
             ],
             [
              0.6666666666666666,
              "#ed7953"
             ],
             [
              0.7777777777777778,
              "#fb9f3a"
             ],
             [
              0.8888888888888888,
              "#fdca26"
             ],
             [
              1,
              "#f0f921"
             ]
            ],
            "type": "histogram2d"
           }
          ],
          "histogram2dcontour": [
           {
            "colorbar": {
             "outlinewidth": 0,
             "ticks": ""
            },
            "colorscale": [
             [
              0,
              "#0d0887"
             ],
             [
              0.1111111111111111,
              "#46039f"
             ],
             [
              0.2222222222222222,
              "#7201a8"
             ],
             [
              0.3333333333333333,
              "#9c179e"
             ],
             [
              0.4444444444444444,
              "#bd3786"
             ],
             [
              0.5555555555555556,
              "#d8576b"
             ],
             [
              0.6666666666666666,
              "#ed7953"
             ],
             [
              0.7777777777777778,
              "#fb9f3a"
             ],
             [
              0.8888888888888888,
              "#fdca26"
             ],
             [
              1,
              "#f0f921"
             ]
            ],
            "type": "histogram2dcontour"
           }
          ],
          "mesh3d": [
           {
            "colorbar": {
             "outlinewidth": 0,
             "ticks": ""
            },
            "type": "mesh3d"
           }
          ],
          "parcoords": [
           {
            "line": {
             "colorbar": {
              "outlinewidth": 0,
              "ticks": ""
             }
            },
            "type": "parcoords"
           }
          ],
          "pie": [
           {
            "automargin": true,
            "type": "pie"
           }
          ],
          "scatter": [
           {
            "fillpattern": {
             "fillmode": "overlay",
             "size": 10,
             "solidity": 0.2
            },
            "type": "scatter"
           }
          ],
          "scatter3d": [
           {
            "line": {
             "colorbar": {
              "outlinewidth": 0,
              "ticks": ""
             }
            },
            "marker": {
             "colorbar": {
              "outlinewidth": 0,
              "ticks": ""
             }
            },
            "type": "scatter3d"
           }
          ],
          "scattercarpet": [
           {
            "marker": {
             "colorbar": {
              "outlinewidth": 0,
              "ticks": ""
             }
            },
            "type": "scattercarpet"
           }
          ],
          "scattergeo": [
           {
            "marker": {
             "colorbar": {
              "outlinewidth": 0,
              "ticks": ""
             }
            },
            "type": "scattergeo"
           }
          ],
          "scattergl": [
           {
            "marker": {
             "colorbar": {
              "outlinewidth": 0,
              "ticks": ""
             }
            },
            "type": "scattergl"
           }
          ],
          "scattermap": [
           {
            "marker": {
             "colorbar": {
              "outlinewidth": 0,
              "ticks": ""
             }
            },
            "type": "scattermap"
           }
          ],
          "scattermapbox": [
           {
            "marker": {
             "colorbar": {
              "outlinewidth": 0,
              "ticks": ""
             }
            },
            "type": "scattermapbox"
           }
          ],
          "scatterpolar": [
           {
            "marker": {
             "colorbar": {
              "outlinewidth": 0,
              "ticks": ""
             }
            },
            "type": "scatterpolar"
           }
          ],
          "scatterpolargl": [
           {
            "marker": {
             "colorbar": {
              "outlinewidth": 0,
              "ticks": ""
             }
            },
            "type": "scatterpolargl"
           }
          ],
          "scatterternary": [
           {
            "marker": {
             "colorbar": {
              "outlinewidth": 0,
              "ticks": ""
             }
            },
            "type": "scatterternary"
           }
          ],
          "surface": [
           {
            "colorbar": {
             "outlinewidth": 0,
             "ticks": ""
            },
            "colorscale": [
             [
              0,
              "#0d0887"
             ],
             [
              0.1111111111111111,
              "#46039f"
             ],
             [
              0.2222222222222222,
              "#7201a8"
             ],
             [
              0.3333333333333333,
              "#9c179e"
             ],
             [
              0.4444444444444444,
              "#bd3786"
             ],
             [
              0.5555555555555556,
              "#d8576b"
             ],
             [
              0.6666666666666666,
              "#ed7953"
             ],
             [
              0.7777777777777778,
              "#fb9f3a"
             ],
             [
              0.8888888888888888,
              "#fdca26"
             ],
             [
              1,
              "#f0f921"
             ]
            ],
            "type": "surface"
           }
          ],
          "table": [
           {
            "cells": {
             "fill": {
              "color": "#EBF0F8"
             },
             "line": {
              "color": "white"
             }
            },
            "header": {
             "fill": {
              "color": "#C8D4E3"
             },
             "line": {
              "color": "white"
             }
            },
            "type": "table"
           }
          ]
         },
         "layout": {
          "annotationdefaults": {
           "arrowcolor": "#2a3f5f",
           "arrowhead": 0,
           "arrowwidth": 1
          },
          "autotypenumbers": "strict",
          "coloraxis": {
           "colorbar": {
            "outlinewidth": 0,
            "ticks": ""
           }
          },
          "colorscale": {
           "diverging": [
            [
             0,
             "#8e0152"
            ],
            [
             0.1,
             "#c51b7d"
            ],
            [
             0.2,
             "#de77ae"
            ],
            [
             0.3,
             "#f1b6da"
            ],
            [
             0.4,
             "#fde0ef"
            ],
            [
             0.5,
             "#f7f7f7"
            ],
            [
             0.6,
             "#e6f5d0"
            ],
            [
             0.7,
             "#b8e186"
            ],
            [
             0.8,
             "#7fbc41"
            ],
            [
             0.9,
             "#4d9221"
            ],
            [
             1,
             "#276419"
            ]
           ],
           "sequential": [
            [
             0,
             "#0d0887"
            ],
            [
             0.1111111111111111,
             "#46039f"
            ],
            [
             0.2222222222222222,
             "#7201a8"
            ],
            [
             0.3333333333333333,
             "#9c179e"
            ],
            [
             0.4444444444444444,
             "#bd3786"
            ],
            [
             0.5555555555555556,
             "#d8576b"
            ],
            [
             0.6666666666666666,
             "#ed7953"
            ],
            [
             0.7777777777777778,
             "#fb9f3a"
            ],
            [
             0.8888888888888888,
             "#fdca26"
            ],
            [
             1,
             "#f0f921"
            ]
           ],
           "sequentialminus": [
            [
             0,
             "#0d0887"
            ],
            [
             0.1111111111111111,
             "#46039f"
            ],
            [
             0.2222222222222222,
             "#7201a8"
            ],
            [
             0.3333333333333333,
             "#9c179e"
            ],
            [
             0.4444444444444444,
             "#bd3786"
            ],
            [
             0.5555555555555556,
             "#d8576b"
            ],
            [
             0.6666666666666666,
             "#ed7953"
            ],
            [
             0.7777777777777778,
             "#fb9f3a"
            ],
            [
             0.8888888888888888,
             "#fdca26"
            ],
            [
             1,
             "#f0f921"
            ]
           ]
          },
          "colorway": [
           "#636efa",
           "#EF553B",
           "#00cc96",
           "#ab63fa",
           "#FFA15A",
           "#19d3f3",
           "#FF6692",
           "#B6E880",
           "#FF97FF",
           "#FECB52"
          ],
          "font": {
           "color": "#2a3f5f"
          },
          "geo": {
           "bgcolor": "white",
           "lakecolor": "white",
           "landcolor": "#E5ECF6",
           "showlakes": true,
           "showland": true,
           "subunitcolor": "white"
          },
          "hoverlabel": {
           "align": "left"
          },
          "hovermode": "closest",
          "mapbox": {
           "style": "light"
          },
          "paper_bgcolor": "white",
          "plot_bgcolor": "#E5ECF6",
          "polar": {
           "angularaxis": {
            "gridcolor": "white",
            "linecolor": "white",
            "ticks": ""
           },
           "bgcolor": "#E5ECF6",
           "radialaxis": {
            "gridcolor": "white",
            "linecolor": "white",
            "ticks": ""
           }
          },
          "scene": {
           "xaxis": {
            "backgroundcolor": "#E5ECF6",
            "gridcolor": "white",
            "gridwidth": 2,
            "linecolor": "white",
            "showbackground": true,
            "ticks": "",
            "zerolinecolor": "white"
           },
           "yaxis": {
            "backgroundcolor": "#E5ECF6",
            "gridcolor": "white",
            "gridwidth": 2,
            "linecolor": "white",
            "showbackground": true,
            "ticks": "",
            "zerolinecolor": "white"
           },
           "zaxis": {
            "backgroundcolor": "#E5ECF6",
            "gridcolor": "white",
            "gridwidth": 2,
            "linecolor": "white",
            "showbackground": true,
            "ticks": "",
            "zerolinecolor": "white"
           }
          },
          "shapedefaults": {
           "line": {
            "color": "#2a3f5f"
           }
          },
          "ternary": {
           "aaxis": {
            "gridcolor": "white",
            "linecolor": "white",
            "ticks": ""
           },
           "baxis": {
            "gridcolor": "white",
            "linecolor": "white",
            "ticks": ""
           },
           "bgcolor": "#E5ECF6",
           "caxis": {
            "gridcolor": "white",
            "linecolor": "white",
            "ticks": ""
           }
          },
          "title": {
           "x": 0.05
          },
          "xaxis": {
           "automargin": true,
           "gridcolor": "white",
           "linecolor": "white",
           "ticks": "",
           "title": {
            "standoff": 15
           },
           "zerolinecolor": "white",
           "zerolinewidth": 2
          },
          "yaxis": {
           "automargin": true,
           "gridcolor": "white",
           "linecolor": "white",
           "ticks": "",
           "title": {
            "standoff": 15
           },
           "zerolinecolor": "white",
           "zerolinewidth": 2
          }
         }
        },
        "title": {
         "text": "OverallQual vs y"
        },
        "xaxis": {
         "anchor": "y",
         "domain": [
          0,
          1
         ],
         "title": {
          "text": "OverallQual"
         }
        },
        "yaxis": {
         "anchor": "x",
         "domain": [
          0,
          1
         ],
         "title": {
          "text": "__y__"
         }
        }
       }
      }
     },
     "metadata": {},
     "output_type": "display_data"
    }
   ],
   "source": [
    "for col in [\"GrLivArea\", \"GarageCars\", \"TotalBsmtSF\", \"OverallQual\"]:\n",
    "    if col in df.columns:\n",
    "        fig = px.scatter(df, x=col, y=\"__y__\", trendline=\"ols\", title=f\"{col} vs y\")\n",
    "        fig.show()"
   ]
  },
  {
   "cell_type": "markdown",
   "metadata": {
    "id": "-XgHJz9quF-M"
   },
   "source": [
    "## 5.3. Análisis Multivariable (heatmap de correlación numérica)"
   ]
  },
  {
   "cell_type": "code",
   "execution_count": 32,
   "metadata": {
    "colab": {
     "base_uri": "https://localhost:8080/",
     "height": 542
    },
    "executionInfo": {
     "elapsed": 155,
     "status": "ok",
     "timestamp": 1761261968838,
     "user": {
      "displayName": "Marco Villarroel",
      "userId": "02234616539294282296"
     },
     "user_tz": 240
    },
    "id": "v0oa2r45s-7u",
    "outputId": "cd943c8a-97fe-4809-f84f-53a746868efb"
   },
   "outputs": [
    {
     "data": {
      "application/vnd.plotly.v1+json": {
       "config": {
        "plotlyServerURL": "https://plot.ly"
       },
       "data": [
        {
         "coloraxis": "coloraxis",
         "hovertemplate": "x: %{x}<br>y: %{y}<br>color: %{z}<extra></extra>",
         "name": "0",
         "type": "heatmap",
         "x": [
          "Id",
          "MSSubClass",
          "LotFrontage",
          "LotArea",
          "OverallQual",
          "OverallCond",
          "YearBuilt",
          "YearRemodAdd",
          "MasVnrArea",
          "BsmtFinSF1",
          "BsmtFinSF2",
          "BsmtUnfSF",
          "TotalBsmtSF",
          "1stFlrSF",
          "2ndFlrSF",
          "LowQualFinSF",
          "GrLivArea",
          "BsmtFullBath",
          "BsmtHalfBath",
          "FullBath",
          "HalfBath",
          "BedroomAbvGr",
          "KitchenAbvGr",
          "TotRmsAbvGrd",
          "Fireplaces",
          "GarageYrBlt",
          "GarageCars",
          "GarageArea",
          "WoodDeckSF",
          "OpenPorchSF",
          "EnclosedPorch",
          "3SsnPorch",
          "ScreenPorch",
          "PoolArea",
          "MiscVal",
          "MoSold",
          "YrSold",
          "SalePrice",
          "TotalBaths",
          "TotalPorchSF",
          "Age",
          "RemodAge",
          "__y__"
         ],
         "xaxis": "x",
         "y": [
          "Id",
          "MSSubClass",
          "LotFrontage",
          "LotArea",
          "OverallQual",
          "OverallCond",
          "YearBuilt",
          "YearRemodAdd",
          "MasVnrArea",
          "BsmtFinSF1",
          "BsmtFinSF2",
          "BsmtUnfSF",
          "TotalBsmtSF",
          "1stFlrSF",
          "2ndFlrSF",
          "LowQualFinSF",
          "GrLivArea",
          "BsmtFullBath",
          "BsmtHalfBath",
          "FullBath",
          "HalfBath",
          "BedroomAbvGr",
          "KitchenAbvGr",
          "TotRmsAbvGrd",
          "Fireplaces",
          "GarageYrBlt",
          "GarageCars",
          "GarageArea",
          "WoodDeckSF",
          "OpenPorchSF",
          "EnclosedPorch",
          "3SsnPorch",
          "ScreenPorch",
          "PoolArea",
          "MiscVal",
          "MoSold",
          "YrSold",
          "SalePrice",
          "TotalBaths",
          "TotalPorchSF",
          "Age",
          "RemodAge",
          "__y__"
         ],
         "yaxis": "y",
         "z": {
          "bdata": "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",
          "dtype": "f8",
          "shape": "43, 43"
         }
        }
       ],
       "layout": {
        "coloraxis": {
         "colorscale": [
          [
           0,
           "#0d0887"
          ],
          [
           0.1111111111111111,
           "#46039f"
          ],
          [
           0.2222222222222222,
           "#7201a8"
          ],
          [
           0.3333333333333333,
           "#9c179e"
          ],
          [
           0.4444444444444444,
           "#bd3786"
          ],
          [
           0.5555555555555556,
           "#d8576b"
          ],
          [
           0.6666666666666666,
           "#ed7953"
          ],
          [
           0.7777777777777778,
           "#fb9f3a"
          ],
          [
           0.8888888888888888,
           "#fdca26"
          ],
          [
           1,
           "#f0f921"
          ]
         ]
        },
        "template": {
         "data": {
          "bar": [
           {
            "error_x": {
             "color": "#2a3f5f"
            },
            "error_y": {
             "color": "#2a3f5f"
            },
            "marker": {
             "line": {
              "color": "#E5ECF6",
              "width": 0.5
             },
             "pattern": {
              "fillmode": "overlay",
              "size": 10,
              "solidity": 0.2
             }
            },
            "type": "bar"
           }
          ],
          "barpolar": [
           {
            "marker": {
             "line": {
              "color": "#E5ECF6",
              "width": 0.5
             },
             "pattern": {
              "fillmode": "overlay",
              "size": 10,
              "solidity": 0.2
             }
            },
            "type": "barpolar"
           }
          ],
          "carpet": [
           {
            "aaxis": {
             "endlinecolor": "#2a3f5f",
             "gridcolor": "white",
             "linecolor": "white",
             "minorgridcolor": "white",
             "startlinecolor": "#2a3f5f"
            },
            "baxis": {
             "endlinecolor": "#2a3f5f",
             "gridcolor": "white",
             "linecolor": "white",
             "minorgridcolor": "white",
             "startlinecolor": "#2a3f5f"
            },
            "type": "carpet"
           }
          ],
          "choropleth": [
           {
            "colorbar": {
             "outlinewidth": 0,
             "ticks": ""
            },
            "type": "choropleth"
           }
          ],
          "contour": [
           {
            "colorbar": {
             "outlinewidth": 0,
             "ticks": ""
            },
            "colorscale": [
             [
              0,
              "#0d0887"
             ],
             [
              0.1111111111111111,
              "#46039f"
             ],
             [
              0.2222222222222222,
              "#7201a8"
             ],
             [
              0.3333333333333333,
              "#9c179e"
             ],
             [
              0.4444444444444444,
              "#bd3786"
             ],
             [
              0.5555555555555556,
              "#d8576b"
             ],
             [
              0.6666666666666666,
              "#ed7953"
             ],
             [
              0.7777777777777778,
              "#fb9f3a"
             ],
             [
              0.8888888888888888,
              "#fdca26"
             ],
             [
              1,
              "#f0f921"
             ]
            ],
            "type": "contour"
           }
          ],
          "contourcarpet": [
           {
            "colorbar": {
             "outlinewidth": 0,
             "ticks": ""
            },
            "type": "contourcarpet"
           }
          ],
          "heatmap": [
           {
            "colorbar": {
             "outlinewidth": 0,
             "ticks": ""
            },
            "colorscale": [
             [
              0,
              "#0d0887"
             ],
             [
              0.1111111111111111,
              "#46039f"
             ],
             [
              0.2222222222222222,
              "#7201a8"
             ],
             [
              0.3333333333333333,
              "#9c179e"
             ],
             [
              0.4444444444444444,
              "#bd3786"
             ],
             [
              0.5555555555555556,
              "#d8576b"
             ],
             [
              0.6666666666666666,
              "#ed7953"
             ],
             [
              0.7777777777777778,
              "#fb9f3a"
             ],
             [
              0.8888888888888888,
              "#fdca26"
             ],
             [
              1,
              "#f0f921"
             ]
            ],
            "type": "heatmap"
           }
          ],
          "histogram": [
           {
            "marker": {
             "pattern": {
              "fillmode": "overlay",
              "size": 10,
              "solidity": 0.2
             }
            },
            "type": "histogram"
           }
          ],
          "histogram2d": [
           {
            "colorbar": {
             "outlinewidth": 0,
             "ticks": ""
            },
            "colorscale": [
             [
              0,
              "#0d0887"
             ],
             [
              0.1111111111111111,
              "#46039f"
             ],
             [
              0.2222222222222222,
              "#7201a8"
             ],
             [
              0.3333333333333333,
              "#9c179e"
             ],
             [
              0.4444444444444444,
              "#bd3786"
             ],
             [
              0.5555555555555556,
              "#d8576b"
             ],
             [
              0.6666666666666666,
              "#ed7953"
             ],
             [
              0.7777777777777778,
              "#fb9f3a"
             ],
             [
              0.8888888888888888,
              "#fdca26"
             ],
             [
              1,
              "#f0f921"
             ]
            ],
            "type": "histogram2d"
           }
          ],
          "histogram2dcontour": [
           {
            "colorbar": {
             "outlinewidth": 0,
             "ticks": ""
            },
            "colorscale": [
             [
              0,
              "#0d0887"
             ],
             [
              0.1111111111111111,
              "#46039f"
             ],
             [
              0.2222222222222222,
              "#7201a8"
             ],
             [
              0.3333333333333333,
              "#9c179e"
             ],
             [
              0.4444444444444444,
              "#bd3786"
             ],
             [
              0.5555555555555556,
              "#d8576b"
             ],
             [
              0.6666666666666666,
              "#ed7953"
             ],
             [
              0.7777777777777778,
              "#fb9f3a"
             ],
             [
              0.8888888888888888,
              "#fdca26"
             ],
             [
              1,
              "#f0f921"
             ]
            ],
            "type": "histogram2dcontour"
           }
          ],
          "mesh3d": [
           {
            "colorbar": {
             "outlinewidth": 0,
             "ticks": ""
            },
            "type": "mesh3d"
           }
          ],
          "parcoords": [
           {
            "line": {
             "colorbar": {
              "outlinewidth": 0,
              "ticks": ""
             }
            },
            "type": "parcoords"
           }
          ],
          "pie": [
           {
            "automargin": true,
            "type": "pie"
           }
          ],
          "scatter": [
           {
            "fillpattern": {
             "fillmode": "overlay",
             "size": 10,
             "solidity": 0.2
            },
            "type": "scatter"
           }
          ],
          "scatter3d": [
           {
            "line": {
             "colorbar": {
              "outlinewidth": 0,
              "ticks": ""
             }
            },
            "marker": {
             "colorbar": {
              "outlinewidth": 0,
              "ticks": ""
             }
            },
            "type": "scatter3d"
           }
          ],
          "scattercarpet": [
           {
            "marker": {
             "colorbar": {
              "outlinewidth": 0,
              "ticks": ""
             }
            },
            "type": "scattercarpet"
           }
          ],
          "scattergeo": [
           {
            "marker": {
             "colorbar": {
              "outlinewidth": 0,
              "ticks": ""
             }
            },
            "type": "scattergeo"
           }
          ],
          "scattergl": [
           {
            "marker": {
             "colorbar": {
              "outlinewidth": 0,
              "ticks": ""
             }
            },
            "type": "scattergl"
           }
          ],
          "scattermap": [
           {
            "marker": {
             "colorbar": {
              "outlinewidth": 0,
              "ticks": ""
             }
            },
            "type": "scattermap"
           }
          ],
          "scattermapbox": [
           {
            "marker": {
             "colorbar": {
              "outlinewidth": 0,
              "ticks": ""
             }
            },
            "type": "scattermapbox"
           }
          ],
          "scatterpolar": [
           {
            "marker": {
             "colorbar": {
              "outlinewidth": 0,
              "ticks": ""
             }
            },
            "type": "scatterpolar"
           }
          ],
          "scatterpolargl": [
           {
            "marker": {
             "colorbar": {
              "outlinewidth": 0,
              "ticks": ""
             }
            },
            "type": "scatterpolargl"
           }
          ],
          "scatterternary": [
           {
            "marker": {
             "colorbar": {
              "outlinewidth": 0,
              "ticks": ""
             }
            },
            "type": "scatterternary"
           }
          ],
          "surface": [
           {
            "colorbar": {
             "outlinewidth": 0,
             "ticks": ""
            },
            "colorscale": [
             [
              0,
              "#0d0887"
             ],
             [
              0.1111111111111111,
              "#46039f"
             ],
             [
              0.2222222222222222,
              "#7201a8"
             ],
             [
              0.3333333333333333,
              "#9c179e"
             ],
             [
              0.4444444444444444,
              "#bd3786"
             ],
             [
              0.5555555555555556,
              "#d8576b"
             ],
             [
              0.6666666666666666,
              "#ed7953"
             ],
             [
              0.7777777777777778,
              "#fb9f3a"
             ],
             [
              0.8888888888888888,
              "#fdca26"
             ],
             [
              1,
              "#f0f921"
             ]
            ],
            "type": "surface"
           }
          ],
          "table": [
           {
            "cells": {
             "fill": {
              "color": "#EBF0F8"
             },
             "line": {
              "color": "white"
             }
            },
            "header": {
             "fill": {
              "color": "#C8D4E3"
             },
             "line": {
              "color": "white"
             }
            },
            "type": "table"
           }
          ]
         },
         "layout": {
          "annotationdefaults": {
           "arrowcolor": "#2a3f5f",
           "arrowhead": 0,
           "arrowwidth": 1
          },
          "autotypenumbers": "strict",
          "coloraxis": {
           "colorbar": {
            "outlinewidth": 0,
            "ticks": ""
           }
          },
          "colorscale": {
           "diverging": [
            [
             0,
             "#8e0152"
            ],
            [
             0.1,
             "#c51b7d"
            ],
            [
             0.2,
             "#de77ae"
            ],
            [
             0.3,
             "#f1b6da"
            ],
            [
             0.4,
             "#fde0ef"
            ],
            [
             0.5,
             "#f7f7f7"
            ],
            [
             0.6,
             "#e6f5d0"
            ],
            [
             0.7,
             "#b8e186"
            ],
            [
             0.8,
             "#7fbc41"
            ],
            [
             0.9,
             "#4d9221"
            ],
            [
             1,
             "#276419"
            ]
           ],
           "sequential": [
            [
             0,
             "#0d0887"
            ],
            [
             0.1111111111111111,
             "#46039f"
            ],
            [
             0.2222222222222222,
             "#7201a8"
            ],
            [
             0.3333333333333333,
             "#9c179e"
            ],
            [
             0.4444444444444444,
             "#bd3786"
            ],
            [
             0.5555555555555556,
             "#d8576b"
            ],
            [
             0.6666666666666666,
             "#ed7953"
            ],
            [
             0.7777777777777778,
             "#fb9f3a"
            ],
            [
             0.8888888888888888,
             "#fdca26"
            ],
            [
             1,
             "#f0f921"
            ]
           ],
           "sequentialminus": [
            [
             0,
             "#0d0887"
            ],
            [
             0.1111111111111111,
             "#46039f"
            ],
            [
             0.2222222222222222,
             "#7201a8"
            ],
            [
             0.3333333333333333,
             "#9c179e"
            ],
            [
             0.4444444444444444,
             "#bd3786"
            ],
            [
             0.5555555555555556,
             "#d8576b"
            ],
            [
             0.6666666666666666,
             "#ed7953"
            ],
            [
             0.7777777777777778,
             "#fb9f3a"
            ],
            [
             0.8888888888888888,
             "#fdca26"
            ],
            [
             1,
             "#f0f921"
            ]
           ]
          },
          "colorway": [
           "#636efa",
           "#EF553B",
           "#00cc96",
           "#ab63fa",
           "#FFA15A",
           "#19d3f3",
           "#FF6692",
           "#B6E880",
           "#FF97FF",
           "#FECB52"
          ],
          "font": {
           "color": "#2a3f5f"
          },
          "geo": {
           "bgcolor": "white",
           "lakecolor": "white",
           "landcolor": "#E5ECF6",
           "showlakes": true,
           "showland": true,
           "subunitcolor": "white"
          },
          "hoverlabel": {
           "align": "left"
          },
          "hovermode": "closest",
          "mapbox": {
           "style": "light"
          },
          "paper_bgcolor": "white",
          "plot_bgcolor": "#E5ECF6",
          "polar": {
           "angularaxis": {
            "gridcolor": "white",
            "linecolor": "white",
            "ticks": ""
           },
           "bgcolor": "#E5ECF6",
           "radialaxis": {
            "gridcolor": "white",
            "linecolor": "white",
            "ticks": ""
           }
          },
          "scene": {
           "xaxis": {
            "backgroundcolor": "#E5ECF6",
            "gridcolor": "white",
            "gridwidth": 2,
            "linecolor": "white",
            "showbackground": true,
            "ticks": "",
            "zerolinecolor": "white"
           },
           "yaxis": {
            "backgroundcolor": "#E5ECF6",
            "gridcolor": "white",
            "gridwidth": 2,
            "linecolor": "white",
            "showbackground": true,
            "ticks": "",
            "zerolinecolor": "white"
           },
           "zaxis": {
            "backgroundcolor": "#E5ECF6",
            "gridcolor": "white",
            "gridwidth": 2,
            "linecolor": "white",
            "showbackground": true,
            "ticks": "",
            "zerolinecolor": "white"
           }
          },
          "shapedefaults": {
           "line": {
            "color": "#2a3f5f"
           }
          },
          "ternary": {
           "aaxis": {
            "gridcolor": "white",
            "linecolor": "white",
            "ticks": ""
           },
           "baxis": {
            "gridcolor": "white",
            "linecolor": "white",
            "ticks": ""
           },
           "bgcolor": "#E5ECF6",
           "caxis": {
            "gridcolor": "white",
            "linecolor": "white",
            "ticks": ""
           }
          },
          "title": {
           "x": 0.05
          },
          "xaxis": {
           "automargin": true,
           "gridcolor": "white",
           "linecolor": "white",
           "ticks": "",
           "title": {
            "standoff": 15
           },
           "zerolinecolor": "white",
           "zerolinewidth": 2
          },
          "yaxis": {
           "automargin": true,
           "gridcolor": "white",
           "linecolor": "white",
           "ticks": "",
           "title": {
            "standoff": 15
           },
           "zerolinecolor": "white",
           "zerolinewidth": 2
          }
         }
        },
        "title": {
         "text": "Matriz de correlación (numéricas)"
        },
        "xaxis": {
         "anchor": "y",
         "domain": [
          0,
          1
         ]
        },
        "yaxis": {
         "anchor": "x",
         "autorange": "reversed",
         "domain": [
          0,
          1
         ]
        }
       }
      }
     },
     "metadata": {},
     "output_type": "display_data"
    }
   ],
   "source": [
    "corr_matrix = df.select_dtypes(include=np.number).corr(numeric_only=True)\n",
    "fig = px.imshow(corr_matrix, title=\"Matriz de correlación (numéricas)\", aspect=\"auto\")\n",
    "fig.show()"
   ]
  },
  {
   "cell_type": "markdown",
   "metadata": {
    "id": "aJWWwYxgYXA5"
   },
   "source": [
    "En el análisis de correlaciones, se observa que las variables “GrLivArea” (área habitable), “GarageCars”, “TotalBsmtSF” y “OverallQual” (calidad general de la vivienda) presentan correlaciones positivas altas con el precio de venta, lo que indica que, a innmuebles que tienen mayor área construida, mejor calidad en cuanto a instalaciones y acabados o más espacio de garaje, corresponde un valor de venta elevado.  \n",
    "\n",
    "En contraste, las variables relacionadas con la antigüedad, como “Age” y “RemodAge”, muestran correlaciones negativas moderadas con el precio de venta, esto es muy lógico, puesto que, las viviendas o inmuebles que son más antiguas suelen presentar precios de venta más bajos (el signo negativo revela una relación inversa con el precio de venta).\n",
    "\n",
    "Sin embargo, las correlaciones solamente muestran el comportamiento de las variables respecto al precio de venta, aunque estos primeros hallazgos son valiosos, no revelan una relación de causalidad entre variables explicativas y la variable dependiente, en este caso, el precio de venta. Para entender cómo inciden cada una de las variables independientes en el precio de venta, a continuación construimos el modelo de regresión.  "
   ]
  },
  {
   "cell_type": "markdown",
   "metadata": {
    "id": "qJ71fhBpuM_V"
   },
   "source": [
    "# **6.Preparación de datos y Modelado**"
   ]
  },
  {
   "cell_type": "code",
   "execution_count": 33,
   "metadata": {
    "executionInfo": {
     "elapsed": 301,
     "status": "ok",
     "timestamp": 1761261969140,
     "user": {
      "displayName": "Marco Villarroel",
      "userId": "02234616539294282296"
     },
     "user_tz": 240
    },
    "id": "dhzq7C6BtPlS"
   },
   "outputs": [],
   "source": [
    "FEATURES = [c for c in df.columns if c not in [TARGET, \"__y__\"]]\n",
    "X = df[FEATURES].copy()\n",
    "y = df[\"__y__\"].copy()\n",
    "\n",
    "numeric_features = X.select_dtypes(include=np.number).columns.tolist()\n",
    "categorical_features = [c for c in X.columns if c not in numeric_features]\n",
    "\n",
    "# Imputación\n",
    "num_imputer = SimpleImputer(strategy=\"median\")\n",
    "cat_imputer = SimpleImputer(strategy=\"most_frequent\")\n",
    "preprocess = ColumnTransformer(transformers=[\n",
    "    (\"num\", num_imputer, numeric_features),\n",
    "    (\"cat\", OneHotEncoder(handle_unknown=\"ignore\", sparse_output=False), categorical_features)\n",
    "])\n",
    "\n",
    "X_train, X_test, y_train, y_test = train_test_split(X, y, test_size=0.2, random_state=42)\n",
    "X_train_enc = preprocess.fit_transform(X_train)\n",
    "X_test_enc  = preprocess.transform(X_test)\n"
   ]
  },
  {
   "cell_type": "markdown",
   "metadata": {
    "id": "o7ChEEEhOxHg"
   },
   "source": [
    "# **7. Construcción del modelo**"
   ]
  },
  {
   "cell_type": "code",
   "execution_count": 34,
   "metadata": {
    "executionInfo": {
     "elapsed": 8521,
     "status": "ok",
     "timestamp": 1761261977662,
     "user": {
      "displayName": "Marco Villarroel",
      "userId": "02234616539294282296"
     },
     "user_tz": 240
    },
    "id": "6_BhbYO2U1Vp"
   },
   "outputs": [],
   "source": [
    "# RFE para selección de features\n",
    "scaler_rfe = StandardScaler()\n",
    "X_train_scaled = scaler_rfe.fit_transform(X_train_enc)\n",
    "lr = LinearRegression()\n",
    "rfe = RFE(estimator=lr, n_features_to_select=min(50, X_train_scaled.shape[1]))\n",
    "rfe.fit(X_train_scaled, y_train)\n",
    "selected_features_mask = rfe.support_\n",
    "feature_names = list(numeric_features) + list(preprocess.transformers_[1][1].get_feature_names_out(categorical_features))\n",
    "selected_final = [f for f, s in zip(feature_names, selected_features_mask) if s]"
   ]
  },
  {
   "cell_type": "code",
   "execution_count": 35,
   "metadata": {
    "colab": {
     "base_uri": "https://localhost:8080/"
    },
    "executionInfo": {
     "elapsed": 606,
     "status": "ok",
     "timestamp": 1761261978270,
     "user": {
      "displayName": "Marco Villarroel",
      "userId": "02234616539294282296"
     },
     "user_tz": 240
    },
    "id": "adwcqkJ4T2pm",
    "outputId": "08f11ae8-3a61-44ef-b2a5-65bd0ab61ffa"
   },
   "outputs": [
    {
     "name": "stdout",
     "output_type": "stream",
     "text": [
      "Mejor modelo: Ridge\n"
     ]
    }
   ],
   "source": [
    "\n",
    "# RidgeCV / LassoCV / ElasticNetCV usa CV interno\n",
    "alphas_ridge = np.logspace(-3, 3, 25)\n",
    "alphas_lasso = np.logspace(-3, 1.5, 25)\n",
    "alphas_enet  = np.logspace(-3, 1.5, 25)\n",
    "l1_ratios_enet = np.linspace(0.05, 0.95, 10)\n",
    "\n",
    "# Submatrices finales\n",
    "Xtr_sub = X_train_enc[:, selected_features_mask]\n",
    "Xte_sub = X_test_enc[:, selected_features_mask]\n",
    "\n",
    "# Ridge\n",
    "ridge_cv = RidgeCV(alphas=alphas_ridge)\n",
    "ridge_cv.fit(Xtr_sub, y_train)\n",
    "y_pred_ridge = ridge_cv.predict(Xte_sub)\n",
    "r2_ridge = r2_score(y_test, y_pred_ridge)\n",
    "rmse_ridge = np.sqrt(mean_squared_error(y_test, y_pred_ridge))\n",
    "\n",
    "# Lasso\n",
    "lasso_cv = LassoCV(alphas=alphas_lasso, max_iter=5000, cv=5, random_state=42)\n",
    "lasso_cv.fit(Xtr_sub, y_train)\n",
    "y_pred_lasso = lasso_cv.predict(Xte_sub)\n",
    "r2_lasso = r2_score(y_test, y_pred_lasso)\n",
    "rmse_lasso = np.sqrt(mean_squared_error(y_test, y_pred_lasso))\n",
    "\n",
    "# ElasticNet\n",
    "enet_cv = ElasticNetCV(alphas=alphas_enet, l1_ratio=l1_ratios_enet, max_iter=5000, cv=5, random_state=42)\n",
    "enet_cv.fit(Xtr_sub, y_train)\n",
    "y_pred_enet = enet_cv.predict(Xte_sub)\n",
    "r2_enet = r2_score(y_test, y_pred_enet)\n",
    "rmse_enet = np.sqrt(mean_squared_error(y_test, y_pred_enet))\n",
    "\n",
    "# Selección del mejor modelo\n",
    "scores = {\"Ridge\": r2_ridge, \"Lasso\": r2_lasso, \"ElasticNet\": r2_enet}\n",
    "best_model_name = max(scores, key=lambda k: scores[k])\n",
    "best_pred = {\"Ridge\": y_pred_ridge, \"Lasso\": y_pred_lasso, \"ElasticNet\": y_pred_enet}[best_model_name]\n",
    "\n",
    "print(f\"Mejor modelo: {best_model_name}\")"
   ]
  },
  {
   "cell_type": "markdown",
   "metadata": {
    "id": "86U5x-aRR_M3"
   },
   "source": [
    "En esta porción de codigo se usa mean_squared_error con el parámetro squared=False para calcular el RMSE (Root Mean Squared Error), que representa la raíz cuadrada del error cuadrático medio. A diferencia del MSE, el RMSE mantiene las mismas unidades que la variable objetivo y facilita la interpretación del desempeño del modelo, ya que indica el promedio de desviación de las predicciones respecto a los valores reales en la misma escala del target."
   ]
  },
  {
   "cell_type": "code",
   "execution_count": 36,
   "metadata": {
    "colab": {
     "base_uri": "https://localhost:8080/",
     "height": 1000
    },
    "executionInfo": {
     "elapsed": 208,
     "status": "ok",
     "timestamp": 1761261978472,
     "user": {
      "displayName": "Marco Villarroel",
      "userId": "02234616539294282296"
     },
     "user_tz": 240
    },
    "id": "S9V1qBbzvWDr",
    "outputId": "f3f2564d-bf3b-4973-fdd3-30ade7fbacdc"
   },
   "outputs": [
    {
     "name": "stdout",
     "output_type": "stream",
     "text": [
      "Mejor modelo: Ridge -> (0.9075268225941574, np.float64(0.1313640401847977))\n"
     ]
    },
    {
     "data": {
      "application/vnd.plotly.v1+json": {
       "config": {
        "plotlyServerURL": "https://plot.ly"
       },
       "data": [
        {
         "bingroup": "x",
         "hovertemplate": "variable=__y__<br>value=%{x}<br>count=%{y}<extra></extra>",
         "legendgroup": "__y__",
         "marker": {
          "color": "#636efa",
          "pattern": {
           "shape": ""
          }
         },
         "name": "__y__",
         "nbinsx": 40,
         "orientation": "v",
         "showlegend": true,
         "type": "histogram",
         "x": {
          "bdata": "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",
          "dtype": "f8"
         },
         "xaxis": "x",
         "yaxis": "y"
        }
       ],
       "layout": {
        "barmode": "relative",
        "legend": {
         "title": {
          "text": "variable"
         },
         "tracegroupgap": 0
        },
        "template": {
         "data": {
          "bar": [
           {
            "error_x": {
             "color": "#2a3f5f"
            },
            "error_y": {
             "color": "#2a3f5f"
            },
            "marker": {
             "line": {
              "color": "#E5ECF6",
              "width": 0.5
             },
             "pattern": {
              "fillmode": "overlay",
              "size": 10,
              "solidity": 0.2
             }
            },
            "type": "bar"
           }
          ],
          "barpolar": [
           {
            "marker": {
             "line": {
              "color": "#E5ECF6",
              "width": 0.5
             },
             "pattern": {
              "fillmode": "overlay",
              "size": 10,
              "solidity": 0.2
             }
            },
            "type": "barpolar"
           }
          ],
          "carpet": [
           {
            "aaxis": {
             "endlinecolor": "#2a3f5f",
             "gridcolor": "white",
             "linecolor": "white",
             "minorgridcolor": "white",
             "startlinecolor": "#2a3f5f"
            },
            "baxis": {
             "endlinecolor": "#2a3f5f",
             "gridcolor": "white",
             "linecolor": "white",
             "minorgridcolor": "white",
             "startlinecolor": "#2a3f5f"
            },
            "type": "carpet"
           }
          ],
          "choropleth": [
           {
            "colorbar": {
             "outlinewidth": 0,
             "ticks": ""
            },
            "type": "choropleth"
           }
          ],
          "contour": [
           {
            "colorbar": {
             "outlinewidth": 0,
             "ticks": ""
            },
            "colorscale": [
             [
              0,
              "#0d0887"
             ],
             [
              0.1111111111111111,
              "#46039f"
             ],
             [
              0.2222222222222222,
              "#7201a8"
             ],
             [
              0.3333333333333333,
              "#9c179e"
             ],
             [
              0.4444444444444444,
              "#bd3786"
             ],
             [
              0.5555555555555556,
              "#d8576b"
             ],
             [
              0.6666666666666666,
              "#ed7953"
             ],
             [
              0.7777777777777778,
              "#fb9f3a"
             ],
             [
              0.8888888888888888,
              "#fdca26"
             ],
             [
              1,
              "#f0f921"
             ]
            ],
            "type": "contour"
           }
          ],
          "contourcarpet": [
           {
            "colorbar": {
             "outlinewidth": 0,
             "ticks": ""
            },
            "type": "contourcarpet"
           }
          ],
          "heatmap": [
           {
            "colorbar": {
             "outlinewidth": 0,
             "ticks": ""
            },
            "colorscale": [
             [
              0,
              "#0d0887"
             ],
             [
              0.1111111111111111,
              "#46039f"
             ],
             [
              0.2222222222222222,
              "#7201a8"
             ],
             [
              0.3333333333333333,
              "#9c179e"
             ],
             [
              0.4444444444444444,
              "#bd3786"
             ],
             [
              0.5555555555555556,
              "#d8576b"
             ],
             [
              0.6666666666666666,
              "#ed7953"
             ],
             [
              0.7777777777777778,
              "#fb9f3a"
             ],
             [
              0.8888888888888888,
              "#fdca26"
             ],
             [
              1,
              "#f0f921"
             ]
            ],
            "type": "heatmap"
           }
          ],
          "histogram": [
           {
            "marker": {
             "pattern": {
              "fillmode": "overlay",
              "size": 10,
              "solidity": 0.2
             }
            },
            "type": "histogram"
           }
          ],
          "histogram2d": [
           {
            "colorbar": {
             "outlinewidth": 0,
             "ticks": ""
            },
            "colorscale": [
             [
              0,
              "#0d0887"
             ],
             [
              0.1111111111111111,
              "#46039f"
             ],
             [
              0.2222222222222222,
              "#7201a8"
             ],
             [
              0.3333333333333333,
              "#9c179e"
             ],
             [
              0.4444444444444444,
              "#bd3786"
             ],
             [
              0.5555555555555556,
              "#d8576b"
             ],
             [
              0.6666666666666666,
              "#ed7953"
             ],
             [
              0.7777777777777778,
              "#fb9f3a"
             ],
             [
              0.8888888888888888,
              "#fdca26"
             ],
             [
              1,
              "#f0f921"
             ]
            ],
            "type": "histogram2d"
           }
          ],
          "histogram2dcontour": [
           {
            "colorbar": {
             "outlinewidth": 0,
             "ticks": ""
            },
            "colorscale": [
             [
              0,
              "#0d0887"
             ],
             [
              0.1111111111111111,
              "#46039f"
             ],
             [
              0.2222222222222222,
              "#7201a8"
             ],
             [
              0.3333333333333333,
              "#9c179e"
             ],
             [
              0.4444444444444444,
              "#bd3786"
             ],
             [
              0.5555555555555556,
              "#d8576b"
             ],
             [
              0.6666666666666666,
              "#ed7953"
             ],
             [
              0.7777777777777778,
              "#fb9f3a"
             ],
             [
              0.8888888888888888,
              "#fdca26"
             ],
             [
              1,
              "#f0f921"
             ]
            ],
            "type": "histogram2dcontour"
           }
          ],
          "mesh3d": [
           {
            "colorbar": {
             "outlinewidth": 0,
             "ticks": ""
            },
            "type": "mesh3d"
           }
          ],
          "parcoords": [
           {
            "line": {
             "colorbar": {
              "outlinewidth": 0,
              "ticks": ""
             }
            },
            "type": "parcoords"
           }
          ],
          "pie": [
           {
            "automargin": true,
            "type": "pie"
           }
          ],
          "scatter": [
           {
            "fillpattern": {
             "fillmode": "overlay",
             "size": 10,
             "solidity": 0.2
            },
            "type": "scatter"
           }
          ],
          "scatter3d": [
           {
            "line": {
             "colorbar": {
              "outlinewidth": 0,
              "ticks": ""
             }
            },
            "marker": {
             "colorbar": {
              "outlinewidth": 0,
              "ticks": ""
             }
            },
            "type": "scatter3d"
           }
          ],
          "scattercarpet": [
           {
            "marker": {
             "colorbar": {
              "outlinewidth": 0,
              "ticks": ""
             }
            },
            "type": "scattercarpet"
           }
          ],
          "scattergeo": [
           {
            "marker": {
             "colorbar": {
              "outlinewidth": 0,
              "ticks": ""
             }
            },
            "type": "scattergeo"
           }
          ],
          "scattergl": [
           {
            "marker": {
             "colorbar": {
              "outlinewidth": 0,
              "ticks": ""
             }
            },
            "type": "scattergl"
           }
          ],
          "scattermap": [
           {
            "marker": {
             "colorbar": {
              "outlinewidth": 0,
              "ticks": ""
             }
            },
            "type": "scattermap"
           }
          ],
          "scattermapbox": [
           {
            "marker": {
             "colorbar": {
              "outlinewidth": 0,
              "ticks": ""
             }
            },
            "type": "scattermapbox"
           }
          ],
          "scatterpolar": [
           {
            "marker": {
             "colorbar": {
              "outlinewidth": 0,
              "ticks": ""
             }
            },
            "type": "scatterpolar"
           }
          ],
          "scatterpolargl": [
           {
            "marker": {
             "colorbar": {
              "outlinewidth": 0,
              "ticks": ""
             }
            },
            "type": "scatterpolargl"
           }
          ],
          "scatterternary": [
           {
            "marker": {
             "colorbar": {
              "outlinewidth": 0,
              "ticks": ""
             }
            },
            "type": "scatterternary"
           }
          ],
          "surface": [
           {
            "colorbar": {
             "outlinewidth": 0,
             "ticks": ""
            },
            "colorscale": [
             [
              0,
              "#0d0887"
             ],
             [
              0.1111111111111111,
              "#46039f"
             ],
             [
              0.2222222222222222,
              "#7201a8"
             ],
             [
              0.3333333333333333,
              "#9c179e"
             ],
             [
              0.4444444444444444,
              "#bd3786"
             ],
             [
              0.5555555555555556,
              "#d8576b"
             ],
             [
              0.6666666666666666,
              "#ed7953"
             ],
             [
              0.7777777777777778,
              "#fb9f3a"
             ],
             [
              0.8888888888888888,
              "#fdca26"
             ],
             [
              1,
              "#f0f921"
             ]
            ],
            "type": "surface"
           }
          ],
          "table": [
           {
            "cells": {
             "fill": {
              "color": "#EBF0F8"
             },
             "line": {
              "color": "white"
             }
            },
            "header": {
             "fill": {
              "color": "#C8D4E3"
             },
             "line": {
              "color": "white"
             }
            },
            "type": "table"
           }
          ]
         },
         "layout": {
          "annotationdefaults": {
           "arrowcolor": "#2a3f5f",
           "arrowhead": 0,
           "arrowwidth": 1
          },
          "autotypenumbers": "strict",
          "coloraxis": {
           "colorbar": {
            "outlinewidth": 0,
            "ticks": ""
           }
          },
          "colorscale": {
           "diverging": [
            [
             0,
             "#8e0152"
            ],
            [
             0.1,
             "#c51b7d"
            ],
            [
             0.2,
             "#de77ae"
            ],
            [
             0.3,
             "#f1b6da"
            ],
            [
             0.4,
             "#fde0ef"
            ],
            [
             0.5,
             "#f7f7f7"
            ],
            [
             0.6,
             "#e6f5d0"
            ],
            [
             0.7,
             "#b8e186"
            ],
            [
             0.8,
             "#7fbc41"
            ],
            [
             0.9,
             "#4d9221"
            ],
            [
             1,
             "#276419"
            ]
           ],
           "sequential": [
            [
             0,
             "#0d0887"
            ],
            [
             0.1111111111111111,
             "#46039f"
            ],
            [
             0.2222222222222222,
             "#7201a8"
            ],
            [
             0.3333333333333333,
             "#9c179e"
            ],
            [
             0.4444444444444444,
             "#bd3786"
            ],
            [
             0.5555555555555556,
             "#d8576b"
            ],
            [
             0.6666666666666666,
             "#ed7953"
            ],
            [
             0.7777777777777778,
             "#fb9f3a"
            ],
            [
             0.8888888888888888,
             "#fdca26"
            ],
            [
             1,
             "#f0f921"
            ]
           ],
           "sequentialminus": [
            [
             0,
             "#0d0887"
            ],
            [
             0.1111111111111111,
             "#46039f"
            ],
            [
             0.2222222222222222,
             "#7201a8"
            ],
            [
             0.3333333333333333,
             "#9c179e"
            ],
            [
             0.4444444444444444,
             "#bd3786"
            ],
            [
             0.5555555555555556,
             "#d8576b"
            ],
            [
             0.6666666666666666,
             "#ed7953"
            ],
            [
             0.7777777777777778,
             "#fb9f3a"
            ],
            [
             0.8888888888888888,
             "#fdca26"
            ],
            [
             1,
             "#f0f921"
            ]
           ]
          },
          "colorway": [
           "#636efa",
           "#EF553B",
           "#00cc96",
           "#ab63fa",
           "#FFA15A",
           "#19d3f3",
           "#FF6692",
           "#B6E880",
           "#FF97FF",
           "#FECB52"
          ],
          "font": {
           "color": "#2a3f5f"
          },
          "geo": {
           "bgcolor": "white",
           "lakecolor": "white",
           "landcolor": "#E5ECF6",
           "showlakes": true,
           "showland": true,
           "subunitcolor": "white"
          },
          "hoverlabel": {
           "align": "left"
          },
          "hovermode": "closest",
          "mapbox": {
           "style": "light"
          },
          "paper_bgcolor": "white",
          "plot_bgcolor": "#E5ECF6",
          "polar": {
           "angularaxis": {
            "gridcolor": "white",
            "linecolor": "white",
            "ticks": ""
           },
           "bgcolor": "#E5ECF6",
           "radialaxis": {
            "gridcolor": "white",
            "linecolor": "white",
            "ticks": ""
           }
          },
          "scene": {
           "xaxis": {
            "backgroundcolor": "#E5ECF6",
            "gridcolor": "white",
            "gridwidth": 2,
            "linecolor": "white",
            "showbackground": true,
            "ticks": "",
            "zerolinecolor": "white"
           },
           "yaxis": {
            "backgroundcolor": "#E5ECF6",
            "gridcolor": "white",
            "gridwidth": 2,
            "linecolor": "white",
            "showbackground": true,
            "ticks": "",
            "zerolinecolor": "white"
           },
           "zaxis": {
            "backgroundcolor": "#E5ECF6",
            "gridcolor": "white",
            "gridwidth": 2,
            "linecolor": "white",
            "showbackground": true,
            "ticks": "",
            "zerolinecolor": "white"
           }
          },
          "shapedefaults": {
           "line": {
            "color": "#2a3f5f"
           }
          },
          "ternary": {
           "aaxis": {
            "gridcolor": "white",
            "linecolor": "white",
            "ticks": ""
           },
           "baxis": {
            "gridcolor": "white",
            "linecolor": "white",
            "ticks": ""
           },
           "bgcolor": "#E5ECF6",
           "caxis": {
            "gridcolor": "white",
            "linecolor": "white",
            "ticks": ""
           }
          },
          "title": {
           "x": 0.05
          },
          "xaxis": {
           "automargin": true,
           "gridcolor": "white",
           "linecolor": "white",
           "ticks": "",
           "title": {
            "standoff": 15
           },
           "zerolinecolor": "white",
           "zerolinewidth": 2
          },
          "yaxis": {
           "automargin": true,
           "gridcolor": "white",
           "linecolor": "white",
           "ticks": "",
           "title": {
            "standoff": 15
           },
           "zerolinecolor": "white",
           "zerolinewidth": 2
          }
         }
        },
        "title": {
         "text": "Residuos - Ridge"
        },
        "xaxis": {
         "anchor": "y",
         "domain": [
          0,
          1
         ],
         "title": {
          "text": "value"
         }
        },
        "yaxis": {
         "anchor": "x",
         "domain": [
          0,
          1
         ],
         "title": {
          "text": "count"
         }
        }
       }
      }
     },
     "metadata": {},
     "output_type": "display_data"
    },
    {
     "data": {
      "application/vnd.plotly.v1+json": {
       "config": {
        "plotlyServerURL": "https://plot.ly"
       },
       "data": [
        {
         "hovertemplate": "Predicción=%{x}<br>Residuo=%{y}<extra></extra>",
         "legendgroup": "",
         "marker": {
          "color": "#636efa",
          "symbol": "circle"
         },
         "mode": "markers",
         "name": "",
         "orientation": "v",
         "showlegend": false,
         "type": "scatter",
         "x": {
          "bdata": "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",
          "dtype": "f8"
         },
         "xaxis": "x",
         "y": {
          "bdata": "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",
          "dtype": "f8"
         },
         "yaxis": "y"
        }
       ],
       "layout": {
        "legend": {
         "tracegroupgap": 0
        },
        "shapes": [
         {
          "type": "line",
          "x0": 0,
          "x1": 1,
          "xref": "x domain",
          "y0": 0,
          "y1": 0,
          "yref": "y"
         }
        ],
        "template": {
         "data": {
          "bar": [
           {
            "error_x": {
             "color": "#2a3f5f"
            },
            "error_y": {
             "color": "#2a3f5f"
            },
            "marker": {
             "line": {
              "color": "#E5ECF6",
              "width": 0.5
             },
             "pattern": {
              "fillmode": "overlay",
              "size": 10,
              "solidity": 0.2
             }
            },
            "type": "bar"
           }
          ],
          "barpolar": [
           {
            "marker": {
             "line": {
              "color": "#E5ECF6",
              "width": 0.5
             },
             "pattern": {
              "fillmode": "overlay",
              "size": 10,
              "solidity": 0.2
             }
            },
            "type": "barpolar"
           }
          ],
          "carpet": [
           {
            "aaxis": {
             "endlinecolor": "#2a3f5f",
             "gridcolor": "white",
             "linecolor": "white",
             "minorgridcolor": "white",
             "startlinecolor": "#2a3f5f"
            },
            "baxis": {
             "endlinecolor": "#2a3f5f",
             "gridcolor": "white",
             "linecolor": "white",
             "minorgridcolor": "white",
             "startlinecolor": "#2a3f5f"
            },
            "type": "carpet"
           }
          ],
          "choropleth": [
           {
            "colorbar": {
             "outlinewidth": 0,
             "ticks": ""
            },
            "type": "choropleth"
           }
          ],
          "contour": [
           {
            "colorbar": {
             "outlinewidth": 0,
             "ticks": ""
            },
            "colorscale": [
             [
              0,
              "#0d0887"
             ],
             [
              0.1111111111111111,
              "#46039f"
             ],
             [
              0.2222222222222222,
              "#7201a8"
             ],
             [
              0.3333333333333333,
              "#9c179e"
             ],
             [
              0.4444444444444444,
              "#bd3786"
             ],
             [
              0.5555555555555556,
              "#d8576b"
             ],
             [
              0.6666666666666666,
              "#ed7953"
             ],
             [
              0.7777777777777778,
              "#fb9f3a"
             ],
             [
              0.8888888888888888,
              "#fdca26"
             ],
             [
              1,
              "#f0f921"
             ]
            ],
            "type": "contour"
           }
          ],
          "contourcarpet": [
           {
            "colorbar": {
             "outlinewidth": 0,
             "ticks": ""
            },
            "type": "contourcarpet"
           }
          ],
          "heatmap": [
           {
            "colorbar": {
             "outlinewidth": 0,
             "ticks": ""
            },
            "colorscale": [
             [
              0,
              "#0d0887"
             ],
             [
              0.1111111111111111,
              "#46039f"
             ],
             [
              0.2222222222222222,
              "#7201a8"
             ],
             [
              0.3333333333333333,
              "#9c179e"
             ],
             [
              0.4444444444444444,
              "#bd3786"
             ],
             [
              0.5555555555555556,
              "#d8576b"
             ],
             [
              0.6666666666666666,
              "#ed7953"
             ],
             [
              0.7777777777777778,
              "#fb9f3a"
             ],
             [
              0.8888888888888888,
              "#fdca26"
             ],
             [
              1,
              "#f0f921"
             ]
            ],
            "type": "heatmap"
           }
          ],
          "histogram": [
           {
            "marker": {
             "pattern": {
              "fillmode": "overlay",
              "size": 10,
              "solidity": 0.2
             }
            },
            "type": "histogram"
           }
          ],
          "histogram2d": [
           {
            "colorbar": {
             "outlinewidth": 0,
             "ticks": ""
            },
            "colorscale": [
             [
              0,
              "#0d0887"
             ],
             [
              0.1111111111111111,
              "#46039f"
             ],
             [
              0.2222222222222222,
              "#7201a8"
             ],
             [
              0.3333333333333333,
              "#9c179e"
             ],
             [
              0.4444444444444444,
              "#bd3786"
             ],
             [
              0.5555555555555556,
              "#d8576b"
             ],
             [
              0.6666666666666666,
              "#ed7953"
             ],
             [
              0.7777777777777778,
              "#fb9f3a"
             ],
             [
              0.8888888888888888,
              "#fdca26"
             ],
             [
              1,
              "#f0f921"
             ]
            ],
            "type": "histogram2d"
           }
          ],
          "histogram2dcontour": [
           {
            "colorbar": {
             "outlinewidth": 0,
             "ticks": ""
            },
            "colorscale": [
             [
              0,
              "#0d0887"
             ],
             [
              0.1111111111111111,
              "#46039f"
             ],
             [
              0.2222222222222222,
              "#7201a8"
             ],
             [
              0.3333333333333333,
              "#9c179e"
             ],
             [
              0.4444444444444444,
              "#bd3786"
             ],
             [
              0.5555555555555556,
              "#d8576b"
             ],
             [
              0.6666666666666666,
              "#ed7953"
             ],
             [
              0.7777777777777778,
              "#fb9f3a"
             ],
             [
              0.8888888888888888,
              "#fdca26"
             ],
             [
              1,
              "#f0f921"
             ]
            ],
            "type": "histogram2dcontour"
           }
          ],
          "mesh3d": [
           {
            "colorbar": {
             "outlinewidth": 0,
             "ticks": ""
            },
            "type": "mesh3d"
           }
          ],
          "parcoords": [
           {
            "line": {
             "colorbar": {
              "outlinewidth": 0,
              "ticks": ""
             }
            },
            "type": "parcoords"
           }
          ],
          "pie": [
           {
            "automargin": true,
            "type": "pie"
           }
          ],
          "scatter": [
           {
            "fillpattern": {
             "fillmode": "overlay",
             "size": 10,
             "solidity": 0.2
            },
            "type": "scatter"
           }
          ],
          "scatter3d": [
           {
            "line": {
             "colorbar": {
              "outlinewidth": 0,
              "ticks": ""
             }
            },
            "marker": {
             "colorbar": {
              "outlinewidth": 0,
              "ticks": ""
             }
            },
            "type": "scatter3d"
           }
          ],
          "scattercarpet": [
           {
            "marker": {
             "colorbar": {
              "outlinewidth": 0,
              "ticks": ""
             }
            },
            "type": "scattercarpet"
           }
          ],
          "scattergeo": [
           {
            "marker": {
             "colorbar": {
              "outlinewidth": 0,
              "ticks": ""
             }
            },
            "type": "scattergeo"
           }
          ],
          "scattergl": [
           {
            "marker": {
             "colorbar": {
              "outlinewidth": 0,
              "ticks": ""
             }
            },
            "type": "scattergl"
           }
          ],
          "scattermap": [
           {
            "marker": {
             "colorbar": {
              "outlinewidth": 0,
              "ticks": ""
             }
            },
            "type": "scattermap"
           }
          ],
          "scattermapbox": [
           {
            "marker": {
             "colorbar": {
              "outlinewidth": 0,
              "ticks": ""
             }
            },
            "type": "scattermapbox"
           }
          ],
          "scatterpolar": [
           {
            "marker": {
             "colorbar": {
              "outlinewidth": 0,
              "ticks": ""
             }
            },
            "type": "scatterpolar"
           }
          ],
          "scatterpolargl": [
           {
            "marker": {
             "colorbar": {
              "outlinewidth": 0,
              "ticks": ""
             }
            },
            "type": "scatterpolargl"
           }
          ],
          "scatterternary": [
           {
            "marker": {
             "colorbar": {
              "outlinewidth": 0,
              "ticks": ""
             }
            },
            "type": "scatterternary"
           }
          ],
          "surface": [
           {
            "colorbar": {
             "outlinewidth": 0,
             "ticks": ""
            },
            "colorscale": [
             [
              0,
              "#0d0887"
             ],
             [
              0.1111111111111111,
              "#46039f"
             ],
             [
              0.2222222222222222,
              "#7201a8"
             ],
             [
              0.3333333333333333,
              "#9c179e"
             ],
             [
              0.4444444444444444,
              "#bd3786"
             ],
             [
              0.5555555555555556,
              "#d8576b"
             ],
             [
              0.6666666666666666,
              "#ed7953"
             ],
             [
              0.7777777777777778,
              "#fb9f3a"
             ],
             [
              0.8888888888888888,
              "#fdca26"
             ],
             [
              1,
              "#f0f921"
             ]
            ],
            "type": "surface"
           }
          ],
          "table": [
           {
            "cells": {
             "fill": {
              "color": "#EBF0F8"
             },
             "line": {
              "color": "white"
             }
            },
            "header": {
             "fill": {
              "color": "#C8D4E3"
             },
             "line": {
              "color": "white"
             }
            },
            "type": "table"
           }
          ]
         },
         "layout": {
          "annotationdefaults": {
           "arrowcolor": "#2a3f5f",
           "arrowhead": 0,
           "arrowwidth": 1
          },
          "autotypenumbers": "strict",
          "coloraxis": {
           "colorbar": {
            "outlinewidth": 0,
            "ticks": ""
           }
          },
          "colorscale": {
           "diverging": [
            [
             0,
             "#8e0152"
            ],
            [
             0.1,
             "#c51b7d"
            ],
            [
             0.2,
             "#de77ae"
            ],
            [
             0.3,
             "#f1b6da"
            ],
            [
             0.4,
             "#fde0ef"
            ],
            [
             0.5,
             "#f7f7f7"
            ],
            [
             0.6,
             "#e6f5d0"
            ],
            [
             0.7,
             "#b8e186"
            ],
            [
             0.8,
             "#7fbc41"
            ],
            [
             0.9,
             "#4d9221"
            ],
            [
             1,
             "#276419"
            ]
           ],
           "sequential": [
            [
             0,
             "#0d0887"
            ],
            [
             0.1111111111111111,
             "#46039f"
            ],
            [
             0.2222222222222222,
             "#7201a8"
            ],
            [
             0.3333333333333333,
             "#9c179e"
            ],
            [
             0.4444444444444444,
             "#bd3786"
            ],
            [
             0.5555555555555556,
             "#d8576b"
            ],
            [
             0.6666666666666666,
             "#ed7953"
            ],
            [
             0.7777777777777778,
             "#fb9f3a"
            ],
            [
             0.8888888888888888,
             "#fdca26"
            ],
            [
             1,
             "#f0f921"
            ]
           ],
           "sequentialminus": [
            [
             0,
             "#0d0887"
            ],
            [
             0.1111111111111111,
             "#46039f"
            ],
            [
             0.2222222222222222,
             "#7201a8"
            ],
            [
             0.3333333333333333,
             "#9c179e"
            ],
            [
             0.4444444444444444,
             "#bd3786"
            ],
            [
             0.5555555555555556,
             "#d8576b"
            ],
            [
             0.6666666666666666,
             "#ed7953"
            ],
            [
             0.7777777777777778,
             "#fb9f3a"
            ],
            [
             0.8888888888888888,
             "#fdca26"
            ],
            [
             1,
             "#f0f921"
            ]
           ]
          },
          "colorway": [
           "#636efa",
           "#EF553B",
           "#00cc96",
           "#ab63fa",
           "#FFA15A",
           "#19d3f3",
           "#FF6692",
           "#B6E880",
           "#FF97FF",
           "#FECB52"
          ],
          "font": {
           "color": "#2a3f5f"
          },
          "geo": {
           "bgcolor": "white",
           "lakecolor": "white",
           "landcolor": "#E5ECF6",
           "showlakes": true,
           "showland": true,
           "subunitcolor": "white"
          },
          "hoverlabel": {
           "align": "left"
          },
          "hovermode": "closest",
          "mapbox": {
           "style": "light"
          },
          "paper_bgcolor": "white",
          "plot_bgcolor": "#E5ECF6",
          "polar": {
           "angularaxis": {
            "gridcolor": "white",
            "linecolor": "white",
            "ticks": ""
           },
           "bgcolor": "#E5ECF6",
           "radialaxis": {
            "gridcolor": "white",
            "linecolor": "white",
            "ticks": ""
           }
          },
          "scene": {
           "xaxis": {
            "backgroundcolor": "#E5ECF6",
            "gridcolor": "white",
            "gridwidth": 2,
            "linecolor": "white",
            "showbackground": true,
            "ticks": "",
            "zerolinecolor": "white"
           },
           "yaxis": {
            "backgroundcolor": "#E5ECF6",
            "gridcolor": "white",
            "gridwidth": 2,
            "linecolor": "white",
            "showbackground": true,
            "ticks": "",
            "zerolinecolor": "white"
           },
           "zaxis": {
            "backgroundcolor": "#E5ECF6",
            "gridcolor": "white",
            "gridwidth": 2,
            "linecolor": "white",
            "showbackground": true,
            "ticks": "",
            "zerolinecolor": "white"
           }
          },
          "shapedefaults": {
           "line": {
            "color": "#2a3f5f"
           }
          },
          "ternary": {
           "aaxis": {
            "gridcolor": "white",
            "linecolor": "white",
            "ticks": ""
           },
           "baxis": {
            "gridcolor": "white",
            "linecolor": "white",
            "ticks": ""
           },
           "bgcolor": "#E5ECF6",
           "caxis": {
            "gridcolor": "white",
            "linecolor": "white",
            "ticks": ""
           }
          },
          "title": {
           "x": 0.05
          },
          "xaxis": {
           "automargin": true,
           "gridcolor": "white",
           "linecolor": "white",
           "ticks": "",
           "title": {
            "standoff": 15
           },
           "zerolinecolor": "white",
           "zerolinewidth": 2
          },
          "yaxis": {
           "automargin": true,
           "gridcolor": "white",
           "linecolor": "white",
           "ticks": "",
           "title": {
            "standoff": 15
           },
           "zerolinecolor": "white",
           "zerolinewidth": 2
          }
         }
        },
        "title": {
         "text": "Residuos vs Predicción - Ridge"
        },
        "xaxis": {
         "anchor": "y",
         "domain": [
          0,
          1
         ],
         "title": {
          "text": "Predicción"
         }
        },
        "yaxis": {
         "anchor": "x",
         "domain": [
          0,
          1
         ],
         "title": {
          "text": "Residuo"
         }
        }
       }
      }
     },
     "metadata": {},
     "output_type": "display_data"
    }
   ],
   "source": [
    "scores = {\n",
    "    \"Ridge\": (r2_ridge, rmse_ridge),\n",
    "    \"Lasso\": (r2_lasso, rmse_lasso),\n",
    "    \"ElasticNet\": (r2_enet, rmse_enet)\n",
    "}\n",
    "best_model_name = max(scores, key=lambda k: scores[k][0])\n",
    "print(\"Mejor modelo:\", best_model_name, \"->\", scores[best_model_name])\n",
    "\n",
    "best_pred = {\"Ridge\": y_pred_ridge, \"Lasso\": y_pred_lasso, \"ElasticNet\": y_pred_enet}[best_model_name]\n",
    "residuals = y_test - best_pred\n",
    "\n",
    "fig = px.histogram(residuals, nbins=40, title=f\"Residuos - {best_model_name}\")\n",
    "fig.show()\n",
    "\n",
    "fig = px.scatter(x=best_pred, y=residuals, labels={\"x\":\"Predicción\", \"y\":\"Residuo\"},\n",
    "                 title=f\"Residuos vs Predicción - {best_model_name}\")\n",
    "fig.add_hline(y=0)\n",
    "fig.show()\n"
   ]
  },
  {
   "cell_type": "markdown",
   "metadata": {
    "id": "yvY3chzYvccf"
   },
   "source": [
    "## 7) Importancia / Coeficientes (interpretación)"
   ]
  },
  {
   "cell_type": "code",
   "execution_count": 37,
   "metadata": {
    "colab": {
     "base_uri": "https://localhost:8080/",
     "height": 1000
    },
    "executionInfo": {
     "elapsed": 103,
     "status": "ok",
     "timestamp": 1761261978574,
     "user": {
      "displayName": "Marco Villarroel",
      "userId": "02234616539294282296"
     },
     "user_tz": 240
    },
    "id": "Ugmakc6enMtS",
    "outputId": "f3a74b39-707e-48dd-99a6-1037bd57a4c9"
   },
   "outputs": [
    {
     "name": "stdout",
     "output_type": "stream",
     "text": [
      "Top 25 coeficientes más grandes (positivos):\n"
     ]
    },
    {
     "data": {
      "text/plain": [
       "Neighborhood_StoneBr    0.139779\n",
       "Neighborhood_Crawfor    0.119393\n",
       "SaleCondition_Alloca    0.109934\n",
       "Exterior1st_BrkFace     0.106339\n",
       "BldgType_2fmCon         0.103310\n",
       "SaleType_ConLD          0.094172\n",
       "SaleType_New            0.084916\n",
       "Neighborhood_NridgHt    0.084241\n",
       "Functional_Typ          0.071772\n",
       "BsmtExposure_Gd         0.065371\n",
       "KitchenQual_Ex          0.057483\n",
       "OverallQual             0.057375\n",
       "GarageCars              0.056844\n",
       "LotConfig_CulDSac       0.055960\n",
       "Condition1_Norm         0.051308\n",
       "SaleCondition_Normal    0.050659\n",
       "Exterior1st_MetalSd     0.044321\n",
       "BsmtQual_Ex             0.040716\n",
       "TotalBaths              0.037973\n",
       "OverallCond             0.035895\n",
       "BsmtFullBath            0.030560\n",
       "HeatingQC_Ex            0.030298\n",
       "GarageType_Attchd       0.029754\n",
       "Fireplaces              0.029305\n",
       "ExterCond_TA            0.027809\n",
       "dtype: float64"
      ]
     },
     "metadata": {},
     "output_type": "display_data"
    },
    {
     "name": "stdout",
     "output_type": "stream",
     "text": [
      "Top 15 coeficientes más pequeños (negativos):\n"
     ]
    },
    {
     "data": {
      "text/plain": [
       "HouseStyle_1Story      -0.013287\n",
       "Foundation_CBlock      -0.020494\n",
       "Exterior2nd_MetalSd    -0.024321\n",
       "MSZoning_RL            -0.035256\n",
       "KitchenAbvGr           -0.052770\n",
       "BsmtCond_Fa            -0.058720\n",
       "CentralAir_N           -0.059442\n",
       "Neighborhood_Edwards   -0.062004\n",
       "Neighborhood_MeadowV   -0.077861\n",
       "MSZoning_RM            -0.091746\n",
       "Heating_Grav           -0.146224\n",
       "Functional_Maj2        -0.155869\n",
       "MSZoning_C (all)       -0.180268\n",
       "Condition2_PosN        -0.356788\n",
       "RoofMatl_ClyTile       -0.699057\n",
       "dtype: float64"
      ]
     },
     "metadata": {},
     "output_type": "display_data"
    }
   ],
   "source": [
    "# Función robusta para extraer coeficientes y devolver Series indexada por nombres\n",
    "def coef_importances_any(estimator, feature_names):\n",
    "    \"\"\"\n",
    "    Acepta:\n",
    "      - estimator: puede ser un Pipeline (con named_steps['model']) o un estimador ajustado (RidgeCV, LassoCV, etc.)\n",
    "      - feature_names: lista con los nombres de las features (orden debe coincidir con X usado en fit)\n",
    "    Devuelve:\n",
    "      - pd.Series con coeficientes, index=feature_names, ordenada por |coef| desc.\n",
    "    \"\"\"\n",
    "    # Si es pipeline, extraer el paso 'model'\n",
    "    if hasattr(estimator, \"named_steps\"):\n",
    "        model = estimator.named_steps.get(\"model\")\n",
    "    else:\n",
    "        model = estimator\n",
    "\n",
    "    # Asegurar que el modelo tenga coef_\n",
    "    if not hasattr(model, \"coef_\"):\n",
    "        raise ValueError(\"El estimador no tiene atributo coef_. ¿No está entrenado o no es lineal?\")\n",
    "\n",
    "    coefs = np.array(model.coef_).ravel()  # asegurar forma 1D\n",
    "\n",
    "    # Asegurar que el número de coeficientes coincide con el número de nombres de características\n",
    "    if len(coefs) != len(feature_names):\n",
    "         raise ValueError(\"El número de coeficientes no coincide con el número de nombres de características proporcionados.\")\n",
    "\n",
    "    # Si hay intercepto y quieres incluirlo, se podría agregar aquí (opcional)\n",
    "    return pd.Series(coefs, index=feature_names).sort_values(key=lambda x: x.abs(), ascending=False)\n",
    "\n",
    "# Mapeo correcto: usar los objetos ajustados (RidgeCV, LassoCV, ElasticNetCV)\n",
    "estimators_map = {\n",
    "    \"Ridge\": ridge_cv,\n",
    "    \"Lasso\": lasso_cv,\n",
    "    \"ElasticNet\": enet_cv\n",
    "}\n",
    "\n",
    "best_estimator_obj = estimators_map[best_model_name]\n",
    "\n",
    "# Obtener la Series de coeficientes mapeada a las features seleccionadas\n",
    "coefs = coef_importances_any(best_estimator_obj, selected_final)\n",
    "\n",
    "coefs_sorted = coefs.sort_values(ascending=False)\n",
    "\n",
    "# Mostrar las 25 variables con coeficientes más grandes (positivos)\n",
    "print(\"Top 25 coeficientes más grandes (positivos):\")\n",
    "display(coefs_sorted.head(25))\n",
    "\n",
    "print(\"Top 15 coeficientes más pequeños (negativos):\")\n",
    "display(coefs_sorted.tail(15))"
   ]
  },
  {
   "cell_type": "code",
   "execution_count": 38,
   "metadata": {
    "colab": {
     "base_uri": "https://localhost:8080/",
     "height": 542
    },
    "executionInfo": {
     "elapsed": 98,
     "status": "ok",
     "timestamp": 1761261978676,
     "user": {
      "displayName": "Marco Villarroel",
      "userId": "02234616539294282296"
     },
     "user_tz": 240
    },
    "id": "_EYDHgslx8Ri",
    "outputId": "c6eaa76b-e95f-42e4-b0ac-a9a67ba14b49"
   },
   "outputs": [
    {
     "data": {
      "application/vnd.plotly.v1+json": {
       "config": {
        "plotlyServerURL": "https://plot.ly"
       },
       "data": [
        {
         "hovertemplate": "feature=%{x}<br>coef=%{y}<extra></extra>",
         "legendgroup": "",
         "marker": {
          "color": "#636efa",
          "pattern": {
           "shape": ""
          }
         },
         "name": "",
         "orientation": "v",
         "showlegend": false,
         "textposition": "auto",
         "type": "bar",
         "x": [
          "Neighborhood_StoneBr",
          "Neighborhood_Crawfor",
          "SaleCondition_Alloca",
          "Exterior1st_BrkFace",
          "BldgType_2fmCon",
          "SaleType_ConLD",
          "SaleType_New",
          "Neighborhood_NridgHt",
          "Functional_Typ",
          "BsmtExposure_Gd",
          "KitchenQual_Ex",
          "OverallQual",
          "GarageCars",
          "LotConfig_CulDSac",
          "Condition1_Norm",
          "SaleCondition_Normal",
          "Exterior1st_MetalSd",
          "BsmtQual_Ex",
          "TotalBaths",
          "OverallCond",
          "BsmtFullBath",
          "HeatingQC_Ex",
          "GarageType_Attchd",
          "Fireplaces",
          "ExterCond_TA"
         ],
         "xaxis": "x",
         "y": {
          "bdata": "+C0/o0TkwT+EUg9CjZC+P0l0boulJLw/KB5kxAo5uz8nWmmTjXK6P+qfb5GoG7g/MlIJ5Ay9tT9IEWiJ0ZC1P9yCwRqqX7I/4OSH2CC8sD/gHWcEcG6tPwB15DdLYK0/wK59XbYarT9IhWOl0qasP4CPuUgWRao/XK3Z3evvqT/Yf+9XPLGmP4BpnbW22KQ/IEDDjC9xoz/YT05t32CiPyBf2W49S58/AKBbq1wGnz/ALXo7t3eeP0D3ki1CAp4/gO5/MtV5nD8=",
          "dtype": "f8"
         },
         "yaxis": "y"
        }
       ],
       "layout": {
        "barmode": "relative",
        "legend": {
         "tracegroupgap": 0
        },
        "template": {
         "data": {
          "bar": [
           {
            "error_x": {
             "color": "#2a3f5f"
            },
            "error_y": {
             "color": "#2a3f5f"
            },
            "marker": {
             "line": {
              "color": "#E5ECF6",
              "width": 0.5
             },
             "pattern": {
              "fillmode": "overlay",
              "size": 10,
              "solidity": 0.2
             }
            },
            "type": "bar"
           }
          ],
          "barpolar": [
           {
            "marker": {
             "line": {
              "color": "#E5ECF6",
              "width": 0.5
             },
             "pattern": {
              "fillmode": "overlay",
              "size": 10,
              "solidity": 0.2
             }
            },
            "type": "barpolar"
           }
          ],
          "carpet": [
           {
            "aaxis": {
             "endlinecolor": "#2a3f5f",
             "gridcolor": "white",
             "linecolor": "white",
             "minorgridcolor": "white",
             "startlinecolor": "#2a3f5f"
            },
            "baxis": {
             "endlinecolor": "#2a3f5f",
             "gridcolor": "white",
             "linecolor": "white",
             "minorgridcolor": "white",
             "startlinecolor": "#2a3f5f"
            },
            "type": "carpet"
           }
          ],
          "choropleth": [
           {
            "colorbar": {
             "outlinewidth": 0,
             "ticks": ""
            },
            "type": "choropleth"
           }
          ],
          "contour": [
           {
            "colorbar": {
             "outlinewidth": 0,
             "ticks": ""
            },
            "colorscale": [
             [
              0,
              "#0d0887"
             ],
             [
              0.1111111111111111,
              "#46039f"
             ],
             [
              0.2222222222222222,
              "#7201a8"
             ],
             [
              0.3333333333333333,
              "#9c179e"
             ],
             [
              0.4444444444444444,
              "#bd3786"
             ],
             [
              0.5555555555555556,
              "#d8576b"
             ],
             [
              0.6666666666666666,
              "#ed7953"
             ],
             [
              0.7777777777777778,
              "#fb9f3a"
             ],
             [
              0.8888888888888888,
              "#fdca26"
             ],
             [
              1,
              "#f0f921"
             ]
            ],
            "type": "contour"
           }
          ],
          "contourcarpet": [
           {
            "colorbar": {
             "outlinewidth": 0,
             "ticks": ""
            },
            "type": "contourcarpet"
           }
          ],
          "heatmap": [
           {
            "colorbar": {
             "outlinewidth": 0,
             "ticks": ""
            },
            "colorscale": [
             [
              0,
              "#0d0887"
             ],
             [
              0.1111111111111111,
              "#46039f"
             ],
             [
              0.2222222222222222,
              "#7201a8"
             ],
             [
              0.3333333333333333,
              "#9c179e"
             ],
             [
              0.4444444444444444,
              "#bd3786"
             ],
             [
              0.5555555555555556,
              "#d8576b"
             ],
             [
              0.6666666666666666,
              "#ed7953"
             ],
             [
              0.7777777777777778,
              "#fb9f3a"
             ],
             [
              0.8888888888888888,
              "#fdca26"
             ],
             [
              1,
              "#f0f921"
             ]
            ],
            "type": "heatmap"
           }
          ],
          "histogram": [
           {
            "marker": {
             "pattern": {
              "fillmode": "overlay",
              "size": 10,
              "solidity": 0.2
             }
            },
            "type": "histogram"
           }
          ],
          "histogram2d": [
           {
            "colorbar": {
             "outlinewidth": 0,
             "ticks": ""
            },
            "colorscale": [
             [
              0,
              "#0d0887"
             ],
             [
              0.1111111111111111,
              "#46039f"
             ],
             [
              0.2222222222222222,
              "#7201a8"
             ],
             [
              0.3333333333333333,
              "#9c179e"
             ],
             [
              0.4444444444444444,
              "#bd3786"
             ],
             [
              0.5555555555555556,
              "#d8576b"
             ],
             [
              0.6666666666666666,
              "#ed7953"
             ],
             [
              0.7777777777777778,
              "#fb9f3a"
             ],
             [
              0.8888888888888888,
              "#fdca26"
             ],
             [
              1,
              "#f0f921"
             ]
            ],
            "type": "histogram2d"
           }
          ],
          "histogram2dcontour": [
           {
            "colorbar": {
             "outlinewidth": 0,
             "ticks": ""
            },
            "colorscale": [
             [
              0,
              "#0d0887"
             ],
             [
              0.1111111111111111,
              "#46039f"
             ],
             [
              0.2222222222222222,
              "#7201a8"
             ],
             [
              0.3333333333333333,
              "#9c179e"
             ],
             [
              0.4444444444444444,
              "#bd3786"
             ],
             [
              0.5555555555555556,
              "#d8576b"
             ],
             [
              0.6666666666666666,
              "#ed7953"
             ],
             [
              0.7777777777777778,
              "#fb9f3a"
             ],
             [
              0.8888888888888888,
              "#fdca26"
             ],
             [
              1,
              "#f0f921"
             ]
            ],
            "type": "histogram2dcontour"
           }
          ],
          "mesh3d": [
           {
            "colorbar": {
             "outlinewidth": 0,
             "ticks": ""
            },
            "type": "mesh3d"
           }
          ],
          "parcoords": [
           {
            "line": {
             "colorbar": {
              "outlinewidth": 0,
              "ticks": ""
             }
            },
            "type": "parcoords"
           }
          ],
          "pie": [
           {
            "automargin": true,
            "type": "pie"
           }
          ],
          "scatter": [
           {
            "fillpattern": {
             "fillmode": "overlay",
             "size": 10,
             "solidity": 0.2
            },
            "type": "scatter"
           }
          ],
          "scatter3d": [
           {
            "line": {
             "colorbar": {
              "outlinewidth": 0,
              "ticks": ""
             }
            },
            "marker": {
             "colorbar": {
              "outlinewidth": 0,
              "ticks": ""
             }
            },
            "type": "scatter3d"
           }
          ],
          "scattercarpet": [
           {
            "marker": {
             "colorbar": {
              "outlinewidth": 0,
              "ticks": ""
             }
            },
            "type": "scattercarpet"
           }
          ],
          "scattergeo": [
           {
            "marker": {
             "colorbar": {
              "outlinewidth": 0,
              "ticks": ""
             }
            },
            "type": "scattergeo"
           }
          ],
          "scattergl": [
           {
            "marker": {
             "colorbar": {
              "outlinewidth": 0,
              "ticks": ""
             }
            },
            "type": "scattergl"
           }
          ],
          "scattermap": [
           {
            "marker": {
             "colorbar": {
              "outlinewidth": 0,
              "ticks": ""
             }
            },
            "type": "scattermap"
           }
          ],
          "scattermapbox": [
           {
            "marker": {
             "colorbar": {
              "outlinewidth": 0,
              "ticks": ""
             }
            },
            "type": "scattermapbox"
           }
          ],
          "scatterpolar": [
           {
            "marker": {
             "colorbar": {
              "outlinewidth": 0,
              "ticks": ""
             }
            },
            "type": "scatterpolar"
           }
          ],
          "scatterpolargl": [
           {
            "marker": {
             "colorbar": {
              "outlinewidth": 0,
              "ticks": ""
             }
            },
            "type": "scatterpolargl"
           }
          ],
          "scatterternary": [
           {
            "marker": {
             "colorbar": {
              "outlinewidth": 0,
              "ticks": ""
             }
            },
            "type": "scatterternary"
           }
          ],
          "surface": [
           {
            "colorbar": {
             "outlinewidth": 0,
             "ticks": ""
            },
            "colorscale": [
             [
              0,
              "#0d0887"
             ],
             [
              0.1111111111111111,
              "#46039f"
             ],
             [
              0.2222222222222222,
              "#7201a8"
             ],
             [
              0.3333333333333333,
              "#9c179e"
             ],
             [
              0.4444444444444444,
              "#bd3786"
             ],
             [
              0.5555555555555556,
              "#d8576b"
             ],
             [
              0.6666666666666666,
              "#ed7953"
             ],
             [
              0.7777777777777778,
              "#fb9f3a"
             ],
             [
              0.8888888888888888,
              "#fdca26"
             ],
             [
              1,
              "#f0f921"
             ]
            ],
            "type": "surface"
           }
          ],
          "table": [
           {
            "cells": {
             "fill": {
              "color": "#EBF0F8"
             },
             "line": {
              "color": "white"
             }
            },
            "header": {
             "fill": {
              "color": "#C8D4E3"
             },
             "line": {
              "color": "white"
             }
            },
            "type": "table"
           }
          ]
         },
         "layout": {
          "annotationdefaults": {
           "arrowcolor": "#2a3f5f",
           "arrowhead": 0,
           "arrowwidth": 1
          },
          "autotypenumbers": "strict",
          "coloraxis": {
           "colorbar": {
            "outlinewidth": 0,
            "ticks": ""
           }
          },
          "colorscale": {
           "diverging": [
            [
             0,
             "#8e0152"
            ],
            [
             0.1,
             "#c51b7d"
            ],
            [
             0.2,
             "#de77ae"
            ],
            [
             0.3,
             "#f1b6da"
            ],
            [
             0.4,
             "#fde0ef"
            ],
            [
             0.5,
             "#f7f7f7"
            ],
            [
             0.6,
             "#e6f5d0"
            ],
            [
             0.7,
             "#b8e186"
            ],
            [
             0.8,
             "#7fbc41"
            ],
            [
             0.9,
             "#4d9221"
            ],
            [
             1,
             "#276419"
            ]
           ],
           "sequential": [
            [
             0,
             "#0d0887"
            ],
            [
             0.1111111111111111,
             "#46039f"
            ],
            [
             0.2222222222222222,
             "#7201a8"
            ],
            [
             0.3333333333333333,
             "#9c179e"
            ],
            [
             0.4444444444444444,
             "#bd3786"
            ],
            [
             0.5555555555555556,
             "#d8576b"
            ],
            [
             0.6666666666666666,
             "#ed7953"
            ],
            [
             0.7777777777777778,
             "#fb9f3a"
            ],
            [
             0.8888888888888888,
             "#fdca26"
            ],
            [
             1,
             "#f0f921"
            ]
           ],
           "sequentialminus": [
            [
             0,
             "#0d0887"
            ],
            [
             0.1111111111111111,
             "#46039f"
            ],
            [
             0.2222222222222222,
             "#7201a8"
            ],
            [
             0.3333333333333333,
             "#9c179e"
            ],
            [
             0.4444444444444444,
             "#bd3786"
            ],
            [
             0.5555555555555556,
             "#d8576b"
            ],
            [
             0.6666666666666666,
             "#ed7953"
            ],
            [
             0.7777777777777778,
             "#fb9f3a"
            ],
            [
             0.8888888888888888,
             "#fdca26"
            ],
            [
             1,
             "#f0f921"
            ]
           ]
          },
          "colorway": [
           "#636efa",
           "#EF553B",
           "#00cc96",
           "#ab63fa",
           "#FFA15A",
           "#19d3f3",
           "#FF6692",
           "#B6E880",
           "#FF97FF",
           "#FECB52"
          ],
          "font": {
           "color": "#2a3f5f"
          },
          "geo": {
           "bgcolor": "white",
           "lakecolor": "white",
           "landcolor": "#E5ECF6",
           "showlakes": true,
           "showland": true,
           "subunitcolor": "white"
          },
          "hoverlabel": {
           "align": "left"
          },
          "hovermode": "closest",
          "mapbox": {
           "style": "light"
          },
          "paper_bgcolor": "white",
          "plot_bgcolor": "#E5ECF6",
          "polar": {
           "angularaxis": {
            "gridcolor": "white",
            "linecolor": "white",
            "ticks": ""
           },
           "bgcolor": "#E5ECF6",
           "radialaxis": {
            "gridcolor": "white",
            "linecolor": "white",
            "ticks": ""
           }
          },
          "scene": {
           "xaxis": {
            "backgroundcolor": "#E5ECF6",
            "gridcolor": "white",
            "gridwidth": 2,
            "linecolor": "white",
            "showbackground": true,
            "ticks": "",
            "zerolinecolor": "white"
           },
           "yaxis": {
            "backgroundcolor": "#E5ECF6",
            "gridcolor": "white",
            "gridwidth": 2,
            "linecolor": "white",
            "showbackground": true,
            "ticks": "",
            "zerolinecolor": "white"
           },
           "zaxis": {
            "backgroundcolor": "#E5ECF6",
            "gridcolor": "white",
            "gridwidth": 2,
            "linecolor": "white",
            "showbackground": true,
            "ticks": "",
            "zerolinecolor": "white"
           }
          },
          "shapedefaults": {
           "line": {
            "color": "#2a3f5f"
           }
          },
          "ternary": {
           "aaxis": {
            "gridcolor": "white",
            "linecolor": "white",
            "ticks": ""
           },
           "baxis": {
            "gridcolor": "white",
            "linecolor": "white",
            "ticks": ""
           },
           "bgcolor": "#E5ECF6",
           "caxis": {
            "gridcolor": "white",
            "linecolor": "white",
            "ticks": ""
           }
          },
          "title": {
           "x": 0.05
          },
          "xaxis": {
           "automargin": true,
           "gridcolor": "white",
           "linecolor": "white",
           "ticks": "",
           "title": {
            "standoff": 15
           },
           "zerolinecolor": "white",
           "zerolinewidth": 2
          },
          "yaxis": {
           "automargin": true,
           "gridcolor": "white",
           "linecolor": "white",
           "ticks": "",
           "title": {
            "standoff": 15
           },
           "zerolinecolor": "white",
           "zerolinewidth": 2
          }
         }
        },
        "title": {
         "text": "Top 25 mayores coeficientes por |peso| - Ridge"
        },
        "xaxis": {
         "anchor": "y",
         "domain": [
          0,
          1
         ],
         "tickangle": -45,
         "tickfont": {
          "size": 10
         },
         "title": {
          "text": "feature"
         }
        },
        "yaxis": {
         "anchor": "x",
         "domain": [
          0,
          1
         ],
         "title": {
          "text": "coef"
         }
        }
       }
      }
     },
     "metadata": {},
     "output_type": "display_data"
    }
   ],
   "source": [
    "# Gráfico con plotly\n",
    "fig = px.bar(coefs_sorted.head(25).reset_index().rename(columns={\"index\": \"feature\", 0: \"coef\", 1: \"value\"}),\n",
    "             x=coefs_sorted.head(25).index, y=coefs_sorted.head(25).values,\n",
    "             title=f\"Top 25 coeficientes por |peso| - {best_model_name}\")\n",
    "# alternativo: construir DataFrame explícito para evitar problemas de nombres\n",
    "top25 = coefs_sorted.head(25).reset_index()\n",
    "top25.columns = [\"feature\", \"coef\"]\n",
    "fig = px.bar(top25, x=\"feature\", y=\"coef\", title=f\"Top 25 mayores coeficientes por |peso| - {best_model_name}\")\n",
    "fig.update_layout(xaxis_tickangle=-45, xaxis_tickfont_size=10)\n",
    "fig.show()"
   ]
  },
  {
   "cell_type": "code",
   "execution_count": 39,
   "metadata": {
    "colab": {
     "base_uri": "https://localhost:8080/",
     "height": 542
    },
    "executionInfo": {
     "elapsed": 143,
     "status": "ok",
     "timestamp": 1761261978822,
     "user": {
      "displayName": "Marco Villarroel",
      "userId": "02234616539294282296"
     },
     "user_tz": 240
    },
    "id": "Bh2x8IBumaiK",
    "outputId": "5744a0c2-9cd0-46f8-f7cc-9728c0011f6a"
   },
   "outputs": [
    {
     "data": {
      "application/vnd.plotly.v1+json": {
       "config": {
        "plotlyServerURL": "https://plot.ly"
       },
       "data": [
        {
         "hovertemplate": "feature=%{x}<br>coef=%{y}<extra></extra>",
         "legendgroup": "",
         "marker": {
          "color": "#636efa",
          "pattern": {
           "shape": ""
          }
         },
         "name": "",
         "orientation": "v",
         "showlegend": false,
         "textposition": "auto",
         "type": "bar",
         "x": [
          "HouseStyle_1Story",
          "Foundation_CBlock",
          "Exterior2nd_MetalSd",
          "MSZoning_RL",
          "KitchenAbvGr",
          "BsmtCond_Fa",
          "CentralAir_N",
          "Neighborhood_Edwards",
          "Neighborhood_MeadowV",
          "MSZoning_RM",
          "Heating_Grav",
          "Functional_Maj2",
          "MSZoning_C (all)",
          "Condition2_PosN",
          "RoofMatl_ClyTile"
         ],
         "xaxis": "x",
         "y": {
          "bdata": "oL3oOWk2i7+AZ9uJdfyUvzhY0A2E55i/kEqJmhMNor9wsW22tgSrvzQe9fiVEK6/sEML2zJvrr9A3NRqDb+vvyHEt0Kv7rO/yDsCtK98t7/+shCgdLfCv13uhheF88O/WIfXRwYTx7+tw1hTntXWv9ItERqsXua/",
          "dtype": "f8"
         },
         "yaxis": "y"
        }
       ],
       "layout": {
        "barmode": "relative",
        "legend": {
         "tracegroupgap": 0
        },
        "template": {
         "data": {
          "bar": [
           {
            "error_x": {
             "color": "#2a3f5f"
            },
            "error_y": {
             "color": "#2a3f5f"
            },
            "marker": {
             "line": {
              "color": "#E5ECF6",
              "width": 0.5
             },
             "pattern": {
              "fillmode": "overlay",
              "size": 10,
              "solidity": 0.2
             }
            },
            "type": "bar"
           }
          ],
          "barpolar": [
           {
            "marker": {
             "line": {
              "color": "#E5ECF6",
              "width": 0.5
             },
             "pattern": {
              "fillmode": "overlay",
              "size": 10,
              "solidity": 0.2
             }
            },
            "type": "barpolar"
           }
          ],
          "carpet": [
           {
            "aaxis": {
             "endlinecolor": "#2a3f5f",
             "gridcolor": "white",
             "linecolor": "white",
             "minorgridcolor": "white",
             "startlinecolor": "#2a3f5f"
            },
            "baxis": {
             "endlinecolor": "#2a3f5f",
             "gridcolor": "white",
             "linecolor": "white",
             "minorgridcolor": "white",
             "startlinecolor": "#2a3f5f"
            },
            "type": "carpet"
           }
          ],
          "choropleth": [
           {
            "colorbar": {
             "outlinewidth": 0,
             "ticks": ""
            },
            "type": "choropleth"
           }
          ],
          "contour": [
           {
            "colorbar": {
             "outlinewidth": 0,
             "ticks": ""
            },
            "colorscale": [
             [
              0,
              "#0d0887"
             ],
             [
              0.1111111111111111,
              "#46039f"
             ],
             [
              0.2222222222222222,
              "#7201a8"
             ],
             [
              0.3333333333333333,
              "#9c179e"
             ],
             [
              0.4444444444444444,
              "#bd3786"
             ],
             [
              0.5555555555555556,
              "#d8576b"
             ],
             [
              0.6666666666666666,
              "#ed7953"
             ],
             [
              0.7777777777777778,
              "#fb9f3a"
             ],
             [
              0.8888888888888888,
              "#fdca26"
             ],
             [
              1,
              "#f0f921"
             ]
            ],
            "type": "contour"
           }
          ],
          "contourcarpet": [
           {
            "colorbar": {
             "outlinewidth": 0,
             "ticks": ""
            },
            "type": "contourcarpet"
           }
          ],
          "heatmap": [
           {
            "colorbar": {
             "outlinewidth": 0,
             "ticks": ""
            },
            "colorscale": [
             [
              0,
              "#0d0887"
             ],
             [
              0.1111111111111111,
              "#46039f"
             ],
             [
              0.2222222222222222,
              "#7201a8"
             ],
             [
              0.3333333333333333,
              "#9c179e"
             ],
             [
              0.4444444444444444,
              "#bd3786"
             ],
             [
              0.5555555555555556,
              "#d8576b"
             ],
             [
              0.6666666666666666,
              "#ed7953"
             ],
             [
              0.7777777777777778,
              "#fb9f3a"
             ],
             [
              0.8888888888888888,
              "#fdca26"
             ],
             [
              1,
              "#f0f921"
             ]
            ],
            "type": "heatmap"
           }
          ],
          "histogram": [
           {
            "marker": {
             "pattern": {
              "fillmode": "overlay",
              "size": 10,
              "solidity": 0.2
             }
            },
            "type": "histogram"
           }
          ],
          "histogram2d": [
           {
            "colorbar": {
             "outlinewidth": 0,
             "ticks": ""
            },
            "colorscale": [
             [
              0,
              "#0d0887"
             ],
             [
              0.1111111111111111,
              "#46039f"
             ],
             [
              0.2222222222222222,
              "#7201a8"
             ],
             [
              0.3333333333333333,
              "#9c179e"
             ],
             [
              0.4444444444444444,
              "#bd3786"
             ],
             [
              0.5555555555555556,
              "#d8576b"
             ],
             [
              0.6666666666666666,
              "#ed7953"
             ],
             [
              0.7777777777777778,
              "#fb9f3a"
             ],
             [
              0.8888888888888888,
              "#fdca26"
             ],
             [
              1,
              "#f0f921"
             ]
            ],
            "type": "histogram2d"
           }
          ],
          "histogram2dcontour": [
           {
            "colorbar": {
             "outlinewidth": 0,
             "ticks": ""
            },
            "colorscale": [
             [
              0,
              "#0d0887"
             ],
             [
              0.1111111111111111,
              "#46039f"
             ],
             [
              0.2222222222222222,
              "#7201a8"
             ],
             [
              0.3333333333333333,
              "#9c179e"
             ],
             [
              0.4444444444444444,
              "#bd3786"
             ],
             [
              0.5555555555555556,
              "#d8576b"
             ],
             [
              0.6666666666666666,
              "#ed7953"
             ],
             [
              0.7777777777777778,
              "#fb9f3a"
             ],
             [
              0.8888888888888888,
              "#fdca26"
             ],
             [
              1,
              "#f0f921"
             ]
            ],
            "type": "histogram2dcontour"
           }
          ],
          "mesh3d": [
           {
            "colorbar": {
             "outlinewidth": 0,
             "ticks": ""
            },
            "type": "mesh3d"
           }
          ],
          "parcoords": [
           {
            "line": {
             "colorbar": {
              "outlinewidth": 0,
              "ticks": ""
             }
            },
            "type": "parcoords"
           }
          ],
          "pie": [
           {
            "automargin": true,
            "type": "pie"
           }
          ],
          "scatter": [
           {
            "fillpattern": {
             "fillmode": "overlay",
             "size": 10,
             "solidity": 0.2
            },
            "type": "scatter"
           }
          ],
          "scatter3d": [
           {
            "line": {
             "colorbar": {
              "outlinewidth": 0,
              "ticks": ""
             }
            },
            "marker": {
             "colorbar": {
              "outlinewidth": 0,
              "ticks": ""
             }
            },
            "type": "scatter3d"
           }
          ],
          "scattercarpet": [
           {
            "marker": {
             "colorbar": {
              "outlinewidth": 0,
              "ticks": ""
             }
            },
            "type": "scattercarpet"
           }
          ],
          "scattergeo": [
           {
            "marker": {
             "colorbar": {
              "outlinewidth": 0,
              "ticks": ""
             }
            },
            "type": "scattergeo"
           }
          ],
          "scattergl": [
           {
            "marker": {
             "colorbar": {
              "outlinewidth": 0,
              "ticks": ""
             }
            },
            "type": "scattergl"
           }
          ],
          "scattermap": [
           {
            "marker": {
             "colorbar": {
              "outlinewidth": 0,
              "ticks": ""
             }
            },
            "type": "scattermap"
           }
          ],
          "scattermapbox": [
           {
            "marker": {
             "colorbar": {
              "outlinewidth": 0,
              "ticks": ""
             }
            },
            "type": "scattermapbox"
           }
          ],
          "scatterpolar": [
           {
            "marker": {
             "colorbar": {
              "outlinewidth": 0,
              "ticks": ""
             }
            },
            "type": "scatterpolar"
           }
          ],
          "scatterpolargl": [
           {
            "marker": {
             "colorbar": {
              "outlinewidth": 0,
              "ticks": ""
             }
            },
            "type": "scatterpolargl"
           }
          ],
          "scatterternary": [
           {
            "marker": {
             "colorbar": {
              "outlinewidth": 0,
              "ticks": ""
             }
            },
            "type": "scatterternary"
           }
          ],
          "surface": [
           {
            "colorbar": {
             "outlinewidth": 0,
             "ticks": ""
            },
            "colorscale": [
             [
              0,
              "#0d0887"
             ],
             [
              0.1111111111111111,
              "#46039f"
             ],
             [
              0.2222222222222222,
              "#7201a8"
             ],
             [
              0.3333333333333333,
              "#9c179e"
             ],
             [
              0.4444444444444444,
              "#bd3786"
             ],
             [
              0.5555555555555556,
              "#d8576b"
             ],
             [
              0.6666666666666666,
              "#ed7953"
             ],
             [
              0.7777777777777778,
              "#fb9f3a"
             ],
             [
              0.8888888888888888,
              "#fdca26"
             ],
             [
              1,
              "#f0f921"
             ]
            ],
            "type": "surface"
           }
          ],
          "table": [
           {
            "cells": {
             "fill": {
              "color": "#EBF0F8"
             },
             "line": {
              "color": "white"
             }
            },
            "header": {
             "fill": {
              "color": "#C8D4E3"
             },
             "line": {
              "color": "white"
             }
            },
            "type": "table"
           }
          ]
         },
         "layout": {
          "annotationdefaults": {
           "arrowcolor": "#2a3f5f",
           "arrowhead": 0,
           "arrowwidth": 1
          },
          "autotypenumbers": "strict",
          "coloraxis": {
           "colorbar": {
            "outlinewidth": 0,
            "ticks": ""
           }
          },
          "colorscale": {
           "diverging": [
            [
             0,
             "#8e0152"
            ],
            [
             0.1,
             "#c51b7d"
            ],
            [
             0.2,
             "#de77ae"
            ],
            [
             0.3,
             "#f1b6da"
            ],
            [
             0.4,
             "#fde0ef"
            ],
            [
             0.5,
             "#f7f7f7"
            ],
            [
             0.6,
             "#e6f5d0"
            ],
            [
             0.7,
             "#b8e186"
            ],
            [
             0.8,
             "#7fbc41"
            ],
            [
             0.9,
             "#4d9221"
            ],
            [
             1,
             "#276419"
            ]
           ],
           "sequential": [
            [
             0,
             "#0d0887"
            ],
            [
             0.1111111111111111,
             "#46039f"
            ],
            [
             0.2222222222222222,
             "#7201a8"
            ],
            [
             0.3333333333333333,
             "#9c179e"
            ],
            [
             0.4444444444444444,
             "#bd3786"
            ],
            [
             0.5555555555555556,
             "#d8576b"
            ],
            [
             0.6666666666666666,
             "#ed7953"
            ],
            [
             0.7777777777777778,
             "#fb9f3a"
            ],
            [
             0.8888888888888888,
             "#fdca26"
            ],
            [
             1,
             "#f0f921"
            ]
           ],
           "sequentialminus": [
            [
             0,
             "#0d0887"
            ],
            [
             0.1111111111111111,
             "#46039f"
            ],
            [
             0.2222222222222222,
             "#7201a8"
            ],
            [
             0.3333333333333333,
             "#9c179e"
            ],
            [
             0.4444444444444444,
             "#bd3786"
            ],
            [
             0.5555555555555556,
             "#d8576b"
            ],
            [
             0.6666666666666666,
             "#ed7953"
            ],
            [
             0.7777777777777778,
             "#fb9f3a"
            ],
            [
             0.8888888888888888,
             "#fdca26"
            ],
            [
             1,
             "#f0f921"
            ]
           ]
          },
          "colorway": [
           "#636efa",
           "#EF553B",
           "#00cc96",
           "#ab63fa",
           "#FFA15A",
           "#19d3f3",
           "#FF6692",
           "#B6E880",
           "#FF97FF",
           "#FECB52"
          ],
          "font": {
           "color": "#2a3f5f"
          },
          "geo": {
           "bgcolor": "white",
           "lakecolor": "white",
           "landcolor": "#E5ECF6",
           "showlakes": true,
           "showland": true,
           "subunitcolor": "white"
          },
          "hoverlabel": {
           "align": "left"
          },
          "hovermode": "closest",
          "mapbox": {
           "style": "light"
          },
          "paper_bgcolor": "white",
          "plot_bgcolor": "#E5ECF6",
          "polar": {
           "angularaxis": {
            "gridcolor": "white",
            "linecolor": "white",
            "ticks": ""
           },
           "bgcolor": "#E5ECF6",
           "radialaxis": {
            "gridcolor": "white",
            "linecolor": "white",
            "ticks": ""
           }
          },
          "scene": {
           "xaxis": {
            "backgroundcolor": "#E5ECF6",
            "gridcolor": "white",
            "gridwidth": 2,
            "linecolor": "white",
            "showbackground": true,
            "ticks": "",
            "zerolinecolor": "white"
           },
           "yaxis": {
            "backgroundcolor": "#E5ECF6",
            "gridcolor": "white",
            "gridwidth": 2,
            "linecolor": "white",
            "showbackground": true,
            "ticks": "",
            "zerolinecolor": "white"
           },
           "zaxis": {
            "backgroundcolor": "#E5ECF6",
            "gridcolor": "white",
            "gridwidth": 2,
            "linecolor": "white",
            "showbackground": true,
            "ticks": "",
            "zerolinecolor": "white"
           }
          },
          "shapedefaults": {
           "line": {
            "color": "#2a3f5f"
           }
          },
          "ternary": {
           "aaxis": {
            "gridcolor": "white",
            "linecolor": "white",
            "ticks": ""
           },
           "baxis": {
            "gridcolor": "white",
            "linecolor": "white",
            "ticks": ""
           },
           "bgcolor": "#E5ECF6",
           "caxis": {
            "gridcolor": "white",
            "linecolor": "white",
            "ticks": ""
           }
          },
          "title": {
           "x": 0.05
          },
          "xaxis": {
           "automargin": true,
           "gridcolor": "white",
           "linecolor": "white",
           "ticks": "",
           "title": {
            "standoff": 15
           },
           "zerolinecolor": "white",
           "zerolinewidth": 2
          },
          "yaxis": {
           "automargin": true,
           "gridcolor": "white",
           "linecolor": "white",
           "ticks": "",
           "title": {
            "standoff": 15
           },
           "zerolinecolor": "white",
           "zerolinewidth": 2
          }
         }
        },
        "title": {
         "text": "Top 15 coeficientes más pequeños por |peso| - Ridge"
        },
        "xaxis": {
         "anchor": "y",
         "domain": [
          0,
          1
         ],
         "tickangle": -45,
         "tickfont": {
          "size": 10
         },
         "title": {
          "text": "feature"
         }
        },
        "yaxis": {
         "anchor": "x",
         "domain": [
          0,
          1
         ],
         "title": {
          "text": "coef"
         }
        }
       }
      }
     },
     "metadata": {},
     "output_type": "display_data"
    }
   ],
   "source": [
    "# Gráfico con plotly\n",
    "fig = px.bar(coefs_sorted.tail(15).reset_index().rename(columns={\"index\": \"feature\", 0: \"coef\", 1: \"value\"}),\n",
    "             x=coefs_sorted.tail(15).index, y=coefs_sorted.tail(15).values,\n",
    "             title=f\"Top 15 coeficientes más pequeños por |peso| - {best_model_name}\")\n",
    "# alternativo: construir DataFrame explícito para evitar problemas de nombres\n",
    "tail15 = coefs_sorted.tail(15).reset_index()\n",
    "tail15.columns = [\"feature\", \"coef\"]\n",
    "fig = px.bar(tail15, x=\"feature\", y=\"coef\", title=f\"Top 15 coeficientes más pequeños por |peso| - {best_model_name}\")\n",
    "fig.update_layout(xaxis_tickangle=-45, xaxis_tickfont_size=10)\n",
    "fig.show()"
   ]
  },
  {
   "cell_type": "markdown",
   "metadata": {
    "id": "UZu5jqkwvqu0"
   },
   "source": [
    "## 8) Predicción"
   ]
  },
  {
   "cell_type": "code",
   "execution_count": 40,
   "metadata": {
    "colab": {
     "base_uri": "https://localhost:8080/",
     "height": 380
    },
    "executionInfo": {
     "elapsed": 52,
     "status": "ok",
     "timestamp": 1761261978872,
     "user": {
      "displayName": "Marco Villarroel",
      "userId": "02234616539294282296"
     },
     "user_tz": 240
    },
    "id": "0XzjkvK_vxKk",
    "outputId": "7d054b3d-2912-4699-9153-f8808dd363b2"
   },
   "outputs": [
    {
     "name": "stdout",
     "output_type": "stream",
     "text": [
      "[Final] Ridge -> R2: 0.9261 | RMSE: 566782414.2128\n"
     ]
    },
    {
     "data": {
      "text/html": [
       "<div>\n",
       "<style scoped>\n",
       "    .dataframe tbody tr th:only-of-type {\n",
       "        vertical-align: middle;\n",
       "    }\n",
       "\n",
       "    .dataframe tbody tr th {\n",
       "        vertical-align: top;\n",
       "    }\n",
       "\n",
       "    .dataframe thead th {\n",
       "        text-align: right;\n",
       "    }\n",
       "</style>\n",
       "<table border=\"1\" class=\"dataframe\">\n",
       "  <thead>\n",
       "    <tr style=\"text-align: right;\">\n",
       "      <th></th>\n",
       "      <th>y_true</th>\n",
       "      <th>y_pred</th>\n",
       "    </tr>\n",
       "  </thead>\n",
       "  <tbody>\n",
       "    <tr>\n",
       "      <th>892</th>\n",
       "      <td>154500.0</td>\n",
       "      <td>151170.122532</td>\n",
       "    </tr>\n",
       "    <tr>\n",
       "      <th>1105</th>\n",
       "      <td>325000.0</td>\n",
       "      <td>309146.771141</td>\n",
       "    </tr>\n",
       "    <tr>\n",
       "      <th>413</th>\n",
       "      <td>115000.0</td>\n",
       "      <td>105323.494055</td>\n",
       "    </tr>\n",
       "    <tr>\n",
       "      <th>522</th>\n",
       "      <td>159000.0</td>\n",
       "      <td>148165.240493</td>\n",
       "    </tr>\n",
       "    <tr>\n",
       "      <th>1036</th>\n",
       "      <td>315500.0</td>\n",
       "      <td>322314.083543</td>\n",
       "    </tr>\n",
       "    <tr>\n",
       "      <th>614</th>\n",
       "      <td>75500.0</td>\n",
       "      <td>80770.277384</td>\n",
       "    </tr>\n",
       "    <tr>\n",
       "      <th>218</th>\n",
       "      <td>311500.0</td>\n",
       "      <td>242946.269580</td>\n",
       "    </tr>\n",
       "    <tr>\n",
       "      <th>1160</th>\n",
       "      <td>146000.0</td>\n",
       "      <td>144355.674083</td>\n",
       "    </tr>\n",
       "    <tr>\n",
       "      <th>649</th>\n",
       "      <td>84500.0</td>\n",
       "      <td>77679.992471</td>\n",
       "    </tr>\n",
       "    <tr>\n",
       "      <th>887</th>\n",
       "      <td>135500.0</td>\n",
       "      <td>138054.120710</td>\n",
       "    </tr>\n",
       "  </tbody>\n",
       "</table>\n",
       "</div>"
      ],
      "text/plain": [
       "        y_true         y_pred\n",
       "892   154500.0  151170.122532\n",
       "1105  325000.0  309146.771141\n",
       "413   115000.0  105323.494055\n",
       "522   159000.0  148165.240493\n",
       "1036  315500.0  322314.083543\n",
       "614    75500.0   80770.277384\n",
       "218   311500.0  242946.269580\n",
       "1160  146000.0  144355.674083\n",
       "649    84500.0   77679.992471\n",
       "887   135500.0  138054.120710"
      ]
     },
     "metadata": {},
     "output_type": "display_data"
    }
   ],
   "source": [
    "y_test_pred = best_pred\n",
    "if USE_LOG_TARGET:\n",
    "    y_test_true  = np.expm1(y_test)\n",
    "    y_test_predR = np.expm1(y_test_pred)\n",
    "else:\n",
    "    y_test_true  = y_test\n",
    "    y_test_predR = y_test_pred\n",
    "\n",
    "r2_final   = r2_score(y_test_true, y_test_predR)\n",
    "rmse_final = mean_squared_error(y_test_true, y_test_predR)\n",
    "print(f\"[Final] {best_model_name} -> R2: {r2_final:.4f} | RMSE: {rmse_final:.4f}\")\n",
    "\n",
    "pred_df = pd.DataFrame({\"y_true\": y_test_true, \"y_pred\": y_test_predR})\n",
    "display(pred_df.head(10))\n"
   ]
  },
  {
   "cell_type": "markdown",
   "metadata": {
    "id": "OfzXaIWcv1Rp"
   },
   "source": [
    "# **8.Conclusiones**"
   ]
  },
  {
   "cell_type": "code",
   "execution_count": 41,
   "metadata": {
    "colab": {
     "base_uri": "https://localhost:8080/"
    },
    "executionInfo": {
     "elapsed": 16,
     "status": "ok",
     "timestamp": 1761261978924,
     "user": {
      "displayName": "Marco Villarroel",
      "userId": "02234616539294282296"
     },
     "user_tz": 240
    },
    "id": "Laf4uVoev8R6",
    "outputId": "56d29c54-06e4-4b4a-d759-d6488a52b516"
   },
   "outputs": [
    {
     "name": "stdout",
     "output_type": "stream",
     "text": [
      "\n",
      "### Resultados finales\n",
      "\n",
      "R2 Scores:\n",
      "* Ridge:      0.9075\n",
      "* Lasso:      0.9005\n",
      "* ElasticNet: 0.9074\n",
      "\n",
      "Mejor modelo: Ridge\n",
      "\n",
      "Parámetros óptimos:\n",
      "* Ridge alpha: 1.778279\n",
      "* Lasso alpha: 0.001000\n",
      "* ElasticNet alpha: 0.001540, l1_ratio: 0.05\n",
      "\n"
     ]
    }
   ],
   "source": [
    "def print_conclusions():\n",
    "    txt = f\"\"\"\n",
    "### Resultados finales\n",
    "\n",
    "R2 Scores:\n",
    "* Ridge:      {r2_ridge:.4f}\n",
    "* Lasso:      {r2_lasso:.4f}\n",
    "* ElasticNet: {r2_enet:.4f}\n",
    "\n",
    "Mejor modelo: {best_model_name}\n",
    "\n",
    "Parámetros óptimos:\n",
    "* Ridge alpha: {ridge_cv.alpha_:.6f}\n",
    "* Lasso alpha: {lasso_cv.alpha_:.6f}\n",
    "* ElasticNet alpha: {enet_cv.alpha_:.6f}, l1_ratio: {enet_cv.l1_ratio_:.2f}\n",
    "\"\"\"\n",
    "    print(textwrap.dedent(txt))\n",
    "\n",
    "print_conclusions()"
   ]
  },
  {
   "cell_type": "markdown",
   "metadata": {
    "id": "INLjv8FeMkJE"
   },
   "source": [
    "## Conclusiones tecnicas\n",
    "El análisis de los resultados permite concluir que el modelo de Regresión Ridge demostró un rendimiento predictivo ligeramente superior en el conjunto de prueba, con un coeficiente de determinación (R²) de 0.9075. Este valor supera marginalmente a los obtenidos por los modelos Lasso (R² = 0.9005) y ElasticNet (R² = 0.9074). La evidencia sugiere que la estrategia de penalización L2 de Ridge consigue un equilibrio más efectivo entre el sesgo y la varianza, al regular los coeficientes de manera uniforme sin llegar a eliminar variables. Esta característica resulta ventajosa para preservar la información contenida en los predictores, mitigando el sobreajuste sin comprometer la capacidad explicativa del modelo.\n",
    "\n",
    "En contraste, el modelo Lasso, con su penalización L1, tiende a producir coeficientes exactamente iguales a cero, lo que conduce a modelos más simples e interpretables. Sin embargo, para este conjunto de datos en particular, esta selectividad implicó una reducción marginal en su poder predictivo. Por su parte, el modelo ElasticNet, que combina las penalizaciones L1 y L2, no logró superar el desempeño de Ridge, lo que indica que la incorporación de la capacidad de selección de variables de Lasso no aportó una ventaja significativa en esta aplicación.\n",
    "\n",
    "La robustez del modelo Ridge se ve respaldada por el valor de su hiperparámetro de regularización (α ≈ 1.78), que indica un nivel moderado de penalización. Este resultado refuerza la estabilidad del modelo frente a la multicolinealidad presente entre las variables predictoras más influyentes, como el área habitable, la capacidad del garaje, la superficie total del sótano y la calidad general de la vivienda.\n",
    "\n",
    "Finalmente, se observa una ligera discrepancia entre las métricas evaluadas en la escala transformada y la original. Esta diferencia es atribuible a la transformación logarítmica aplicada a la variable objetivo (SalePrice) para estabilizar la varianza y manejar su sesgo positivo. Mientras que en la escala logarítmica los errores relativos se distribuyen de manera más estable, la reversión a la escala original mediante la función exponencial amplifica los errores absolutos, lo que explica la reducción natural en el valor final de R². Este comportamiento es esperable y confirma la importancia de considerar la métrica en la escala de interés comercial para una evaluación realista del modelo."
   ]
  },
  {
   "cell_type": "markdown",
   "metadata": {
    "id": "ECI6xcTBMqdC"
   },
   "source": [
    "## Insights\n",
    "\n",
    "El coeficiente R² = 0.91 indica un excelente nivel de ajuste de la regresión, es decir, de los valores predichos respecto a los datos observados, por lo tanto, este modelo de regresión se puede emplear con mucha confianza para realizar operaciones en el mercado inmobiliario de Australia, tanto a favor de clientes naturales (familias o individuos que desean comprar o vender viviendas) como de clientes empresariales (empresas inmobiliarias y constructoras) y también para facilitar la toma de decisiones de política pública (relativa a régimen impositivo inmobiliario, urbanismo, revitalización urbana, mejoramiento de barrios, etc.).\n",
    "\n",
    "Un primer hallazgo importante de este ejercicio, es que el valor de venta de los bienes inmuebles está fuertemente influenciado, de manera negativa, por el material de los techos, específicamente los techos de arcilla o teja (RoofMatl_ClyTile); este aspecto revela una oportunidad de negocio interesante, especialmente para actores empresariales (privados o público-privados), puesto que podrían adquirir viviendas con techo de teja o arcilla a precios bajos, remodelarlas cambiando el material de la cubierta y techos, y reingresarlas al mercado inmobiliario a precios mucho más competitivos, recuperando la inversión y obteniendo ganancias, además de dinamizar el mercado inmobiliario.  \n",
    "\n",
    "Otro hallazgo interesante, es que la cercanía de los bienes inmuebles a parques o áreas verdes es un factor que le suma valor a las propiedades (Condition2_PosN), puesto que el signo negativo quiere decir que mientras menor sea la distanca de una vivienda a un parque o área verde, mayor es su precio de venta (relación inversa). En este sentido, la recomendación a nivel de política pública sería aumentar las áreas verdes urbanas como una estrategia para incrementar el valor de la propiedad inmobiliaria.  \n",
    "\n",
    "Por otro lado, variables del tipo Neighborhood revelan que la localizacióon en una u otra urbanización, incide en el valor de venta, en algunos casos de manera positiva y en otros de manera negativa, por lo tanto, la recomendación sería invertir en propiedades localizadas en las urbanizaciones de Stone Brook, Crawford y Northridge Heights, donde la localización es un factor que suma valor a los bienes inmuebles, y evitar invertir en las urbanizaciones de Edwards y Meadow Village, puesto que en éstas últimas su localización es un aspecto que las devalúa.  \n",
    "\n",
    "Otros aspectos menores, serían: (i) que el ladrillo expuesto en la fachada de las viviendas (Exterior1st_BrkFace) es un aspecto que le suma valor al precio de venta (muy probablemente tenga que ver con algún tipo de acabado, como revestimiento en forma de ladrillo o empleo de ladrillo \"gambote\", y no se trata de ladrillo expuesto por obra inconclusa); (ii) las viviendas que inicialmente fueron diseñadas como unifamiliares y que posteriormente fueron divididas (BldgType_2fmCon), así como viviendas vinculadas pero con escrituras separadas, por ejemplo en condominios (SaleCondition_Alloca), también están valoradas de manera positiva en el mercado australiano; finalmente (iii) viviendas nuevas (SaleType_New) son positivamente valoradas en el mercado inmobiliario.\n",
    "\n",
    "\n"
   ]
  }
 ],
 "metadata": {
  "colab": {
   "provenance": []
  },
  "kernelspec": {
   "display_name": "Python 3",
   "name": "python3"
  },
  "language_info": {
   "codemirror_mode": {
    "name": "ipython",
    "version": 3
   },
   "file_extension": ".py",
   "mimetype": "text/x-python",
   "name": "python",
   "nbconvert_exporter": "python",
   "pygments_lexer": "ipython3",
   "version": "3.11.9"
  }
 },
 "nbformat": 4,
 "nbformat_minor": 0
}
